{
 "cells": [
  {
   "cell_type": "markdown",
   "metadata": {},
   "source": [
    "# Feature engineering\n",
    "\n",
    "Based on chaters in Applied Predictive Modelling"
   ]
  },
  {
   "cell_type": "markdown",
   "metadata": {},
   "source": [
    "## Data processing\n",
    "\n",
    "- Data transformations for individual predictors\n",
    "\n",
    "- Data transformations for multiple predictors\n",
    "\n",
    "- Dealing with missing values\n",
    "\n",
    "- Removing predictors\n",
    "\n",
    "- Adding predictors\n",
    "\n",
    "- Binning predictors"
   ]
  },
  {
   "cell_type": "markdown",
   "metadata": {},
   "source": [
    "## Measuring predictor importance\n",
    "\n",
    "- Numeric outcomes\n",
    "\n",
    "- Categorical outcomes\n",
    "\n",
    "- Other approaches"
   ]
  },
  {
   "cell_type": "markdown",
   "metadata": {},
   "source": [
    "## Feature selection\n",
    "\n",
    "- Consequences of using non-informative predictors\n",
    "\n",
    "- Approaches for reducing the number of predictors\n",
    "\n",
    "- Wrapper methods\n",
    "\n",
    "- Filter methods\n",
    "\n",
    "- Selection bias"
   ]
  },
  {
   "cell_type": "markdown",
   "metadata": {},
   "source": [
    "## Factors that can affect model performance"
   ]
  },
  {
   "cell_type": "code",
   "execution_count": null,
   "metadata": {},
   "outputs": [],
   "source": []
  }
 ],
 "metadata": {
  "kernelspec": {
   "display_name": "habits",
   "language": "python",
   "name": "habits"
  },
  "language_info": {
   "codemirror_mode": {
    "name": "ipython",
    "version": 3
   },
   "file_extension": ".py",
   "mimetype": "text/x-python",
   "name": "python",
   "nbconvert_exporter": "python",
   "pygments_lexer": "ipython3",
   "version": "3.7.7"
  }
 },
 "nbformat": 4,
 "nbformat_minor": 4
}
