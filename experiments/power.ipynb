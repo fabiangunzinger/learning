{
 "cells": [
  {
   "cell_type": "markdown",
   "metadata": {},
   "source": [
    "Based on [this](https://deliveroo.engineering/2018/12/07/monte-carlo-power-analysis.html) post from Deliveroo engineering blog."
   ]
  },
  {
   "cell_type": "code",
   "execution_count": 10,
   "metadata": {},
   "outputs": [],
   "source": [
    "import numpy as np\n",
    "import pandas as pd\n",
    "import altair as alt\n",
    "\n",
    "from scipy.stats import norm, binom, mannwhitneyu\n",
    "from statsmodels.stats.weightstats import ttest_ind\n"
   ]
  },
  {
   "cell_type": "markdown",
   "metadata": {},
   "source": [
    "# t-test"
   ]
  },
  {
   "cell_type": "code",
   "execution_count": 11,
   "metadata": {},
   "outputs": [],
   "source": [
    "# Sample data would be actual data measured over a fixed period of time prior to our \n",
    "# experiment. For illustration purposes here we have generated data from a normal \n",
    "# distribution.\n",
    "sample_mean = 21.50\n",
    "sample_sd = 12.91\n",
    "sample_data = norm.rvs(loc=sample_mean, scale=sample_sd, size=20000)\n",
    "\n",
    "sample_sizes = range(250, 20000 + 1, 250) # Sample sizes we will test over\n",
    "alpha = 0.05 # Our fixed alpha\n",
    "sims = 20 # The number of simulations we will run per sample size\n",
    "# The minimum relative effect we will test for (3%). We could try multiple relative\n",
    "# effect is we are not sure what our minimum relative effect should be\n",
    "relative_effect = 1.03 \n",
    "alternative = \"two-sided\" # Is the alternative one-sided or two-sided \n",
    "\n",
    "power_dist = np.empty((len(sample_sizes), 2))\n",
    "for i in range(0, len(sample_sizes)): \n",
    "    N = sample_sizes[i]\n",
    "    \n",
    "    control_data = sample_data[0:N]\n",
    "    # Multiply the control data by the relative effect, this will shift the distribution\n",
    "    # of the variant left or right depending on the direction of the relative effect\n",
    "    variant_data = control_data * relative_effect \n",
    "    \n",
    "    significance_results = []\n",
    "    for j in range(0, sims):\n",
    "        # Randomly allocate the sample data to the control and variant\n",
    "        rv = binom.rvs(1, 0.5, size=N) \n",
    "        control_sample = control_data[rv == True] \n",
    "        variant_sample = variant_data[rv == False]\n",
    "        \n",
    "        # Use Welch's t-test, make no assumptions on tests for equal variances\n",
    "        test_result = ttest_ind(control_sample, variant_sample, \n",
    "                                alternative=alternative, usevar='unequal')\n",
    "        \n",
    "        # Test for significance\n",
    "        significance_results.append(test_result[1] <= alpha) \n",
    "    # The power is the number of times we have a significant result \n",
    "    # as we are assuming the alternative hypothesis is true\n",
    "    power_dist[i,] = [N, np.mean(significance_results)] "
   ]
  },
  {
   "cell_type": "code",
   "execution_count": 12,
   "metadata": {},
   "outputs": [
    {
     "data": {
      "text/html": [
       "\n",
       "<div id=\"altair-viz-5\"></div>\n",
       "<script type=\"text/javascript\">\n",
       "  (function(spec, embedOpt){\n",
       "    const outputDiv = document.getElementById(\"altair-viz-5\");\n",
       "    const paths = {\n",
       "      \"vega\": \"https://cdn.jsdelivr.net/npm//vega@5?noext\",\n",
       "      \"vega-lib\": \"https://cdn.jsdelivr.net/npm//vega-lib?noext\",\n",
       "      \"vega-lite\": \"https://cdn.jsdelivr.net/npm//vega-lite@4.0.0?noext\",\n",
       "      \"vega-embed\": \"https://cdn.jsdelivr.net/npm//vega-embed@6?noext\",\n",
       "    };\n",
       "\n",
       "    function loadScript(lib) {\n",
       "      return new Promise(function(resolve, reject) {\n",
       "        var s = document.createElement('script');\n",
       "        s.src = paths[lib];\n",
       "        s.async = true;\n",
       "        s.onload = () => resolve(paths[lib]);\n",
       "        s.onerror = () => reject(`Error loading script: ${paths[lib]}`);\n",
       "        document.getElementsByTagName(\"head\")[0].appendChild(s);\n",
       "      });\n",
       "    }\n",
       "\n",
       "    function showError(err) {\n",
       "      outputDiv.innerHTML = `<div class=\"error\" style=\"color:red;\">${err}</div>`;\n",
       "      throw err;\n",
       "    }\n",
       "\n",
       "    function displayChart(vegaEmbed) {\n",
       "      vegaEmbed(outputDiv, spec, embedOpt)\n",
       "        .catch(err => showError(`Javascript Error: ${err.message}<br>This usually means there's a typo in your chart specification. See the javascript console for the full traceback.`));\n",
       "    }\n",
       "\n",
       "    if(typeof define === \"function\" && define.amd) {\n",
       "      requirejs.config({paths});\n",
       "      require([\"vega-embed\"], displayChart, err => showError(`Error loading script: ${err.message}`));\n",
       "    } else if (typeof vegaEmbed === \"function\") {\n",
       "      displayChart(vegaEmbed);\n",
       "    } else {\n",
       "      loadScript(\"vega\")\n",
       "        .then(() => loadScript(\"vega-lite\"))\n",
       "        .then(() => loadScript(\"vega-embed\"))\n",
       "        .catch(showError)\n",
       "        .then(() => displayChart(vegaEmbed));\n",
       "    }\n",
       "  })({\"config\": {\"view\": {\"continuousWidth\": 400, \"continuousHeight\": 300}}, \"layer\": [{\"mark\": \"point\", \"encoding\": {\"x\": {\"type\": \"quantitative\", \"axis\": {\"title\": \"Sample size\"}, \"field\": \"sample_size\"}, \"y\": {\"type\": \"quantitative\", \"axis\": {\"title\": \"Power\"}, \"field\": \"power\"}}}, {\"mark\": \"line\", \"encoding\": {\"x\": {\"type\": \"quantitative\", \"axis\": {\"title\": \"Sample size\"}, \"field\": \"sample_size\"}, \"y\": {\"type\": \"quantitative\", \"axis\": {\"title\": \"Power\"}, \"field\": \"power\"}}, \"transform\": [{\"loess\": \"power\", \"on\": \"sample_size\"}]}, {\"mark\": \"rule\", \"encoding\": {\"y\": {\"type\": \"quantitative\", \"axis\": {\"title\": \"\"}, \"field\": \"a\"}}}], \"data\": {\"name\": \"data-a4a4186a4037d7ee89f94b8c32ac4524\"}, \"transform\": [{\"calculate\": \"0.8\", \"as\": \"a\"}], \"$schema\": \"https://vega.github.io/schema/vega-lite/v4.0.0.json\", \"datasets\": {\"data-a4a4186a4037d7ee89f94b8c32ac4524\": [{\"sample_size\": 250.0, \"power\": 0.0}, {\"sample_size\": 500.0, \"power\": 0.1}, {\"sample_size\": 750.0, \"power\": 0.15}, {\"sample_size\": 1000.0, \"power\": 0.05}, {\"sample_size\": 1250.0, \"power\": 0.25}, {\"sample_size\": 1500.0, \"power\": 0.0}, {\"sample_size\": 1750.0, \"power\": 0.2}, {\"sample_size\": 2000.0, \"power\": 0.25}, {\"sample_size\": 2250.0, \"power\": 0.1}, {\"sample_size\": 2500.0, \"power\": 0.15}, {\"sample_size\": 2750.0, \"power\": 0.25}, {\"sample_size\": 3000.0, \"power\": 0.3}, {\"sample_size\": 3250.0, \"power\": 0.4}, {\"sample_size\": 3500.0, \"power\": 0.35}, {\"sample_size\": 3750.0, \"power\": 0.2}, {\"sample_size\": 4000.0, \"power\": 0.3}, {\"sample_size\": 4250.0, \"power\": 0.55}, {\"sample_size\": 4500.0, \"power\": 0.35}, {\"sample_size\": 4750.0, \"power\": 0.4}, {\"sample_size\": 5000.0, \"power\": 0.3}, {\"sample_size\": 5250.0, \"power\": 0.65}, {\"sample_size\": 5500.0, \"power\": 0.45}, {\"sample_size\": 5750.0, \"power\": 0.25}, {\"sample_size\": 6000.0, \"power\": 0.45}, {\"sample_size\": 6250.0, \"power\": 0.55}, {\"sample_size\": 6500.0, \"power\": 0.6}, {\"sample_size\": 6750.0, \"power\": 0.35}, {\"sample_size\": 7000.0, \"power\": 0.6}, {\"sample_size\": 7250.0, \"power\": 0.45}, {\"sample_size\": 7500.0, \"power\": 0.6}, {\"sample_size\": 7750.0, \"power\": 0.7}, {\"sample_size\": 8000.0, \"power\": 0.4}, {\"sample_size\": 8250.0, \"power\": 0.8}, {\"sample_size\": 8500.0, \"power\": 0.7}, {\"sample_size\": 8750.0, \"power\": 0.75}, {\"sample_size\": 9000.0, \"power\": 0.65}, {\"sample_size\": 9250.0, \"power\": 0.5}, {\"sample_size\": 9500.0, \"power\": 0.65}, {\"sample_size\": 9750.0, \"power\": 0.65}, {\"sample_size\": 10000.0, \"power\": 0.6}, {\"sample_size\": 10250.0, \"power\": 0.7}, {\"sample_size\": 10500.0, \"power\": 0.65}, {\"sample_size\": 10750.0, \"power\": 0.7}, {\"sample_size\": 11000.0, \"power\": 0.8}, {\"sample_size\": 11250.0, \"power\": 0.5}, {\"sample_size\": 11500.0, \"power\": 0.75}, {\"sample_size\": 11750.0, \"power\": 0.85}, {\"sample_size\": 12000.0, \"power\": 0.85}, {\"sample_size\": 12250.0, \"power\": 0.85}, {\"sample_size\": 12500.0, \"power\": 0.85}, {\"sample_size\": 12750.0, \"power\": 0.8}, {\"sample_size\": 13000.0, \"power\": 0.8}, {\"sample_size\": 13250.0, \"power\": 0.9}, {\"sample_size\": 13500.0, \"power\": 0.85}, {\"sample_size\": 13750.0, \"power\": 0.85}, {\"sample_size\": 14000.0, \"power\": 0.9}, {\"sample_size\": 14250.0, \"power\": 0.75}, {\"sample_size\": 14500.0, \"power\": 0.8}, {\"sample_size\": 14750.0, \"power\": 0.85}, {\"sample_size\": 15000.0, \"power\": 0.95}, {\"sample_size\": 15250.0, \"power\": 0.9}, {\"sample_size\": 15500.0, \"power\": 0.8}, {\"sample_size\": 15750.0, \"power\": 0.95}, {\"sample_size\": 16000.0, \"power\": 0.85}, {\"sample_size\": 16250.0, \"power\": 0.85}, {\"sample_size\": 16500.0, \"power\": 0.8}, {\"sample_size\": 16750.0, \"power\": 1.0}, {\"sample_size\": 17000.0, \"power\": 0.85}, {\"sample_size\": 17250.0, \"power\": 0.95}, {\"sample_size\": 17500.0, \"power\": 0.95}, {\"sample_size\": 17750.0, \"power\": 0.95}, {\"sample_size\": 18000.0, \"power\": 0.9}, {\"sample_size\": 18250.0, \"power\": 1.0}, {\"sample_size\": 18500.0, \"power\": 0.95}, {\"sample_size\": 18750.0, \"power\": 0.8}, {\"sample_size\": 19000.0, \"power\": 0.7}, {\"sample_size\": 19250.0, \"power\": 0.95}, {\"sample_size\": 19500.0, \"power\": 1.0}, {\"sample_size\": 19750.0, \"power\": 1.0}, {\"sample_size\": 20000.0, \"power\": 0.85}]}}, {\"mode\": \"vega-lite\"});\n",
       "</script>"
      ],
      "text/plain": [
       "alt.LayerChart(...)"
      ]
     },
     "execution_count": 12,
     "metadata": {},
     "output_type": "execute_result"
    }
   ],
   "source": [
    "power_dist = pd.DataFrame(power_dist, columns=['sample_size', 'power'])\n",
    "\n",
    "source = power_dist\n",
    "\n",
    "tbase = alt.Chart().encode(\n",
    "    x=alt.X('sample_size', axis=alt.Axis(title='Sample size')),\n",
    "    y=alt.Y('power', axis=alt.Axis(title='Power'))\n",
    ")\n",
    "\n",
    "hline = alt.Chart().mark_rule().encode(\n",
    "    y=alt.Y('a:Q', axis=alt.Axis(title='')),\n",
    "\n",
    ")\n",
    "\n",
    "alt.layer(\n",
    "    tbase.mark_point(),\n",
    "    tbase.transform_loess('sample_size', 'power').mark_line(),\n",
    "    hline,\n",
    "    data=source\n",
    ").transform_calculate(a=\"0.8\")"
   ]
  },
  {
   "cell_type": "markdown",
   "metadata": {},
   "source": [
    "# t and U test"
   ]
  },
  {
   "cell_type": "code",
   "execution_count": 13,
   "metadata": {},
   "outputs": [],
   "source": [
    "# Sample data would be actual data measured over a fixed period of time prior to our \n",
    "# experiment. For illustration purposes here we have generated data from a normal \n",
    "# distribution.\n",
    "sample_mean = 21.50\n",
    "sample_sd = 12.91\n",
    "sample_data = norm.rvs(loc=sample_mean, scale=sample_sd, size=20000)\n",
    "\n",
    "sample_sizes = range(250, 20000 + 1, 250) # Sample sizes we will test over\n",
    "alpha = 0.05 # Our fixed alpha\n",
    "sims = 20 # The number of simulations we will run per sample size\n",
    "# The minimum relative effect we will test for (3%). We could try multiple relative\n",
    "# effect is we are not sure what our minimum relative effect should be\n",
    "relative_effect = 1.03 \n",
    "alternative = \"two-sided\" # Is the alternative one-sided or two-sided \n",
    "\n",
    "power_dist = np.empty((len(sample_sizes), 3))\n",
    "for i in range(0, len(sample_sizes)): \n",
    "    N = sample_sizes[i]\n",
    "    \n",
    "    control_data = sample_data[0:N]\n",
    "    # Multiply the control data by the relative effect, this will shift the distribution\n",
    "    # of the variant left or right depending on the direction of the relative effect\n",
    "    variant_data = control_data * relative_effect \n",
    "    \n",
    "    significance_tresults = []\n",
    "    significance_uresults = []\n",
    "    for j in range(0, sims):\n",
    "        # Randomly allocate the sample data to the control and variant\n",
    "        rv = binom.rvs(1, 0.5, size=N) \n",
    "        control_sample = control_data[rv == True] \n",
    "        variant_sample = variant_data[rv == False]\n",
    "        \n",
    "        # Use Welch's t-test, make no assumptions on tests for equal variances\n",
    "        ttest_result = ttest_ind(control_sample, variant_sample, \n",
    "                                alternative=alternative, usevar='unequal')\n",
    "        # Use Mann-Whitney U-test\n",
    "        utest_result = mannwhitneyu(control_sample, variant_sample, \n",
    "                                   alternative=alternative)\n",
    "        \n",
    "        # Test for significance\n",
    "        significance_tresults.append(ttest_result[1] <= alpha)\n",
    "        significance_uresults.append(utest_result[1] <= alpha)\n",
    "        \n",
    "    # The power is the number of times we have a significant result \n",
    "    # as we are assuming the alternative hypothesis is true\n",
    "    power_dist[i,] = [N, np.mean(significance_tresults), np.mean(significance_uresults)] "
   ]
  },
  {
   "cell_type": "code",
   "execution_count": 14,
   "metadata": {
    "scrolled": true
   },
   "outputs": [],
   "source": [
    "power_dist = pd.DataFrame(power_dist, columns=['sample_size', 'tpower', 'upower'])\n",
    "power_dist = power_dist.melt(id_vars='sample_size', value_vars=['tpower', 'upower'], var_name='test', value_name='power')\n",
    "labels = {'tpower':'MC Simulation t-test',\n",
    "            'upower': 'MC Simulation MWW U-test'}\n",
    "power_dist['test'].replace(labels, inplace=True)"
   ]
  },
  {
   "cell_type": "code",
   "execution_count": 15,
   "metadata": {},
   "outputs": [
    {
     "data": {
      "text/html": [
       "<div>\n",
       "<style scoped>\n",
       "    .dataframe tbody tr th:only-of-type {\n",
       "        vertical-align: middle;\n",
       "    }\n",
       "\n",
       "    .dataframe tbody tr th {\n",
       "        vertical-align: top;\n",
       "    }\n",
       "\n",
       "    .dataframe thead th {\n",
       "        text-align: right;\n",
       "    }\n",
       "</style>\n",
       "<table border=\"1\" class=\"dataframe\">\n",
       "  <thead>\n",
       "    <tr style=\"text-align: right;\">\n",
       "      <th></th>\n",
       "      <th>sample_size</th>\n",
       "      <th>test</th>\n",
       "      <th>power</th>\n",
       "    </tr>\n",
       "  </thead>\n",
       "  <tbody>\n",
       "    <tr>\n",
       "      <th>0</th>\n",
       "      <td>250.0</td>\n",
       "      <td>MC Simulation t-test</td>\n",
       "      <td>0.05</td>\n",
       "    </tr>\n",
       "    <tr>\n",
       "      <th>1</th>\n",
       "      <td>500.0</td>\n",
       "      <td>MC Simulation t-test</td>\n",
       "      <td>0.15</td>\n",
       "    </tr>\n",
       "    <tr>\n",
       "      <th>2</th>\n",
       "      <td>750.0</td>\n",
       "      <td>MC Simulation t-test</td>\n",
       "      <td>0.10</td>\n",
       "    </tr>\n",
       "    <tr>\n",
       "      <th>3</th>\n",
       "      <td>1000.0</td>\n",
       "      <td>MC Simulation t-test</td>\n",
       "      <td>0.05</td>\n",
       "    </tr>\n",
       "    <tr>\n",
       "      <th>4</th>\n",
       "      <td>1250.0</td>\n",
       "      <td>MC Simulation t-test</td>\n",
       "      <td>0.15</td>\n",
       "    </tr>\n",
       "  </tbody>\n",
       "</table>\n",
       "</div>"
      ],
      "text/plain": [
       "   sample_size                  test  power\n",
       "0        250.0  MC Simulation t-test   0.05\n",
       "1        500.0  MC Simulation t-test   0.15\n",
       "2        750.0  MC Simulation t-test   0.10\n",
       "3       1000.0  MC Simulation t-test   0.05\n",
       "4       1250.0  MC Simulation t-test   0.15"
      ]
     },
     "execution_count": 15,
     "metadata": {},
     "output_type": "execute_result"
    }
   ],
   "source": [
    "power_dist.head()"
   ]
  },
  {
   "cell_type": "code",
   "execution_count": 16,
   "metadata": {},
   "outputs": [
    {
     "data": {
      "text/html": [
       "\n",
       "<div id=\"altair-viz-6\"></div>\n",
       "<script type=\"text/javascript\">\n",
       "  (function(spec, embedOpt){\n",
       "    const outputDiv = document.getElementById(\"altair-viz-6\");\n",
       "    const paths = {\n",
       "      \"vega\": \"https://cdn.jsdelivr.net/npm//vega@5?noext\",\n",
       "      \"vega-lib\": \"https://cdn.jsdelivr.net/npm//vega-lib?noext\",\n",
       "      \"vega-lite\": \"https://cdn.jsdelivr.net/npm//vega-lite@4.0.0?noext\",\n",
       "      \"vega-embed\": \"https://cdn.jsdelivr.net/npm//vega-embed@6?noext\",\n",
       "    };\n",
       "\n",
       "    function loadScript(lib) {\n",
       "      return new Promise(function(resolve, reject) {\n",
       "        var s = document.createElement('script');\n",
       "        s.src = paths[lib];\n",
       "        s.async = true;\n",
       "        s.onload = () => resolve(paths[lib]);\n",
       "        s.onerror = () => reject(`Error loading script: ${paths[lib]}`);\n",
       "        document.getElementsByTagName(\"head\")[0].appendChild(s);\n",
       "      });\n",
       "    }\n",
       "\n",
       "    function showError(err) {\n",
       "      outputDiv.innerHTML = `<div class=\"error\" style=\"color:red;\">${err}</div>`;\n",
       "      throw err;\n",
       "    }\n",
       "\n",
       "    function displayChart(vegaEmbed) {\n",
       "      vegaEmbed(outputDiv, spec, embedOpt)\n",
       "        .catch(err => showError(`Javascript Error: ${err.message}<br>This usually means there's a typo in your chart specification. See the javascript console for the full traceback.`));\n",
       "    }\n",
       "\n",
       "    if(typeof define === \"function\" && define.amd) {\n",
       "      requirejs.config({paths});\n",
       "      require([\"vega-embed\"], displayChart, err => showError(`Error loading script: ${err.message}`));\n",
       "    } else if (typeof vegaEmbed === \"function\") {\n",
       "      displayChart(vegaEmbed);\n",
       "    } else {\n",
       "      loadScript(\"vega\")\n",
       "        .then(() => loadScript(\"vega-lite\"))\n",
       "        .then(() => loadScript(\"vega-embed\"))\n",
       "        .catch(showError)\n",
       "        .then(() => displayChart(vegaEmbed));\n",
       "    }\n",
       "  })({\"config\": {\"view\": {\"continuousWidth\": 400, \"continuousHeight\": 300}}, \"layer\": [{\"mark\": \"point\", \"encoding\": {\"color\": {\"type\": \"nominal\", \"field\": \"test\", \"legend\": {\"title\": \"\"}}, \"x\": {\"type\": \"quantitative\", \"axis\": {\"title\": \"Sample size\"}, \"field\": \"sample_size\"}, \"y\": {\"type\": \"quantitative\", \"axis\": {\"title\": \"Power\"}, \"field\": \"power\"}}}, {\"mark\": \"line\", \"encoding\": {\"color\": {\"type\": \"nominal\", \"field\": \"test\", \"legend\": {\"title\": \"\"}}, \"x\": {\"type\": \"quantitative\", \"axis\": {\"title\": \"Sample size\"}, \"field\": \"sample_size\"}, \"y\": {\"type\": \"quantitative\", \"axis\": {\"title\": \"Power\"}, \"field\": \"power\"}}, \"transform\": [{\"loess\": \"power\", \"on\": \"sample_size\", \"groupby\": [\"test\"]}]}, {\"mark\": \"rule\", \"encoding\": {\"y\": {\"type\": \"quantitative\", \"axis\": {\"title\": \"\"}, \"field\": \"a\"}}, \"transform\": [{\"calculate\": \"0.8\", \"as\": \"a\"}]}], \"data\": {\"name\": \"data-e52d609fa8855e877eef85ce23809ccc\"}, \"$schema\": \"https://vega.github.io/schema/vega-lite/v4.0.0.json\", \"datasets\": {\"data-e52d609fa8855e877eef85ce23809ccc\": [{\"sample_size\": 250.0, \"test\": \"MC Simulation t-test\", \"power\": 0.05}, {\"sample_size\": 500.0, \"test\": \"MC Simulation t-test\", \"power\": 0.15}, {\"sample_size\": 750.0, \"test\": \"MC Simulation t-test\", \"power\": 0.1}, {\"sample_size\": 1000.0, \"test\": \"MC Simulation t-test\", \"power\": 0.05}, {\"sample_size\": 1250.0, \"test\": \"MC Simulation t-test\", \"power\": 0.15}, {\"sample_size\": 1500.0, \"test\": \"MC Simulation t-test\", \"power\": 0.2}, {\"sample_size\": 1750.0, \"test\": \"MC Simulation t-test\", \"power\": 0.15}, {\"sample_size\": 2000.0, \"test\": \"MC Simulation t-test\", \"power\": 0.1}, {\"sample_size\": 2250.0, \"test\": \"MC Simulation t-test\", \"power\": 0.2}, {\"sample_size\": 2500.0, \"test\": \"MC Simulation t-test\", \"power\": 0.15}, {\"sample_size\": 2750.0, \"test\": \"MC Simulation t-test\", \"power\": 0.15}, {\"sample_size\": 3000.0, \"test\": \"MC Simulation t-test\", \"power\": 0.2}, {\"sample_size\": 3250.0, \"test\": \"MC Simulation t-test\", \"power\": 0.25}, {\"sample_size\": 3500.0, \"test\": \"MC Simulation t-test\", \"power\": 0.35}, {\"sample_size\": 3750.0, \"test\": \"MC Simulation t-test\", \"power\": 0.2}, {\"sample_size\": 4000.0, \"test\": \"MC Simulation t-test\", \"power\": 0.2}, {\"sample_size\": 4250.0, \"test\": \"MC Simulation t-test\", \"power\": 0.4}, {\"sample_size\": 4500.0, \"test\": \"MC Simulation t-test\", \"power\": 0.4}, {\"sample_size\": 4750.0, \"test\": \"MC Simulation t-test\", \"power\": 0.4}, {\"sample_size\": 5000.0, \"test\": \"MC Simulation t-test\", \"power\": 0.35}, {\"sample_size\": 5250.0, \"test\": \"MC Simulation t-test\", \"power\": 0.45}, {\"sample_size\": 5500.0, \"test\": \"MC Simulation t-test\", \"power\": 0.4}, {\"sample_size\": 5750.0, \"test\": \"MC Simulation t-test\", \"power\": 0.5}, {\"sample_size\": 6000.0, \"test\": \"MC Simulation t-test\", \"power\": 0.45}, {\"sample_size\": 6250.0, \"test\": \"MC Simulation t-test\", \"power\": 0.5}, {\"sample_size\": 6500.0, \"test\": \"MC Simulation t-test\", \"power\": 0.5}, {\"sample_size\": 6750.0, \"test\": \"MC Simulation t-test\", \"power\": 0.55}, {\"sample_size\": 7000.0, \"test\": \"MC Simulation t-test\", \"power\": 0.45}, {\"sample_size\": 7250.0, \"test\": \"MC Simulation t-test\", \"power\": 0.75}, {\"sample_size\": 7500.0, \"test\": \"MC Simulation t-test\", \"power\": 0.45}, {\"sample_size\": 7750.0, \"test\": \"MC Simulation t-test\", \"power\": 0.7}, {\"sample_size\": 8000.0, \"test\": \"MC Simulation t-test\", \"power\": 0.75}, {\"sample_size\": 8250.0, \"test\": \"MC Simulation t-test\", \"power\": 0.3}, {\"sample_size\": 8500.0, \"test\": \"MC Simulation t-test\", \"power\": 0.5}, {\"sample_size\": 8750.0, \"test\": \"MC Simulation t-test\", \"power\": 0.65}, {\"sample_size\": 9000.0, \"test\": \"MC Simulation t-test\", \"power\": 0.8}, {\"sample_size\": 9250.0, \"test\": \"MC Simulation t-test\", \"power\": 0.6}, {\"sample_size\": 9500.0, \"test\": \"MC Simulation t-test\", \"power\": 0.9}, {\"sample_size\": 9750.0, \"test\": \"MC Simulation t-test\", \"power\": 0.8}, {\"sample_size\": 10000.0, \"test\": \"MC Simulation t-test\", \"power\": 0.8}, {\"sample_size\": 10250.0, \"test\": \"MC Simulation t-test\", \"power\": 0.8}, {\"sample_size\": 10500.0, \"test\": \"MC Simulation t-test\", \"power\": 0.8}, {\"sample_size\": 10750.0, \"test\": \"MC Simulation t-test\", \"power\": 0.65}, {\"sample_size\": 11000.0, \"test\": \"MC Simulation t-test\", \"power\": 0.8}, {\"sample_size\": 11250.0, \"test\": \"MC Simulation t-test\", \"power\": 0.8}, {\"sample_size\": 11500.0, \"test\": \"MC Simulation t-test\", \"power\": 0.85}, {\"sample_size\": 11750.0, \"test\": \"MC Simulation t-test\", \"power\": 0.75}, {\"sample_size\": 12000.0, \"test\": \"MC Simulation t-test\", \"power\": 0.75}, {\"sample_size\": 12250.0, \"test\": \"MC Simulation t-test\", \"power\": 0.75}, {\"sample_size\": 12500.0, \"test\": \"MC Simulation t-test\", \"power\": 0.85}, {\"sample_size\": 12750.0, \"test\": \"MC Simulation t-test\", \"power\": 0.8}, {\"sample_size\": 13000.0, \"test\": \"MC Simulation t-test\", \"power\": 0.95}, {\"sample_size\": 13250.0, \"test\": \"MC Simulation t-test\", \"power\": 0.9}, {\"sample_size\": 13500.0, \"test\": \"MC Simulation t-test\", \"power\": 0.8}, {\"sample_size\": 13750.0, \"test\": \"MC Simulation t-test\", \"power\": 0.85}, {\"sample_size\": 14000.0, \"test\": \"MC Simulation t-test\", \"power\": 0.85}, {\"sample_size\": 14250.0, \"test\": \"MC Simulation t-test\", \"power\": 0.85}, {\"sample_size\": 14500.0, \"test\": \"MC Simulation t-test\", \"power\": 0.8}, {\"sample_size\": 14750.0, \"test\": \"MC Simulation t-test\", \"power\": 0.8}, {\"sample_size\": 15000.0, \"test\": \"MC Simulation t-test\", \"power\": 0.95}, {\"sample_size\": 15250.0, \"test\": \"MC Simulation t-test\", \"power\": 1.0}, {\"sample_size\": 15500.0, \"test\": \"MC Simulation t-test\", \"power\": 0.85}, {\"sample_size\": 15750.0, \"test\": \"MC Simulation t-test\", \"power\": 0.95}, {\"sample_size\": 16000.0, \"test\": \"MC Simulation t-test\", \"power\": 0.9}, {\"sample_size\": 16250.0, \"test\": \"MC Simulation t-test\", \"power\": 0.9}, {\"sample_size\": 16500.0, \"test\": \"MC Simulation t-test\", \"power\": 1.0}, {\"sample_size\": 16750.0, \"test\": \"MC Simulation t-test\", \"power\": 0.9}, {\"sample_size\": 17000.0, \"test\": \"MC Simulation t-test\", \"power\": 0.85}, {\"sample_size\": 17250.0, \"test\": \"MC Simulation t-test\", \"power\": 0.9}, {\"sample_size\": 17500.0, \"test\": \"MC Simulation t-test\", \"power\": 0.85}, {\"sample_size\": 17750.0, \"test\": \"MC Simulation t-test\", \"power\": 0.75}, {\"sample_size\": 18000.0, \"test\": \"MC Simulation t-test\", \"power\": 0.7}, {\"sample_size\": 18250.0, \"test\": \"MC Simulation t-test\", \"power\": 0.95}, {\"sample_size\": 18500.0, \"test\": \"MC Simulation t-test\", \"power\": 0.95}, {\"sample_size\": 18750.0, \"test\": \"MC Simulation t-test\", \"power\": 0.85}, {\"sample_size\": 19000.0, \"test\": \"MC Simulation t-test\", \"power\": 0.75}, {\"sample_size\": 19250.0, \"test\": \"MC Simulation t-test\", \"power\": 0.95}, {\"sample_size\": 19500.0, \"test\": \"MC Simulation t-test\", \"power\": 0.95}, {\"sample_size\": 19750.0, \"test\": \"MC Simulation t-test\", \"power\": 0.95}, {\"sample_size\": 20000.0, \"test\": \"MC Simulation t-test\", \"power\": 0.95}, {\"sample_size\": 250.0, \"test\": \"MC Simulation MWW U-test\", \"power\": 0.05}, {\"sample_size\": 500.0, \"test\": \"MC Simulation MWW U-test\", \"power\": 0.05}, {\"sample_size\": 750.0, \"test\": \"MC Simulation MWW U-test\", \"power\": 0.25}, {\"sample_size\": 1000.0, \"test\": \"MC Simulation MWW U-test\", \"power\": 0.05}, {\"sample_size\": 1250.0, \"test\": \"MC Simulation MWW U-test\", \"power\": 0.15}, {\"sample_size\": 1500.0, \"test\": \"MC Simulation MWW U-test\", \"power\": 0.25}, {\"sample_size\": 1750.0, \"test\": \"MC Simulation MWW U-test\", \"power\": 0.15}, {\"sample_size\": 2000.0, \"test\": \"MC Simulation MWW U-test\", \"power\": 0.1}, {\"sample_size\": 2250.0, \"test\": \"MC Simulation MWW U-test\", \"power\": 0.2}, {\"sample_size\": 2500.0, \"test\": \"MC Simulation MWW U-test\", \"power\": 0.2}, {\"sample_size\": 2750.0, \"test\": \"MC Simulation MWW U-test\", \"power\": 0.15}, {\"sample_size\": 3000.0, \"test\": \"MC Simulation MWW U-test\", \"power\": 0.2}, {\"sample_size\": 3250.0, \"test\": \"MC Simulation MWW U-test\", \"power\": 0.2}, {\"sample_size\": 3500.0, \"test\": \"MC Simulation MWW U-test\", \"power\": 0.4}, {\"sample_size\": 3750.0, \"test\": \"MC Simulation MWW U-test\", \"power\": 0.2}, {\"sample_size\": 4000.0, \"test\": \"MC Simulation MWW U-test\", \"power\": 0.25}, {\"sample_size\": 4250.0, \"test\": \"MC Simulation MWW U-test\", \"power\": 0.4}, {\"sample_size\": 4500.0, \"test\": \"MC Simulation MWW U-test\", \"power\": 0.4}, {\"sample_size\": 4750.0, \"test\": \"MC Simulation MWW U-test\", \"power\": 0.3}, {\"sample_size\": 5000.0, \"test\": \"MC Simulation MWW U-test\", \"power\": 0.4}, {\"sample_size\": 5250.0, \"test\": \"MC Simulation MWW U-test\", \"power\": 0.5}, {\"sample_size\": 5500.0, \"test\": \"MC Simulation MWW U-test\", \"power\": 0.4}, {\"sample_size\": 5750.0, \"test\": \"MC Simulation MWW U-test\", \"power\": 0.45}, {\"sample_size\": 6000.0, \"test\": \"MC Simulation MWW U-test\", \"power\": 0.35}, {\"sample_size\": 6250.0, \"test\": \"MC Simulation MWW U-test\", \"power\": 0.4}, {\"sample_size\": 6500.0, \"test\": \"MC Simulation MWW U-test\", \"power\": 0.45}, {\"sample_size\": 6750.0, \"test\": \"MC Simulation MWW U-test\", \"power\": 0.55}, {\"sample_size\": 7000.0, \"test\": \"MC Simulation MWW U-test\", \"power\": 0.45}, {\"sample_size\": 7250.0, \"test\": \"MC Simulation MWW U-test\", \"power\": 0.7}, {\"sample_size\": 7500.0, \"test\": \"MC Simulation MWW U-test\", \"power\": 0.5}, {\"sample_size\": 7750.0, \"test\": \"MC Simulation MWW U-test\", \"power\": 0.6}, {\"sample_size\": 8000.0, \"test\": \"MC Simulation MWW U-test\", \"power\": 0.65}, {\"sample_size\": 8250.0, \"test\": \"MC Simulation MWW U-test\", \"power\": 0.3}, {\"sample_size\": 8500.0, \"test\": \"MC Simulation MWW U-test\", \"power\": 0.6}, {\"sample_size\": 8750.0, \"test\": \"MC Simulation MWW U-test\", \"power\": 0.65}, {\"sample_size\": 9000.0, \"test\": \"MC Simulation MWW U-test\", \"power\": 0.8}, {\"sample_size\": 9250.0, \"test\": \"MC Simulation MWW U-test\", \"power\": 0.6}, {\"sample_size\": 9500.0, \"test\": \"MC Simulation MWW U-test\", \"power\": 0.75}, {\"sample_size\": 9750.0, \"test\": \"MC Simulation MWW U-test\", \"power\": 0.8}, {\"sample_size\": 10000.0, \"test\": \"MC Simulation MWW U-test\", \"power\": 0.8}, {\"sample_size\": 10250.0, \"test\": \"MC Simulation MWW U-test\", \"power\": 0.8}, {\"sample_size\": 10500.0, \"test\": \"MC Simulation MWW U-test\", \"power\": 0.8}, {\"sample_size\": 10750.0, \"test\": \"MC Simulation MWW U-test\", \"power\": 0.7}, {\"sample_size\": 11000.0, \"test\": \"MC Simulation MWW U-test\", \"power\": 0.75}, {\"sample_size\": 11250.0, \"test\": \"MC Simulation MWW U-test\", \"power\": 0.75}, {\"sample_size\": 11500.0, \"test\": \"MC Simulation MWW U-test\", \"power\": 0.85}, {\"sample_size\": 11750.0, \"test\": \"MC Simulation MWW U-test\", \"power\": 0.75}, {\"sample_size\": 12000.0, \"test\": \"MC Simulation MWW U-test\", \"power\": 0.75}, {\"sample_size\": 12250.0, \"test\": \"MC Simulation MWW U-test\", \"power\": 0.65}, {\"sample_size\": 12500.0, \"test\": \"MC Simulation MWW U-test\", \"power\": 0.75}, {\"sample_size\": 12750.0, \"test\": \"MC Simulation MWW U-test\", \"power\": 0.8}, {\"sample_size\": 13000.0, \"test\": \"MC Simulation MWW U-test\", \"power\": 0.85}, {\"sample_size\": 13250.0, \"test\": \"MC Simulation MWW U-test\", \"power\": 0.8}, {\"sample_size\": 13500.0, \"test\": \"MC Simulation MWW U-test\", \"power\": 0.8}, {\"sample_size\": 13750.0, \"test\": \"MC Simulation MWW U-test\", \"power\": 0.75}, {\"sample_size\": 14000.0, \"test\": \"MC Simulation MWW U-test\", \"power\": 0.9}, {\"sample_size\": 14250.0, \"test\": \"MC Simulation MWW U-test\", \"power\": 0.8}, {\"sample_size\": 14500.0, \"test\": \"MC Simulation MWW U-test\", \"power\": 0.75}, {\"sample_size\": 14750.0, \"test\": \"MC Simulation MWW U-test\", \"power\": 0.75}, {\"sample_size\": 15000.0, \"test\": \"MC Simulation MWW U-test\", \"power\": 0.9}, {\"sample_size\": 15250.0, \"test\": \"MC Simulation MWW U-test\", \"power\": 0.95}, {\"sample_size\": 15500.0, \"test\": \"MC Simulation MWW U-test\", \"power\": 0.85}, {\"sample_size\": 15750.0, \"test\": \"MC Simulation MWW U-test\", \"power\": 0.95}, {\"sample_size\": 16000.0, \"test\": \"MC Simulation MWW U-test\", \"power\": 0.95}, {\"sample_size\": 16250.0, \"test\": \"MC Simulation MWW U-test\", \"power\": 0.85}, {\"sample_size\": 16500.0, \"test\": \"MC Simulation MWW U-test\", \"power\": 0.9}, {\"sample_size\": 16750.0, \"test\": \"MC Simulation MWW U-test\", \"power\": 0.9}, {\"sample_size\": 17000.0, \"test\": \"MC Simulation MWW U-test\", \"power\": 0.8}, {\"sample_size\": 17250.0, \"test\": \"MC Simulation MWW U-test\", \"power\": 0.9}, {\"sample_size\": 17500.0, \"test\": \"MC Simulation MWW U-test\", \"power\": 0.85}, {\"sample_size\": 17750.0, \"test\": \"MC Simulation MWW U-test\", \"power\": 0.7}, {\"sample_size\": 18000.0, \"test\": \"MC Simulation MWW U-test\", \"power\": 0.75}, {\"sample_size\": 18250.0, \"test\": \"MC Simulation MWW U-test\", \"power\": 0.9}, {\"sample_size\": 18500.0, \"test\": \"MC Simulation MWW U-test\", \"power\": 1.0}, {\"sample_size\": 18750.0, \"test\": \"MC Simulation MWW U-test\", \"power\": 0.9}, {\"sample_size\": 19000.0, \"test\": \"MC Simulation MWW U-test\", \"power\": 0.7}, {\"sample_size\": 19250.0, \"test\": \"MC Simulation MWW U-test\", \"power\": 0.95}, {\"sample_size\": 19500.0, \"test\": \"MC Simulation MWW U-test\", \"power\": 0.95}, {\"sample_size\": 19750.0, \"test\": \"MC Simulation MWW U-test\", \"power\": 0.9}, {\"sample_size\": 20000.0, \"test\": \"MC Simulation MWW U-test\", \"power\": 0.9}]}}, {\"mode\": \"vega-lite\"});\n",
       "</script>"
      ],
      "text/plain": [
       "alt.LayerChart(...)"
      ]
     },
     "execution_count": 16,
     "metadata": {},
     "output_type": "execute_result"
    }
   ],
   "source": [
    "dots = alt.Chart(power_dist).mark_point().encode(\n",
    "    x=alt.X('sample_size', axis=alt.Axis(title='Sample size')),\n",
    "    y=alt.Y('power', axis=alt.Axis(title='Power')),\n",
    "    color=alt.Color('test', legend=alt.Legend(title=\"\"))\n",
    ")\n",
    "\n",
    "hline = alt.Chart(power_dist).mark_rule().encode(\n",
    "    y=alt.Y('a:Q', axis=alt.Axis(title='')),\n",
    ").transform_calculate(a='0.8')\n",
    "\n",
    "dots + dots.transform_loess('sample_size', 'power', groupby=['test']).mark_line() + hline"
   ]
  },
  {
   "cell_type": "markdown",
   "metadata": {},
   "source": [
    "# Program"
   ]
  },
  {
   "cell_type": "code",
   "execution_count": 1,
   "metadata": {},
   "outputs": [],
   "source": [
    "import numpy as np\n",
    "import pandas as pd\n",
    "import altair as alt\n",
    "\n",
    "from scipy.stats import norm, binom, mannwhitneyu\n",
    "from statsmodels.stats.weightstats import ttest_ind\n",
    "\n",
    "from deliveroo.toolbox import get_orders_data\n",
    "from deliveroo.toolbox import get_power_dist\n",
    "from deliveroo.toolbox import get_power_graph"
   ]
  },
  {
   "cell_type": "code",
   "execution_count": 11,
   "metadata": {
    "scrolled": true
   },
   "outputs": [
    {
     "data": {
      "text/html": [
       "\n",
       "<div id=\"altair-viz-7\"></div>\n",
       "<script type=\"text/javascript\">\n",
       "  (function(spec, embedOpt){\n",
       "    const outputDiv = document.getElementById(\"altair-viz-7\");\n",
       "    const paths = {\n",
       "      \"vega\": \"https://cdn.jsdelivr.net/npm//vega@5?noext\",\n",
       "      \"vega-lib\": \"https://cdn.jsdelivr.net/npm//vega-lib?noext\",\n",
       "      \"vega-lite\": \"https://cdn.jsdelivr.net/npm//vega-lite@4.0.0?noext\",\n",
       "      \"vega-embed\": \"https://cdn.jsdelivr.net/npm//vega-embed@6?noext\",\n",
       "    };\n",
       "\n",
       "    function loadScript(lib) {\n",
       "      return new Promise(function(resolve, reject) {\n",
       "        var s = document.createElement('script');\n",
       "        s.src = paths[lib];\n",
       "        s.async = true;\n",
       "        s.onload = () => resolve(paths[lib]);\n",
       "        s.onerror = () => reject(`Error loading script: ${paths[lib]}`);\n",
       "        document.getElementsByTagName(\"head\")[0].appendChild(s);\n",
       "      });\n",
       "    }\n",
       "\n",
       "    function showError(err) {\n",
       "      outputDiv.innerHTML = `<div class=\"error\" style=\"color:red;\">${err}</div>`;\n",
       "      throw err;\n",
       "    }\n",
       "\n",
       "    function displayChart(vegaEmbed) {\n",
       "      vegaEmbed(outputDiv, spec, embedOpt)\n",
       "        .catch(err => showError(`Javascript Error: ${err.message}<br>This usually means there's a typo in your chart specification. See the javascript console for the full traceback.`));\n",
       "    }\n",
       "\n",
       "    if(typeof define === \"function\" && define.amd) {\n",
       "      requirejs.config({paths});\n",
       "      require([\"vega-embed\"], displayChart, err => showError(`Error loading script: ${err.message}`));\n",
       "    } else if (typeof vegaEmbed === \"function\") {\n",
       "      displayChart(vegaEmbed);\n",
       "    } else {\n",
       "      loadScript(\"vega\")\n",
       "        .then(() => loadScript(\"vega-lite\"))\n",
       "        .then(() => loadScript(\"vega-embed\"))\n",
       "        .catch(showError)\n",
       "        .then(() => displayChart(vegaEmbed));\n",
       "    }\n",
       "  })({\"config\": {\"view\": {\"continuousWidth\": 400, \"continuousHeight\": 300}}, \"layer\": [{\"mark\": \"point\", \"encoding\": {\"color\": {\"type\": \"nominal\", \"field\": \"test\", \"legend\": {\"title\": \"\"}}, \"x\": {\"type\": \"quantitative\", \"axis\": {\"title\": \"Sample size\"}, \"field\": \"sample_size\"}, \"y\": {\"type\": \"quantitative\", \"axis\": {\"title\": \"Power\"}, \"field\": \"power\"}}}, {\"mark\": \"line\", \"encoding\": {\"color\": {\"type\": \"nominal\", \"field\": \"test\", \"legend\": {\"title\": \"\"}}, \"x\": {\"type\": \"quantitative\", \"axis\": {\"title\": \"Sample size\"}, \"field\": \"sample_size\"}, \"y\": {\"type\": \"quantitative\", \"axis\": {\"title\": \"Power\"}, \"field\": \"power\"}}, \"transform\": [{\"loess\": \"power\", \"on\": \"sample_size\", \"groupby\": [\"test\"]}]}, {\"mark\": {\"type\": \"rule\", \"color\": \"red\"}, \"encoding\": {\"y\": {\"type\": \"quantitative\", \"axis\": {\"title\": \"\"}, \"field\": \"a\"}}, \"transform\": [{\"calculate\": \"0.8\", \"as\": \"a\"}]}], \"data\": {\"name\": \"data-1cab6f55879c27bcdc8530fada26e0c3\"}, \"$schema\": \"https://vega.github.io/schema/vega-lite/v4.0.0.json\", \"datasets\": {\"data-1cab6f55879c27bcdc8530fada26e0c3\": [{\"sample_size\": 250.0, \"test\": \"MC Simulation t-test\", \"power\": 0.05}, {\"sample_size\": 500.0, \"test\": \"MC Simulation t-test\", \"power\": 0.1}, {\"sample_size\": 750.0, \"test\": \"MC Simulation t-test\", \"power\": 0.15}, {\"sample_size\": 1000.0, \"test\": \"MC Simulation t-test\", \"power\": 0.1}, {\"sample_size\": 1250.0, \"test\": \"MC Simulation t-test\", \"power\": 0.35}, {\"sample_size\": 1500.0, \"test\": \"MC Simulation t-test\", \"power\": 0.3}, {\"sample_size\": 1750.0, \"test\": \"MC Simulation t-test\", \"power\": 0.35}, {\"sample_size\": 2000.0, \"test\": \"MC Simulation t-test\", \"power\": 0.2}, {\"sample_size\": 2250.0, \"test\": \"MC Simulation t-test\", \"power\": 0.25}, {\"sample_size\": 2500.0, \"test\": \"MC Simulation t-test\", \"power\": 0.4}, {\"sample_size\": 2750.0, \"test\": \"MC Simulation t-test\", \"power\": 0.3}, {\"sample_size\": 3000.0, \"test\": \"MC Simulation t-test\", \"power\": 0.35}, {\"sample_size\": 3250.0, \"test\": \"MC Simulation t-test\", \"power\": 0.45}, {\"sample_size\": 3500.0, \"test\": \"MC Simulation t-test\", \"power\": 0.35}, {\"sample_size\": 3750.0, \"test\": \"MC Simulation t-test\", \"power\": 0.45}, {\"sample_size\": 4000.0, \"test\": \"MC Simulation t-test\", \"power\": 0.45}, {\"sample_size\": 4250.0, \"test\": \"MC Simulation t-test\", \"power\": 0.4}, {\"sample_size\": 4500.0, \"test\": \"MC Simulation t-test\", \"power\": 0.55}, {\"sample_size\": 4750.0, \"test\": \"MC Simulation t-test\", \"power\": 0.45}, {\"sample_size\": 5000.0, \"test\": \"MC Simulation t-test\", \"power\": 0.5}, {\"sample_size\": 5250.0, \"test\": \"MC Simulation t-test\", \"power\": 0.55}, {\"sample_size\": 5500.0, \"test\": \"MC Simulation t-test\", \"power\": 0.7}, {\"sample_size\": 5750.0, \"test\": \"MC Simulation t-test\", \"power\": 0.6}, {\"sample_size\": 6000.0, \"test\": \"MC Simulation t-test\", \"power\": 0.6}, {\"sample_size\": 6250.0, \"test\": \"MC Simulation t-test\", \"power\": 0.6}, {\"sample_size\": 6500.0, \"test\": \"MC Simulation t-test\", \"power\": 0.6}, {\"sample_size\": 6750.0, \"test\": \"MC Simulation t-test\", \"power\": 0.65}, {\"sample_size\": 7000.0, \"test\": \"MC Simulation t-test\", \"power\": 0.6}, {\"sample_size\": 7250.0, \"test\": \"MC Simulation t-test\", \"power\": 0.7}, {\"sample_size\": 7500.0, \"test\": \"MC Simulation t-test\", \"power\": 0.75}, {\"sample_size\": 7750.0, \"test\": \"MC Simulation t-test\", \"power\": 0.6}, {\"sample_size\": 8000.0, \"test\": \"MC Simulation t-test\", \"power\": 0.85}, {\"sample_size\": 8250.0, \"test\": \"MC Simulation t-test\", \"power\": 0.75}, {\"sample_size\": 8500.0, \"test\": \"MC Simulation t-test\", \"power\": 0.8}, {\"sample_size\": 8750.0, \"test\": \"MC Simulation t-test\", \"power\": 0.8}, {\"sample_size\": 9000.0, \"test\": \"MC Simulation t-test\", \"power\": 0.85}, {\"sample_size\": 9250.0, \"test\": \"MC Simulation t-test\", \"power\": 0.9}, {\"sample_size\": 9500.0, \"test\": \"MC Simulation t-test\", \"power\": 0.75}, {\"sample_size\": 9750.0, \"test\": \"MC Simulation t-test\", \"power\": 0.85}, {\"sample_size\": 10000.0, \"test\": \"MC Simulation t-test\", \"power\": 0.9}, {\"sample_size\": 10250.0, \"test\": \"MC Simulation t-test\", \"power\": 0.85}, {\"sample_size\": 10500.0, \"test\": \"MC Simulation t-test\", \"power\": 0.85}, {\"sample_size\": 10750.0, \"test\": \"MC Simulation t-test\", \"power\": 0.85}, {\"sample_size\": 11000.0, \"test\": \"MC Simulation t-test\", \"power\": 0.9}, {\"sample_size\": 11250.0, \"test\": \"MC Simulation t-test\", \"power\": 0.85}, {\"sample_size\": 11500.0, \"test\": \"MC Simulation t-test\", \"power\": 0.95}, {\"sample_size\": 11750.0, \"test\": \"MC Simulation t-test\", \"power\": 0.9}, {\"sample_size\": 12000.0, \"test\": \"MC Simulation t-test\", \"power\": 1.0}, {\"sample_size\": 250.0, \"test\": \"MC Simulation MWW U-test\", \"power\": 0.0}, {\"sample_size\": 500.0, \"test\": \"MC Simulation MWW U-test\", \"power\": 0.1}, {\"sample_size\": 750.0, \"test\": \"MC Simulation MWW U-test\", \"power\": 0.2}, {\"sample_size\": 1000.0, \"test\": \"MC Simulation MWW U-test\", \"power\": 0.1}, {\"sample_size\": 1250.0, \"test\": \"MC Simulation MWW U-test\", \"power\": 0.35}, {\"sample_size\": 1500.0, \"test\": \"MC Simulation MWW U-test\", \"power\": 0.2}, {\"sample_size\": 1750.0, \"test\": \"MC Simulation MWW U-test\", \"power\": 0.3}, {\"sample_size\": 2000.0, \"test\": \"MC Simulation MWW U-test\", \"power\": 0.25}, {\"sample_size\": 2250.0, \"test\": \"MC Simulation MWW U-test\", \"power\": 0.2}, {\"sample_size\": 2500.0, \"test\": \"MC Simulation MWW U-test\", \"power\": 0.35}, {\"sample_size\": 2750.0, \"test\": \"MC Simulation MWW U-test\", \"power\": 0.3}, {\"sample_size\": 3000.0, \"test\": \"MC Simulation MWW U-test\", \"power\": 0.4}, {\"sample_size\": 3250.0, \"test\": \"MC Simulation MWW U-test\", \"power\": 0.4}, {\"sample_size\": 3500.0, \"test\": \"MC Simulation MWW U-test\", \"power\": 0.3}, {\"sample_size\": 3750.0, \"test\": \"MC Simulation MWW U-test\", \"power\": 0.55}, {\"sample_size\": 4000.0, \"test\": \"MC Simulation MWW U-test\", \"power\": 0.45}, {\"sample_size\": 4250.0, \"test\": \"MC Simulation MWW U-test\", \"power\": 0.5}, {\"sample_size\": 4500.0, \"test\": \"MC Simulation MWW U-test\", \"power\": 0.5}, {\"sample_size\": 4750.0, \"test\": \"MC Simulation MWW U-test\", \"power\": 0.5}, {\"sample_size\": 5000.0, \"test\": \"MC Simulation MWW U-test\", \"power\": 0.45}, {\"sample_size\": 5250.0, \"test\": \"MC Simulation MWW U-test\", \"power\": 0.45}, {\"sample_size\": 5500.0, \"test\": \"MC Simulation MWW U-test\", \"power\": 0.7}, {\"sample_size\": 5750.0, \"test\": \"MC Simulation MWW U-test\", \"power\": 0.55}, {\"sample_size\": 6000.0, \"test\": \"MC Simulation MWW U-test\", \"power\": 0.55}, {\"sample_size\": 6250.0, \"test\": \"MC Simulation MWW U-test\", \"power\": 0.55}, {\"sample_size\": 6500.0, \"test\": \"MC Simulation MWW U-test\", \"power\": 0.55}, {\"sample_size\": 6750.0, \"test\": \"MC Simulation MWW U-test\", \"power\": 0.65}, {\"sample_size\": 7000.0, \"test\": \"MC Simulation MWW U-test\", \"power\": 0.6}, {\"sample_size\": 7250.0, \"test\": \"MC Simulation MWW U-test\", \"power\": 0.85}, {\"sample_size\": 7500.0, \"test\": \"MC Simulation MWW U-test\", \"power\": 0.75}, {\"sample_size\": 7750.0, \"test\": \"MC Simulation MWW U-test\", \"power\": 0.65}, {\"sample_size\": 8000.0, \"test\": \"MC Simulation MWW U-test\", \"power\": 0.8}, {\"sample_size\": 8250.0, \"test\": \"MC Simulation MWW U-test\", \"power\": 0.8}, {\"sample_size\": 8500.0, \"test\": \"MC Simulation MWW U-test\", \"power\": 0.7}, {\"sample_size\": 8750.0, \"test\": \"MC Simulation MWW U-test\", \"power\": 0.85}, {\"sample_size\": 9000.0, \"test\": \"MC Simulation MWW U-test\", \"power\": 0.85}, {\"sample_size\": 9250.0, \"test\": \"MC Simulation MWW U-test\", \"power\": 0.85}, {\"sample_size\": 9500.0, \"test\": \"MC Simulation MWW U-test\", \"power\": 0.75}, {\"sample_size\": 9750.0, \"test\": \"MC Simulation MWW U-test\", \"power\": 0.8}, {\"sample_size\": 10000.0, \"test\": \"MC Simulation MWW U-test\", \"power\": 0.95}, {\"sample_size\": 10250.0, \"test\": \"MC Simulation MWW U-test\", \"power\": 0.85}, {\"sample_size\": 10500.0, \"test\": \"MC Simulation MWW U-test\", \"power\": 0.85}, {\"sample_size\": 10750.0, \"test\": \"MC Simulation MWW U-test\", \"power\": 0.8}, {\"sample_size\": 11000.0, \"test\": \"MC Simulation MWW U-test\", \"power\": 0.85}, {\"sample_size\": 11250.0, \"test\": \"MC Simulation MWW U-test\", \"power\": 0.85}, {\"sample_size\": 11500.0, \"test\": \"MC Simulation MWW U-test\", \"power\": 1.0}, {\"sample_size\": 11750.0, \"test\": \"MC Simulation MWW U-test\", \"power\": 0.85}, {\"sample_size\": 12000.0, \"test\": \"MC Simulation MWW U-test\", \"power\": 0.95}]}}, {\"mode\": \"vega-lite\"});\n",
       "</script>"
      ],
      "text/plain": [
       "alt.LayerChart(...)"
      ]
     },
     "execution_count": 11,
     "metadata": {},
     "output_type": "execute_result"
    }
   ],
   "source": [
    "newdata = norm.rvs(loc=20, scale=10, size=12000)\n",
    "data = get_power_dist(newdata, 250, 12000, 250)\n",
    "get_power_graph(data)"
   ]
  }
 ],
 "metadata": {
  "kernelspec": {
   "display_name": "deliveroo",
   "language": "python",
   "name": "deliveroo"
  },
  "language_info": {
   "codemirror_mode": {
    "name": "ipython",
    "version": 3
   },
   "file_extension": ".py",
   "mimetype": "text/x-python",
   "name": "python",
   "nbconvert_exporter": "python",
   "pygments_lexer": "ipython3",
   "version": "3.7.5"
  }
 },
 "nbformat": 4,
 "nbformat_minor": 2
}
