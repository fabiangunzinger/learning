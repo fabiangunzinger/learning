{
 "cells": [
  {
   "cell_type": "markdown",
   "metadata": {},
   "source": [
    "My notes from working through [Practical statistics for data science](https://learning.oreilly.com/library/view/practical-statistics-for/9781492072935/)"
   ]
  },
  {
   "cell_type": "markdown",
   "metadata": {},
   "source": [
    "Terminology:\n",
    "- Stochastic is a synonym for random. A stochastic process is a random process. The distinction between *stochastics* and *statistics* is that a stochastic processes generate the data we analyse in statistics."
   ]
  },
  {
   "cell_type": "markdown",
   "metadata": {},
   "source": [
    "Sampling:\n",
    "\n",
    "- We rely on a sample to learn about a larger population.\n",
    "- We thus need to make sure that the sampling procedure is free of bias, so that units in the sample are representative of those in the population.\n",
    "- While representativeness cannot be achieved perfectly, it's important to ensure that non-representativeness is due to random error and not due to systematic bias.\n",
    "- Random errors produces deviations that vary over repeated samples, while systematic bias persists. Such selection bias can lead to misleading and ephemeral conclusions.\n",
    "- Two basic sampling procedures are simple random sampling (randomly select $n$ units from a population of $N$) and stratified random sampling (randomly select $n_s$ from each stratum $S$ of a population of $N$).\n",
    "- The mean outcome of the population is denoted $\\bar{x}$, that of the population $\\mu$.\n",
    "- Using the data to answer many questions will eventually reveal something interesting by mere chance (if 20,000 people flip a coin 10 times, some will have 10 straight heads). This is sometimes called the Vast Search Effect.\n",
    "- Common types of selection bias in data science:\n",
    "    - The vast search effect\n",
    "    - Nonrandom sampling\n",
    "    - Cherry-picking data\n",
    "    - Selecting specific time-intervals\n",
    "    - Stopping experiments prematurely\n",
    "- Ways to guard against selection bias: have one or many holdout datasets to confirm your results.\n",
    "- Regression to the mean results form a particular kind of selection bias in a setting we measure outcomes repeatedly over time: when luck and skill combine to determine outcomes, winners of one period will be less lucky next period and perform closer to the mean performer."
   ]
  },
  {
   "cell_type": "markdown",
   "metadata": {},
   "source": [
    "Sampling distributions\n",
    "\n",
    "- A sampling distribution is the distribution of a statistic (e.g. the mean) over many repeated samples. Classical statistics is much concerned with making inferences from samples about the population based on such statistics.\n",
    "- When we measure an attribute of the population based on a sample using a statistic, the result will vary over repeated samples. To capture by how much it varies, we are concerned with the sampling variability.\n",
    "\n",
    "- Key distinctions:\n",
    "    - The data distribution is the distribution of the data in the sample, the sampling distribution is the distribution of the sample statistic.\n",
    "    - The standard deviation is a measure of spread of the data distribution, the standard error a measure of spread of the sampling distribution."
   ]
  },
  {
   "cell_type": "code",
   "execution_count": 1,
   "metadata": {},
   "outputs": [
    {
     "data": {
      "image/png": "[encoded data removed]",
      "text/plain": [
       "<Figure size 648x216 with 3 Axes>"
      ]
     },
     "metadata": {
      "needs_background": "light"
     },
     "output_type": "display_data"
    }
   ],
   "source": [
    "import pandas as pd\n",
    "import numpy as np\n",
    "import seaborn as sns\n",
    "from scipy.stats import norm\n",
    "import matplotlib.pyplot as plt\n",
    "\n",
    "full_data = norm.rvs(80000, 40000, 1000000)\n",
    "\n",
    "sample_data = pd.DataFrame({\n",
    "    'income': np.random.choice(full_data, 1000),\n",
    "    'type': 'Data'\n",
    "})\n",
    "mof5 = pd.DataFrame({\n",
    "    'income': [np.random.choice(full_data, 5).mean() for _ in range(1000)],\n",
    "    'type':'Mean of 5'\n",
    "})\n",
    "mof20 = pd.DataFrame({\n",
    "    'income': [np.random.choice(full_data, 20).mean() for _ in range(1000)],\n",
    "    'type':'Mean of 20'\n",
    "})\n",
    "results = pd.concat([sample_data, mof5, mof20])\n",
    "\n",
    "g = sns.FacetGrid(results, col='type')\n",
    "g.map(plt.hist, 'income', bins=40)\n",
    "g.set_axis_labels('Income', 'Count')\n",
    "g.set_titles('{col_name}');"
   ]
  },
  {
   "cell_type": "markdown",
   "metadata": {},
   "source": [
    "Plots show that:\n",
    "- Data distribution has larger spread than sampling distributions\n",
    "- The spread of sampling distributions decreases with increasing sample size"
   ]
  },
  {
   "cell_type": "markdown",
   "metadata": {},
   "source": [
    "### Central limit theorem\n",
    "\n",
    "- The second point above is an instance of the central limit theorem, which states that means from multiple samples are normally distributed even if the underlying distribution is not normal, provied that the sample size is large enough.\n",
    "\n",
    "- More precisely: Suppose that we have a sequence of independent and identically distributed (iid) random variables $\\{x_1, ..., x_n\\}$ drawn from a distribution with expected value $\\mu$ and finite variance given by $\\sigma^2$, and we are interested in the mean value $\\bar{x} = \\frac{x_1 + ... + x_n}{n}$. By law of large numbers, $\\bar{x}$ converges to $\\mu$. The central limite theorem describes the shape of the random variation of $\\bar{x}$ around $\\mu$ during this convergence. In particular, for large enough $n$, the distribution of $\\bar{x}$ will be close to a normal distribution with mean $\\mu$ and standard deviation $\\sigma/n$.\n",
    "\n",
    "- This is useful because it means that irrespective of the underlying distribution (i.e. the distribution of the values in our sequence above), we can use the normal distribution and approximations to it (such as the t-distribution) to calculate sample distributions when we inference. Because of this, the CLT is at the heart of the theory of hypothesis testing and confidence intervals, and thus of much of classical statistics."
   ]
  },
  {
   "cell_type": "code",
   "execution_count": null,
   "metadata": {},
   "outputs": [],
   "source": [
    "from scipy.stats import binom, geom, poisson, norm, beta, expon, gamma\n",
    "\n",
    "\n",
    "mu = 0\n",
    "sigma = 2\n",
    "n_sample = 1\n",
    "n_draws = 1000\n",
    "\n",
    "fig, ax = plt.subplots(2, 2, figsize=(8, 8))\n",
    "\n",
    "# Normal\n",
    "sample_means = [norm.rvs(mu, sigma, n_sample).mean() for _ in range(n_draws)]\n",
    "x = np.linspace(sigma*-3, sigma*3, 100)\n",
    "ax[0, 0].plot(x, norm.pdf(x, mu, sigma))\n",
    "ax[0, 1].hist(sample_means, bins=40);\n",
    "\n",
    "# Binomial\n",
    "sample_means = [np.mean([binom.rvs(50, 0.5) for a in range(n_sample)]) for b in range(n_draws)]\n",
    "x = np.arange(40)\n",
    "ax[1, 0].bar(x, binom.pmf(x, 50, 0.5))\n",
    "ax[1, 1].hist(sample_means, bins=40);"
   ]
  },
  {
   "cell_type": "code",
   "execution_count": 17,
   "metadata": {},
   "outputs": [
    {
     "data": {
      "text/plain": [
       "<Figure size 432x288 with 0 Axes>"
      ]
     },
     "metadata": {},
     "output_type": "display_data"
    }
   ],
   "source": [
    "fig = plt.figure()\n"
   ]
  },
  {
   "cell_type": "code",
   "execution_count": null,
   "metadata": {},
   "outputs": [],
   "source": []
  }
 ],
 "metadata": {
  "kernelspec": {
   "display_name": "pottering",
   "language": "python",
   "name": "pottering"
  },
  "language_info": {
   "codemirror_mode": {
    "name": "ipython",
    "version": 3
   },
   "file_extension": ".py",
   "mimetype": "text/x-python",
   "name": "python",
   "nbconvert_exporter": "python",
   "pygments_lexer": "ipython3",
   "version": "3.7.6"
  }
 },
 "nbformat": 4,
 "nbformat_minor": 2
}
