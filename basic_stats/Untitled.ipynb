{
 "cells": [
  {
   "cell_type": "markdown",
   "metadata": {},
   "source": [
    "My notes from working through [Practical statistics for data science](https://learning.oreilly.com/library/view/practical-statistics-for/9781492072935/)"
   ]
  },
  {
   "cell_type": "markdown",
   "metadata": {},
   "source": [
    "Terminology:\n",
    "- Stochastic is a synonym for random. A stochastic process is a random process. The distinction between *stochastics* and *statistics* is that a stochastic processes generate the data we analyse in statistics."
   ]
  },
  {
   "cell_type": "markdown",
   "metadata": {},
   "source": [
    "Sampling:\n",
    "\n",
    "- We rely on a sample to learn about a larger population.\n",
    "- We thus need to make sure that the sampling procedure is free of bias, so that units in the sample are representative of those in the population.\n",
    "- While representativeness cannot be achieved perfectly, it's important to ensure that non-representativeness is due to random error and not due to systematic bias.\n",
    "- Random errors produces deviations that vary over repeated samples, while systematic bias persists. Such selection bias can lead to misleading and ephemeral conclusions.\n",
    "- Two basic sampling procedures are simple random sampling (randomly select $n$ units from a population of $N$) and stratified random sampling (randomly select $n_s$ from each stratum $S$ of a population of $N$).\n",
    "- The mean outcome of the population is denoted $\\bar{x}$, that of the population $\\mu$.\n",
    "- Using the data to answer many questions will eventually reveal something interesting by mere chance (if 20,000 people flip a coin 10 times, some will have 10 straight heads). This is sometimes called the Vast Search Effect.\n",
    "- Common types of selection bias in data science:\n",
    "    - The vast search effect\n",
    "    - Nonrandom sampling\n",
    "    - Cherry-picking data\n",
    "    - Selecting specific time-intervals\n",
    "    - Stopping experiments prematurely\n",
    "- Ways to guard against selection bias: have one or many holdout datasets to confirm your results.\n",
    "- Regression to the mean results form a particular kind of selection bias in a setting we measure outcomes repeatedly over time: when luck and skill combine to determine outcomes, winners of one period will be less lucky next period and perform closer to the mean performer."
   ]
  },
  {
   "cell_type": "markdown",
   "metadata": {},
   "source": [
    "Sampling distributions\n",
    "\n",
    "- A sampling distribution is the distribution of a statistic (e.g. the mean) over many repeated samples. Classical statistics is much concerned with making inferences from samples about the population based on such statistics.\n",
    "- When we measure an attribute of the population based on a sample using a statistic, the result will vary over repeated samples. To capture by how much it varies, we are concerned with the sampling variability.\n",
    "\n",
    "- Key distinctions:\n",
    "    - The data distribution is the distribution of the data in the sample, the sampling distribution is the distribution of the sample statistic.\n",
    "    - The standard deviation is a measure of spread of the data distribution, the standard error a measure of spread of the sampling distribution."
   ]
  },
  {
   "cell_type": "code",
   "execution_count": 1,
   "metadata": {},
   "outputs": [
    {
     "data": {
      "image/png": "[encoded data removed]",
      "text/plain": [
       "<Figure size 648x216 with 3 Axes>"
      ]
     },
     "metadata": {
      "needs_background": "light"
     },
     "output_type": "display_data"
    }
   ],
   "source": [
    "import pandas as pd\n",
    "import numpy as np\n",
    "import seaborn as sns\n",
    "from scipy.stats import norm\n",
    "import matplotlib.pyplot as plt\n",
    "\n",
    "full_data = norm.rvs(80000, 40000, 1000000)\n",
    "\n",
    "sample_data = pd.DataFrame({\n",
    "    'income': np.random.choice(full_data, 1000),\n",
    "    'type': 'Data'\n",
    "})\n",
    "mof5 = pd.DataFrame({\n",
    "    'income': [np.random.choice(full_data, 5).mean() for _ in range(1000)],\n",
    "    'type':'Mean of 5'\n",
    "})\n",
    "mof20 = pd.DataFrame({\n",
    "    'income': [np.random.choice(full_data, 20).mean() for _ in range(1000)],\n",
    "    'type':'Mean of 20'\n",
    "})\n",
    "results = pd.concat([sample_data, mof5, mof20])\n",
    "\n",
    "g = sns.FacetGrid(results, col='type')\n",
    "g.map(plt.hist, 'income', bins=40)\n",
    "g.set_axis_labels('Income', 'Count')\n",
    "g.set_titles('{col_name}');"
   ]
  },
  {
   "cell_type": "markdown",
   "metadata": {},
   "source": [
    "Plots show that:\n",
    "- Data distribution has larger spread than sampling distributions\n",
    "- The spread of sampling distributions decreases with increasing sample size"
   ]
  },
  {
   "cell_type": "markdown",
   "metadata": {},
   "source": [
    "Central limit theorem\n",
    "\n",
    "- The second point above is an instance of the central limit theorem, which states that means from multiple samples are normally distributed even if the underlying distribution is not normal, provied that the sample size is large enough.\n",
    "\n",
    "- More precisely: Suppose that we have a sequence of independent and identically distributed (iid) random variables $\\{x_1, ..., x_n\\}$ drawn from a distribution with expected value $\\mu$ and finite variance given by $\\sigma^2$, and we are interested in the mean value $\\bar{x} = \\frac{x_1 + ... + x_n}{n}$. By the law of large numbers, $\\bar{x}$ converges to $\\mu$. The central limite theorem describes the shape of the random variation of $\\bar{x}$ around $\\mu$ during this convergence. In particular, for large enough $n$, the distribution of $\\bar{x}$ will be close to a normal distribution with mean $\\mu$ and standard deviation $\\sigma/n$.\n",
    "\n",
    "- This is useful because it means that irrespective of the underlying distribution (i.e. the distribution of the values in our sequence above), we can use the normal distribution and approximations to it (such as the t-distribution) to calculate sample distributions when we do inference. Because of this, the CLT is at the heart of the theory of hypothesis testing and confidence intervals, and thus of much of classical statistics."
   ]
  },
  {
   "cell_type": "code",
   "execution_count": 51,
   "metadata": {},
   "outputs": [
    {
     "data": {
      "image/png": "[encoded data removed]",
      "text/plain": [
       "<Figure size 720x720 with 4 Axes>"
      ]
     },
     "metadata": {
      "needs_background": "light"
     },
     "output_type": "display_data"
    }
   ],
   "source": [
    "# CLT demo\n",
    "\n",
    "from scipy.stats import norm, gamma\n",
    "import matplotlib.pyplot as plt\n",
    "\n",
    "def means(n):\n",
    "    return [np.mean(norm.rvs(0, 2, 10)) for _ in range(n)]\n",
    "\n",
    "plt.subplots(figsize=(10,10))\n",
    "\n",
    "plt.subplot(441)\n",
    "plt.hist(means(100), bins=30)\n",
    "plt.subplot(442)\n",
    "plt.hist(means(100), bins=30)\n",
    "plt.subplot(443)\n",
    "plt.hist(means(1000), bins=30)\n",
    "plt.subplot(444)\n",
    "plt.hist(means(10000), bins=30);"
   ]
  },
  {
   "cell_type": "markdown",
   "metadata": {},
   "source": [
    "Standard error\n",
    "\n",
    "- The standard error is a measure for the variability of the sampling distribution. \n",
    "- It is related to the standard deviation of the observations, $\\sigma$ and the sample size $n$ in the following way:\n",
    "\n",
    "$$\n",
    "se = \\frac{\\sigma}{\\sqrt{n}}\n",
    "$$\n",
    "\n",
    "- The relationship between sample size and se is sometimes called the \"Square-root of n rule\", since reducing the $se$ by a factor of 2 requires an increase in the sample size by a factor of 4."
   ]
  },
  {
   "cell_type": "markdown",
   "metadata": {},
   "source": [
    "Bootstrap\n",
    "\n",
    "- In practice, we often use the bootstrap to calculate standard errors of model parameters or statistics.\n",
    "- Conceptually, the bootstrap works as follows: 1) we draw an original sample and calculate our statistic, 2) we then create a blown-up version of that sample by duplicating it many times, 3) we then draw repeated samples from the large sample, recalculate our statistic, and calculate the standard deviation of these statistics to get the standard error.\n",
    "- To achieve this easily, we can skip step 2) by simply sampling with replacement from the original distribution in step 3).\n",
    "- The full procedure makes clear what the bootstrap results tell us, however: they tell us how lots of additional samples would behave if they were drawn from a population like our original sample.\n",
    "- Hence, if the original sample is not representative of the population of interest, then bootstrap results are not informative about that population either.\n",
    "- The bootstrap can also be used to improve the performance of classification or regression trees by fitting multiple trees on bootstrapped sample and then averaging their predictions. This is called \"bagging\", short for \"bootstrap aggregating\".\n"
   ]
  },
  {
   "cell_type": "code",
   "execution_count": 134,
   "metadata": {},
   "outputs": [
    {
     "name": "stdout",
     "output_type": "stream",
     "text": [
      "Bootstrap Statistics:\n",
      "Original: 48463.72860114132\n",
      "Bias: -1.9266121069231303\n",
      "Std. error: 1107.4684180412535\n"
     ]
    }
   ],
   "source": [
    "# A simple bootstrap implementation\n",
    "\n",
    "from sklearn.utils import resample\n",
    "\n",
    "original_sample = norm.rvs(50000, 30000, 1000)\n",
    "\n",
    "results = []\n",
    "for nrepeat in range(1000):\n",
    "    sample = resample(original_sample)\n",
    "    results.append(np.median(sample))\n",
    "print('Bootstrap Statistics:')\n",
    "print(f'Original: {np.median(original_sample)}')\n",
    "print(f'Bias: {np.median(results) - np.median(original_sample)}')\n",
    "print(f'Std. error: {np.std(results)}')"
   ]
  },
  {
   "cell_type": "markdown",
   "metadata": {},
   "source": [
    "Confidence intervals\n",
    "\n",
    "- A CI is another way to learn about the variability of a test statistic. \n",
    "- It can be calculated using the (standard) normal distribution or the t-distribution (if sample sizes are small).\n",
    "- But for data science purposes we can compute a x percent CI from the bootstrap, following this algorithm: 1) Draw a large number of bootstrap samples and calculate the statistic of interest, 2) Trim [(100-x)/2] percent of the bootstrap results on either end of the distribution, 3) the trim points are the end point of the CI."
   ]
  },
  {
   "cell_type": "markdown",
   "metadata": {},
   "source": [
    "The normal distribution\n",
    "\n",
    "- Useful not mainly because data is generally normally distributed, but because sample distributions of statistics (as well as errors) often are.\n",
    "- But rely on normality assumption only as a last resort if using empirical distributions or bootstrap is not available. \n",
    "- A QQ-plot is a useful way to check whehter data is roughly normal, in which case points are on the line and clustered towarrds the centre of the plot."
   ]
  },
  {
   "cell_type": "markdown",
   "metadata": {},
   "source": [
    "Probability and QQ-Plots\n",
    "\n",
    "- Probability plots are used to check whether the distribution of our data corresponds to a particular theoretical distrubution, while QQ-plots are used to compare the distributions of two sets of data (though the terms seem to be used interchangeably).\n",
    "- A the x percent quantile is a line in the data such that x percent of the data are below and 100 - x percent of the data are above the line (it's also equal to the xth percentile)."
   ]
  },
  {
   "cell_type": "code",
   "execution_count": 142,
   "metadata": {},
   "outputs": [
    {
     "data": {
      "image/png": "[encoded data removed]",
      "text/plain": [
       "<Figure size 432x432 with 1 Axes>"
      ]
     },
     "metadata": {
      "needs_background": "light"
     },
     "output_type": "display_data"
    }
   ],
   "source": [
    "# A QQ-plot of normal data\n",
    "\n",
    "from scipy.stats import norm, probplot\n",
    "\n",
    "fig, ax = plt.subplots(figsize=(6, 6))\n",
    "norm_sample = norm.rvs(size=100)\n",
    "probplot(norm_sample, plot=ax);"
   ]
  },
  {
   "cell_type": "markdown",
   "metadata": {},
   "source": [
    "Long-tailed distributions\n",
    "\n",
    "- As noted above, while errors and statistics are often normally distributed, data is usually not.\n",
    "- The probability plot below plots Netflix stock returns against a normal distribution, and shows that the distribution has heavier tails than a normal distribution (i.e. extreme events are more likely).\n"
   ]
  },
  {
   "cell_type": "code",
   "execution_count": 187,
   "metadata": {},
   "outputs": [
    {
     "data": {
      "image/png": "[encoded data removed]",
      "text/plain": [
       "<Figure size 360x360 with 1 Axes>"
      ]
     },
     "metadata": {
      "needs_background": "light"
     },
     "output_type": "display_data"
    }
   ],
   "source": [
    "import os\n",
    "import pandas_datareader as pdr\n",
    "from dotenv import load_dotenv\n",
    "from datetime import datetime\n",
    "load_dotenv()\n",
    "\n",
    "nflx = np.log(pdr.get_data_tiingo('NFLX', start, end, api_key=os.getenv('tiingo_api_key'))['close']).diff()\n",
    "\n",
    "start = datetime(2019, 1, 1)\n",
    "end = datetime(2019, 12, 31)\n",
    "\n",
    "fix, ax = plt.subplots(figsize=(5,5))\n",
    "probplot(nflx, plot=ax);"
   ]
  },
  {
   "cell_type": "markdown",
   "metadata": {},
   "source": [
    "Binomial distribution"
   ]
  },
  {
   "cell_type": "code",
   "execution_count": 200,
   "metadata": {},
   "outputs": [
    {
     "data": {
      "text/plain": [
       "0.1875"
      ]
     },
     "execution_count": 200,
     "metadata": {},
     "output_type": "execute_result"
    }
   ],
   "source": [
    "from scipy.stats import binom\n",
    "\n",
    "binom.pmf(2, n=5, p=0.5)\n",
    "binom.cdf(1, n=5, p=0.5)"
   ]
  },
  {
   "cell_type": "code",
   "execution_count": null,
   "metadata": {},
   "outputs": [],
   "source": []
  }
 ],
 "metadata": {
  "kernelspec": {
   "display_name": "pottering",
   "language": "python",
   "name": "pottering"
  },
  "language_info": {
   "codemirror_mode": {
    "name": "ipython",
    "version": 3
   },
   "file_extension": ".py",
   "mimetype": "text/x-python",
   "name": "python",
   "nbconvert_exporter": "python",
   "pygments_lexer": "ipython3",
   "version": "3.7.6"
  }
 },
 "nbformat": 4,
 "nbformat_minor": 2
}
