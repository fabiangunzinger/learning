{
 "cells": [
  {
   "cell_type": "markdown",
   "metadata": {},
   "source": [
    "My notes from working through section 3, experiments and significance testing, of [Practical statistics for data science](https://learning.oreilly.com/library/view/practical-statistics-for/9781492072935/), to revise consepts and get comfortable implementing them in Python.\n"
   ]
  },
  {
   "cell_type": "markdown",
   "metadata": {},
   "source": [
    "The basic experimental process:\n",
    "- Formulate a hypothesis\n",
    "- Design experiment\n",
    "- Collect data\n",
    "- Draw inferences and conclusions"
   ]
  },
  {
   "cell_type": "markdown",
   "metadata": {},
   "source": [
    "Hypothesis testing\n",
    "\n",
    "- The book makes a nice point about why we need hypothesis testing in the first place: to guard against our tendency to underestimate chance, and, as a result, to interprete observed differences as being driven by something \"real\" (e.g. our treatment).\n",
    "- A nice example is our intuition of what a random series of coin flips looks like: most people will switch between heads and tail too frequently, believing that five heads in a row are very unlikely in a series of 50 flips (which it is not)."
   ]
  },
  {
   "cell_type": "markdown",
   "metadata": {},
   "source": [
    "Resampling\n",
    "- Means to repeatedly sample values from observed data to assess variability in a statistic.\n",
    "- There are two main approaches: the bootstrap, usually used to assessed to reliability of an estimate (see distributions notebook), and permutation tests, used to test hypotheses."
   ]
  },
  {
   "cell_type": "markdown",
   "metadata": {},
   "source": [
    "Permutation tests\n",
    "\n",
    "- Is a way to perform hypothesis testing while being agnostic about the outcome distribution. In a traditional hypothesis test, we assume that the outcome variable (e.g. the difference between treatment and control outcome) has a certain distribution (usually t or standard normal) and then see where in that distribution the observed outcome falls: if it's far out on either tail of the distribution, beyond some critical value (usually the 2.5th percentile on either end) we conclude that the result is unlikely to be produced by chance and reject the null hypothesis.\n",
    "- A permutation test works the same except that we don't compare our outcome to a theoretical distribution, but to a distribution we create. We create the distribution by pooling all outcome data, resampling (without replacement) to construct groups of the size of each treatment group, and then comparing the outcomes. This outcome is one observation. We then repeat this procedure R times to build a distribution of outcomes, and finally compare our original outcome to the distribution to see where it falls and how likely it is to be a product of chance.\n",
    "- Permutation tests come in three variants: random permutation tests, exhaustive permuation tests, and bootstrap permutation tests. The first is as described above, in the second we construct our permutatin samples such that they cover all possible cases we can construct, and in a bootstrap test we sample with replacement. The exhaustive test is sometimes clled \"exact test\" because it guarantees that we will not find a significant result more often than the alpha level of the test. Bootstrap resampling models not only the randomness in the treatment allocation to subjects (as random variation does) but also the randomness in the sampling of subjects from a population. "
   ]
  },
  {
   "cell_type": "code",
   "execution_count": 103,
   "metadata": {},
   "outputs": [
    {
     "data": {
      "text/html": [
       "<div>\n",
       "<style scoped>\n",
       "    .dataframe tbody tr th:only-of-type {\n",
       "        vertical-align: middle;\n",
       "    }\n",
       "\n",
       "    .dataframe tbody tr th {\n",
       "        vertical-align: top;\n",
       "    }\n",
       "\n",
       "    .dataframe thead th {\n",
       "        text-align: right;\n",
       "    }\n",
       "</style>\n",
       "<table border=\"1\" class=\"dataframe\">\n",
       "  <thead>\n",
       "    <tr style=\"text-align: right;\">\n",
       "      <th></th>\n",
       "      <th>group</th>\n",
       "      <th>session_time</th>\n",
       "    </tr>\n",
       "  </thead>\n",
       "  <tbody>\n",
       "    <tr>\n",
       "      <th>27</th>\n",
       "      <td>b</td>\n",
       "      <td>5.573159</td>\n",
       "    </tr>\n",
       "    <tr>\n",
       "      <th>36</th>\n",
       "      <td>b</td>\n",
       "      <td>2.709581</td>\n",
       "    </tr>\n",
       "    <tr>\n",
       "      <th>10</th>\n",
       "      <td>a</td>\n",
       "      <td>4.038592</td>\n",
       "    </tr>\n",
       "  </tbody>\n",
       "</table>\n",
       "</div>"
      ],
      "text/plain": [
       "   group  session_time\n",
       "27     b      5.573159\n",
       "36     b      2.709581\n",
       "10     a      4.038592"
      ]
     },
     "execution_count": 103,
     "metadata": {},
     "output_type": "execute_result"
    }
   ],
   "source": [
    "# Example random permutation test for web stickiness\n",
    "\n",
    "import random\n",
    "import numpy as np\n",
    "import pandas as pd\n",
    "import matplotlib.pyplot as plt\n",
    "plt.style.use('seaborn-darkgrid')\n",
    "%config InlineBackend.figure_format ='retina'\n",
    "\n",
    "# Create sample dataset\n",
    "sessions_a = np.random.normal(3.5, 1, 25)\n",
    "sessions_b = np.random.normal(4.5, 1, 15)\n",
    "session_times = np.concatenate([sessions_a, sessions_b ])\n",
    "groups = ['a'] * 25 + ['b'] * 15\n",
    "df = pd.DataFrame({'group': groups, 'session_time': session_times})\n",
    "df.sample(3)"
   ]
  },
  {
   "cell_type": "code",
   "execution_count": 104,
   "metadata": {},
   "outputs": [
    {
     "data": {
      "image/png": "[encoded data removed]",
      "text/plain": [
       "<Figure size 432x288 with 1 Axes>"
      ]
     },
     "metadata": {
      "image/png": {
       "height": 254,
       "width": 358
      }
     },
     "output_type": "display_data"
    }
   ],
   "source": [
    "# Calculate and plot means\n",
    "\n",
    "mean_a = df[df['group'] == 'a'].session_time.mean()\n",
    "mean_b = df[df['group'] == 'b'].session_time.mean()\n",
    "mean_diff = mean_b - mean_a\n",
    "df.groupby('group').mean().plot(kind='bar');"
   ]
  },
  {
   "cell_type": "code",
   "execution_count": 148,
   "metadata": {},
   "outputs": [],
   "source": [
    "# Create permutations\n",
    "\n",
    "def random_perm(x, n_a, n_b):\n",
    "    \"\"\" Return difference in x for random groups of size n_a \n",
    "    and n_b (groups are sampled without replacement). \"\"\"\n",
    "    n = n_a + n_b\n",
    "    idx_a = set(random.sample(range(n), n_a))\n",
    "    idx_b = set(range(n)) - idx_a\n",
    "    return x.loc[idx_a].mean() - x.loc[idx_b].mean()\n",
    "\n",
    "def bootstrap_perm(x, n_a, n_b):\n",
    "    \"\"\" Return difference in x for random groups of size n_a \n",
    "    and n_b (groups are sampled with replacement). \"\"\"\n",
    "    n = n_a + n_b\n",
    "    idx_a = random.choices(range(n), k=n_a)\n",
    "    idx_b = random.choices(range(n), k=n_b)\n",
    "    return x.loc[idx_a].mean() - x.loc[idx_b].mean()\n",
    "\n",
    "random_diffs = [random_perm(x, n_a, n_b) for _ in range(1000)]\n",
    "bootstrap_diffs = [bootstrap_perm(x, n_a, n_b) for _ in range(1000)]"
   ]
  },
  {
   "cell_type": "code",
   "execution_count": 160,
   "metadata": {},
   "outputs": [
    {
     "name": "stdout",
     "output_type": "stream",
     "text": [
      "Random: P-value of observed difference is 0.001\n",
      "Bootstrap: P-value of observed difference is 0.002\n"
     ]
    },
    {
     "data": {
      "image/png": "[encoded data removed]",
      "text/plain": [
       "<Figure size 720x288 with 2 Axes>"
      ]
     },
     "metadata": {
      "image/png": {
       "height": 258,
       "width": 606
      }
     },
     "output_type": "display_data"
    }
   ],
   "source": [
    "# Plot distribution of permuation differences and group difference and calculate p-value\n",
    "\n",
    "fig, (ax0, ax1) = plt.subplots(1, 2, sharey=True, figsize=(10, 4))\n",
    "\n",
    "ax0.hist(random_diffs, bins=15)\n",
    "ax0.axvline(mean_diff, color='orange', lw=2)\n",
    "ax0.set_xlabel('Session time differences (in seconds)')\n",
    "ax0.set_ylabel('Frequency')\n",
    "\n",
    "ax1.hist(bootstrap_diffs, bins=15)\n",
    "ax1.axvline(mean_diff, color='orange', lw=2)\n",
    "ax1.set_xlabel('Session time differences (in seconds)')\n",
    "\n",
    "p_random = sum(random_diffs >= mean_diff) / len(random_diffs)\n",
    "p_bootstrap = sum(bootstrap_diffs >= mean_diff) / len(bootstrap_diffs)\n",
    "print(f'Random: P-value of observed difference is {p_random}')\n",
    "print(f'Bootstrap: P-value of observed difference is {p_bootstrap}')"
   ]
  },
  {
   "cell_type": "code",
   "execution_count": null,
   "metadata": {},
   "outputs": [],
   "source": []
  },
  {
   "cell_type": "code",
   "execution_count": 1,
   "metadata": {},
   "outputs": [],
   "source": [
    "# Probability of 6 heads in a row during 50 coin flips"
   ]
  },
  {
   "cell_type": "code",
   "execution_count": null,
   "metadata": {},
   "outputs": [],
   "source": []
  }
 ],
 "metadata": {
  "kernelspec": {
   "display_name": "pottering",
   "language": "python",
   "name": "pottering"
  },
  "language_info": {
   "codemirror_mode": {
    "name": "ipython",
    "version": 3
   },
   "file_extension": ".py",
   "mimetype": "text/x-python",
   "name": "python",
   "nbconvert_exporter": "python",
   "pygments_lexer": "ipython3",
   "version": "3.7.6"
  }
 },
 "nbformat": 4,
 "nbformat_minor": 2
}
