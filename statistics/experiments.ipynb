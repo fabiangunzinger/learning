{
 "cells": [
  {
   "cell_type": "markdown",
   "metadata": {},
   "source": [
    "My notes from working through section 3, experiments and significance testing, of [Practical statistics for data science](https://learning.oreilly.com/library/view/practical-statistics-for/9781492072935/), to revise consepts and get comfortable implementing them in Python.\n"
   ]
  },
  {
   "cell_type": "markdown",
   "metadata": {},
   "source": [
    "### The basic experimental process:\n",
    "- Formulate a hypothesis\n",
    "- Design experiment\n",
    "- Collect data\n",
    "- Draw inferences and conclusions"
   ]
  },
  {
   "cell_type": "markdown",
   "metadata": {},
   "source": [
    "### Hypothesis testing\n",
    "\n",
    "- The book makes a nice point about why we need hypothesis testing in the first place: to guard against our tendency to underestimate chance, and, as a result, to interprete observed differences as being driven by something \"real\" (e.g. our treatment).\n",
    "- A nice example is our intuition of what a random series of coin flips looks like: most people will switch between heads and tail too frequently, believing that five heads in a row are very unlikely in a series of 50 flips (which it is not)."
   ]
  },
  {
   "cell_type": "markdown",
   "metadata": {},
   "source": [
    "### Resampling\n",
    "- Means to repeatedly sample values from observed data to assess variability in a statistic.\n",
    "- There are two main approaches: the bootstrap, usually used to assessed to reliability of an estimate (see distributions notebook), and permutation tests, used to test hypotheses."
   ]
  },
  {
   "cell_type": "markdown",
   "metadata": {},
   "source": [
    "### Permutation tests\n",
    "\n",
    "- Is a way to perform hypothesis testing while being agnostic about the outcome distribution. In a traditional hypothesis test, we assume that the outcome variable (e.g. the difference between treatment and control outcome) has a certain distribution (usually t or standard normal) and then see where in that distribution the observed outcome falls: if it's far out on either tail of the distribution, beyond some critical value (usually the 2.5th percentile on either end) we conclude that the result is unlikely to be produced by chance and reject the null hypothesis.\n",
    "- A permutation test works the same except that we don't compare our outcome to a theoretical distribution, but to a distribution we create. We create the distribution by pooling all outcome data, resampling (without replacement) to construct groups of the size of each treatment group, and then comparing the outcomes. This outcome is one observation. We then repeat this procedure R times to build a distribution of outcomes, and finally compare our original outcome to the distribution to see where it falls and how likely it is to be a product of chance.\n",
    "- Permutation tests come in three variants: random permutation tests, exhaustive permuation tests, and bootstrap permutation tests. The first is as described above, in the second we construct our permutatin samples such that they cover all possible cases we can construct, and in a bootstrap test we sample with replacement. The exhaustive test is sometimes clled \"exact test\" because it guarantees that we will not find a significant result more often than the alpha level of the test. Bootstrap resampling models not only the randomness in the treatment allocation to subjects (as random variation does) but also the randomness in the sampling of subjects from a population. "
   ]
  },
  {
   "cell_type": "code",
   "execution_count": 5,
   "metadata": {},
   "outputs": [
    {
     "data": {
      "text/html": [
       "<div>\n",
       "<style scoped>\n",
       "    .dataframe tbody tr th:only-of-type {\n",
       "        vertical-align: middle;\n",
       "    }\n",
       "\n",
       "    .dataframe tbody tr th {\n",
       "        vertical-align: top;\n",
       "    }\n",
       "\n",
       "    .dataframe thead th {\n",
       "        text-align: right;\n",
       "    }\n",
       "</style>\n",
       "<table border=\"1\" class=\"dataframe\">\n",
       "  <thead>\n",
       "    <tr style=\"text-align: right;\">\n",
       "      <th></th>\n",
       "      <th>group</th>\n",
       "      <th>session_time</th>\n",
       "    </tr>\n",
       "  </thead>\n",
       "  <tbody>\n",
       "    <tr>\n",
       "      <th>4</th>\n",
       "      <td>a</td>\n",
       "      <td>4.514161</td>\n",
       "    </tr>\n",
       "    <tr>\n",
       "      <th>31</th>\n",
       "      <td>b</td>\n",
       "      <td>4.621471</td>\n",
       "    </tr>\n",
       "    <tr>\n",
       "      <th>2</th>\n",
       "      <td>a</td>\n",
       "      <td>4.124164</td>\n",
       "    </tr>\n",
       "  </tbody>\n",
       "</table>\n",
       "</div>"
      ],
      "text/plain": [
       "   group  session_time\n",
       "4      a      4.514161\n",
       "31     b      4.621471\n",
       "2      a      4.124164"
      ]
     },
     "execution_count": 5,
     "metadata": {},
     "output_type": "execute_result"
    }
   ],
   "source": [
    "# Example random permutation test for web stickiness\n",
    "\n",
    "import random\n",
    "import numpy as np\n",
    "import pandas as pd\n",
    "import matplotlib.pyplot as plt\n",
    "plt.style.use('seaborn-darkgrid')\n",
    "%config InlineBackend.figure_format ='retina'\n",
    "\n",
    "# Create sample dataset\n",
    "np.random.seed(2312)\n",
    "sessions_a = np.random.normal(3.5, 1, 25)\n",
    "sessions_b = np.random.normal(4.5, 1, 15)\n",
    "session_times = np.concatenate([sessions_a, sessions_b ])\n",
    "groups = ['a'] * 25 + ['b'] * 15\n",
    "df = pd.DataFrame({'group': groups, 'session_time': session_times})\n",
    "df.sample(3)"
   ]
  },
  {
   "cell_type": "code",
   "execution_count": 6,
   "metadata": {},
   "outputs": [
    {
     "name": "stdout",
     "output_type": "stream",
     "text": [
      "Mean difference in session times is 0.51 seconds.\n"
     ]
    },
    {
     "data": {
      "image/png": "[encoded data removed]",
      "text/plain": [
       "<Figure size 432x288 with 1 Axes>"
      ]
     },
     "metadata": {
      "image/png": {
       "height": 254,
       "width": 358
      }
     },
     "output_type": "display_data"
    }
   ],
   "source": [
    "# Calculate and plot means\n",
    "\n",
    "mean_a = df[df['group'] == 'a'].session_time.mean()\n",
    "mean_b = df[df['group'] == 'b'].session_time.mean()\n",
    "mean_diff = mean_b - mean_a\n",
    "df.groupby('group').mean().plot(kind='bar', legend=None)\n",
    "print(f'Mean difference in session times is {mean_diff:.2} seconds.')"
   ]
  },
  {
   "cell_type": "code",
   "execution_count": 9,
   "metadata": {},
   "outputs": [],
   "source": [
    "# Create permutations\n",
    "\n",
    "def random_perm(x, n_a, n_b):\n",
    "    \"\"\" Return difference in x for random groups of size n_a \n",
    "    and n_b (groups are sampled without replacement). \"\"\"\n",
    "    n = n_a + n_b\n",
    "    idx_a = set(random.sample(range(n), n_a))\n",
    "    idx_b = set(range(n)) - idx_a\n",
    "    return x.loc[idx_a].mean() - x.loc[idx_b].mean()\n",
    "\n",
    "def bootstrap_perm(x, n_a, n_b):\n",
    "    \"\"\" Return difference in x for random groups of size n_a \n",
    "    and n_b (groups are sampled with replacement). \"\"\"\n",
    "    n = n_a + n_b\n",
    "    idx_a = random.choices(range(n), k=n_a)\n",
    "    idx_b = random.choices(range(n), k=n_b)\n",
    "    return x.loc[idx_a].mean() - x.loc[idx_b].mean()\n",
    "\n",
    "random_diffs = [random_perm(df['session_time'], 25, 15) for _ in range(1000)]\n",
    "bootstrap_diffs = [bootstrap_perm(df['session_time'], 25, 15) for _ in range(1000)]"
   ]
  },
  {
   "cell_type": "code",
   "execution_count": 12,
   "metadata": {},
   "outputs": [
    {
     "name": "stdout",
     "output_type": "stream",
     "text": [
      "Random: P-value of observed difference is 0.052\n",
      "Bootstrap: P-value of observed difference is 0.059\n"
     ]
    },
    {
     "data": {
      "image/png": "[encoded data removed]",
      "text/plain": [
       "<Figure size 720x288 with 2 Axes>"
      ]
     },
     "metadata": {
      "image/png": {
       "height": 258,
       "width": 606
      }
     },
     "output_type": "display_data"
    }
   ],
   "source": [
    "# Plot distribution of permuation differences and group difference and calculate p-value\n",
    "\n",
    "fig, (ax0, ax1) = plt.subplots(1, 2, sharey=True, figsize=(10, 4))\n",
    "\n",
    "ax0.hist(random_diffs, bins=15)\n",
    "ax0.axvline(mean_diff, color='orange', lw=2, ls='--')\n",
    "ax0.set_xlabel('Session time differences (in seconds)')\n",
    "ax0.set_ylabel('Frequency')\n",
    "\n",
    "ax1.hist(bootstrap_diffs, bins=15)\n",
    "ax1.axvline(mean_diff, color='orange', lw=2, ls='--')\n",
    "ax1.set_xlabel('Session time differences (in seconds)')\n",
    "\n",
    "p_random = sum(random_diffs > mean_diff) / len(random_diffs)\n",
    "p_bootstrap = sum(bootstrap_diffs > mean_diff) / len(bootstrap_diffs)\n",
    "print(f'Random: P-value of observed difference is {p_random}')\n",
    "print(f'Bootstrap: P-value of observed difference is {p_bootstrap}')"
   ]
  },
  {
   "cell_type": "markdown",
   "metadata": {},
   "source": [
    "### Comparing resampling and formal testing\n",
    "\n",
    "We have different conversion rates for two prices A and B as shown below. Test whether the difference in conversion rates is statistically significant at the 5 percent level.\n",
    "\n",
    "Price A: conversion: 200; non-conversion 23539\n",
    "\n",
    "Price B: conversion: 182; non-conversion 22406"
   ]
  },
  {
   "cell_type": "code",
   "execution_count": 13,
   "metadata": {},
   "outputs": [
    {
     "data": {
      "text/html": [
       "<div>\n",
       "<style scoped>\n",
       "    .dataframe tbody tr th:only-of-type {\n",
       "        vertical-align: middle;\n",
       "    }\n",
       "\n",
       "    .dataframe tbody tr th {\n",
       "        vertical-align: top;\n",
       "    }\n",
       "\n",
       "    .dataframe thead th {\n",
       "        text-align: right;\n",
       "    }\n",
       "</style>\n",
       "<table border=\"1\" class=\"dataframe\">\n",
       "  <thead>\n",
       "    <tr style=\"text-align: right;\">\n",
       "      <th></th>\n",
       "      <th>group</th>\n",
       "      <th>conv</th>\n",
       "    </tr>\n",
       "  </thead>\n",
       "  <tbody>\n",
       "    <tr>\n",
       "      <th>0</th>\n",
       "      <td>a</td>\n",
       "      <td>1</td>\n",
       "    </tr>\n",
       "    <tr>\n",
       "      <th>1</th>\n",
       "      <td>a</td>\n",
       "      <td>1</td>\n",
       "    </tr>\n",
       "    <tr>\n",
       "      <th>2</th>\n",
       "      <td>a</td>\n",
       "      <td>1</td>\n",
       "    </tr>\n",
       "    <tr>\n",
       "      <th>3</th>\n",
       "      <td>a</td>\n",
       "      <td>1</td>\n",
       "    </tr>\n",
       "    <tr>\n",
       "      <th>4</th>\n",
       "      <td>a</td>\n",
       "      <td>1</td>\n",
       "    </tr>\n",
       "  </tbody>\n",
       "</table>\n",
       "</div>"
      ],
      "text/plain": [
       "  group  conv\n",
       "0     a     1\n",
       "1     a     1\n",
       "2     a     1\n",
       "3     a     1\n",
       "4     a     1"
      ]
     },
     "execution_count": 13,
     "metadata": {},
     "output_type": "execute_result"
    }
   ],
   "source": [
    "# Create dataset and calculate difference in conversion rate\n",
    "\n",
    "a = [200, 23539]; b = [182, 22406]        # [conversions, non-conversions]\n",
    "groups = ['a'] * sum(a) + ['b'] * sum(b)\n",
    "outcomes = [1] * a[0] + [0] * a[1] + [1] * b[0] + [0] * b[1]\n",
    "df = pd.DataFrame({'group': groups, 'conv': outcomes})\n",
    "df.head()"
   ]
  },
  {
   "cell_type": "code",
   "execution_count": 14,
   "metadata": {},
   "outputs": [
    {
     "name": "stdout",
     "output_type": "stream",
     "text": [
      "Difference in conversion rate is 0.0368 percentage points.\n"
     ]
    }
   ],
   "source": [
    "# Calculate difference in conversion rates\n",
    "\n",
    "conv_a = df[df['group'] == 'a'].conv.mean()\n",
    "conv_b = df[df['group'] == 'b'].conv.mean()\n",
    "conv_diff = conv_a - conv_b\n",
    "print(f'Difference in conversion rate is {conv_diff * 100:.3} percentage points.')"
   ]
  },
  {
   "cell_type": "code",
   "execution_count": null,
   "metadata": {},
   "outputs": [],
   "source": [
    "# Using resampling to test for significance of difference in conversion rates\n",
    "\n",
    "random_diffs = [random_perm(df['conv'], sum(a), sum(b)) for _ in range(1000)]\n",
    "\n",
    "p_random = sum(random_diffs > conv_diff) / len(random_diffs)\n",
    "print(f'P-value is {p_random}')"
   ]
  },
  {
   "cell_type": "code",
   "execution_count": null,
   "metadata": {},
   "outputs": [],
   "source": [
    "# Using a (one-sided) two-proportion z-test\n",
    "\n",
    "from statsmodels.stats.proportion import proportions_ztest\n",
    "\n",
    "convs = np.array([a[0], b[0]])\n",
    "obs = np.array([sum(a), sum(b)])\n",
    "z, p = proportions_ztest(convs, obs, alternative='larger')\n",
    "print(f'P-value is {p:.3}')"
   ]
  },
  {
   "cell_type": "code",
   "execution_count": null,
   "metadata": {},
   "outputs": [],
   "source": [
    "# Using a (one-sided) Chi-Squared test of independence\n",
    "\n",
    "import scipy.stats\n",
    "\n",
    "chi2, p, df, E = scipy.stats.chi2_contingency([[a[0], a[1]], [b[0], b[1]]])\n",
    "print(f'P-value is {p / 2:.4}')"
   ]
  },
  {
   "cell_type": "code",
   "execution_count": null,
   "metadata": {},
   "outputs": [],
   "source": [
    "# Using a (one-sided) t-test\n",
    "\n",
    "outcomes_a = outcomes[:sum(a)]\n",
    "outcomes_b = outcomes[sum(a):]\n",
    "\n",
    "t, p = scipy.stats.ttest_ind(outcomes_a, outcomes_b, equal_var=False)\n",
    "print(f'P-value is {p / 2:.4}')"
   ]
  },
  {
   "cell_type": "markdown",
   "metadata": {},
   "source": [
    "### Multiple testing\n",
    "\n",
    "- If we use a significance level of 5 percent, then if we run 20 hypothesis tests the probability that we will at least make one Type I error (find a significant result purely due to chance) is $1 - 0.95^{20} = 0.64$.\n",
    "- This, in essence, captures the problem of multiple comparisons, which applies similarly to trying out different model specifications and models -- the more you try, the larger the probability that significant results appear due to chance.\n",
    "- Ways to guard against this: explicit corrections (like Bonferroni) in the case of multiple hypothesis tests, holdout sets in classification tasks, awareness of the problem in unsupervised learning tasks"
   ]
  },
  {
   "cell_type": "markdown",
   "metadata": {},
   "source": [
    "### ANOVA\n",
    "\n",
    "- Used to test for significant differences among numeric outcomes of various groups all at once in an omnibus test.\n",
    "- Alternatively, we could use pairwise comparisons, but for even small numbers of groups this would require many testes (e.g. 6 test for 4 groups), and we'd run into the multiple testing problem."
   ]
  },
  {
   "cell_type": "code",
   "execution_count": 368,
   "metadata": {},
   "outputs": [
    {
     "name": "stdout",
     "output_type": "stream",
     "text": [
      "Observed variance of means is 0.36.\n"
     ]
    },
    {
     "data": {
      "image/png": "[encoded data removed]",
      "text/plain": [
       "<Figure size 432x288 with 1 Axes>"
      ]
     },
     "metadata": {
      "image/png": {
       "height": 254,
       "width": 358
      }
     },
     "output_type": "display_data"
    }
   ],
   "source": [
    "# Create dataset \n",
    "\n",
    "np.random.seed(2312)\n",
    "n = 10\n",
    "groups = np.sort(['a', 'b', 'c', 'd'] * n)\n",
    "times_a = np.random.normal(5, 1, n)\n",
    "times_b = np.random.normal(4.5, 1, n)\n",
    "times_c = np.random.normal(4.25, 1, n)\n",
    "times_d = np.random.normal(4, 1, n)\n",
    "times = np.concatenate([times_a, times_b, times_c, times_d])\n",
    "df = pd.DataFrame({'group': groups, 'time': times})\n",
    "df.head()\n",
    "\n",
    "observed_var = df.groupby('group').mean().var()[0]\n",
    "\n",
    "df.groupby('group').mean().plot(kind='bar', legend=None);\n",
    "print(f'Observed variance of means is {observed_var:.2}.')"
   ]
  },
  {
   "cell_type": "code",
   "execution_count": 384,
   "metadata": {},
   "outputs": [
    {
     "name": "stdout",
     "output_type": "stream",
     "text": [
      "P-value is 0.029\n"
     ]
    }
   ],
   "source": [
    "# Run ANOVA permutation test\n",
    "\n",
    "def perm_var(df):\n",
    "    df = df.copy()\n",
    "    df['time'] = np.random.permutation(df['time'].values)\n",
    "    return df.groupby('group').mean().var()[0]\n",
    "\n",
    "p = np.mean([perm_var(df) > observed_var for _ in range(1000)])\n",
    "print(f'P-value is {p:.2}')"
   ]
  },
  {
   "cell_type": "code",
   "execution_count": null,
   "metadata": {},
   "outputs": [],
   "source": []
  }
 ],
 "metadata": {
  "kernelspec": {
   "display_name": "pottering",
   "language": "python",
   "name": "pottering"
  },
  "language_info": {
   "codemirror_mode": {
    "name": "ipython",
    "version": 3
   },
   "file_extension": ".py",
   "mimetype": "text/x-python",
   "name": "python",
   "nbconvert_exporter": "python",
   "pygments_lexer": "ipython3",
   "version": "3.7.6"
  }
 },
 "nbformat": 4,
 "nbformat_minor": 2
}
