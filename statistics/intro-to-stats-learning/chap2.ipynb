{
 "cells": [
  {
   "cell_type": "markdown",
   "metadata": {},
   "source": [
    "The plan:\n",
    "\n",
    "- Read through [Introduction to statistical learnings](http://faculty.marshall.usc.edu/gareth-james/ISL/data.html) and take notes.\n",
    "\n",
    "- Also add basic implementation best practices in Python, using [Python Data Science Handbook](https://jakevdp.github.io/PythonDataScienceHandbook/) as the main reference.\n",
    "\n",
    "Extra steps:\n",
    "\n",
    "- Add notes from 100-page machine-learning book\n",
    "\n",
    "- Watch Ng course videos"
   ]
  },
  {
   "cell_type": "code",
   "execution_count": null,
   "metadata": {},
   "outputs": [],
   "source": []
  }
 ],
 "metadata": {
  "kernelspec": {
   "display_name": "basics",
   "language": "python",
   "name": "basics"
  },
  "language_info": {
   "codemirror_mode": {
    "name": "ipython",
    "version": 3
   },
   "file_extension": ".py",
   "mimetype": "text/x-python",
   "name": "python",
   "nbconvert_exporter": "python",
   "pygments_lexer": "ipython3",
   "version": "3.7.6"
  }
 },
 "nbformat": 4,
 "nbformat_minor": 4
}
