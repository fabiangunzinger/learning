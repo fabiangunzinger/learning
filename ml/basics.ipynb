{
 "cells": [
  {
   "cell_type": "markdown",
   "metadata": {},
   "source": [
    "Goal:\n",
    "- Read through all sections in hundredpage ml book\n",
    "- Read through relevant sections in ISL\n",
    "- Read through relevant sections in applied predictive modelling\n",
    "- Read through relevant sections in python datascience handbook\n",
    "- Incorporate additional relevant sources"
   ]
  },
  {
   "cell_type": "markdown",
   "metadata": {},
   "source": [
    "# Introduction and definitions"
   ]
  },
  {
   "cell_type": "markdown",
   "metadata": {},
   "source": [
    "**Why do we estimate f?**\n",
    "\n",
    "- Purpose of ml is often to infer a function f that describes the relationship between target and features.\n",
    "\n",
    "- Can estimate f for (1) prediction or (2) inference or both."
   ]
  },
  {
   "cell_type": "markdown",
   "metadata": {},
   "source": [
    "**How do we estimate f?**\n",
    "\n",
    "- 3 basic approaches: parametric (assume shape of f and estimate coefficients), non-parametric (also estimate shape of f), semi-parametric.\n",
    "\n",
    "- Accuracy depends on (1) irreducible error (variance of error term) and (2) reducible error (appropriateness of our model and its assumptions)"
   ]
  },
  {
   "cell_type": "markdown",
   "metadata": {},
   "source": [
    "**Ingredients to statistical learning**\n",
    "\n",
    "- Specify aim\n",
    "\n",
    "- Gather and pre-process data\n",
    "\n",
    "- Select a learning algorithm\n",
    "\n",
    "- Apply learning algorithm to data to build (and train) a model\n",
    "\n",
    "- Assess model performance (by testing) and tune model\n",
    "\n",
    "- Make predictions"
   ]
  },
  {
   "cell_type": "markdown",
   "metadata": {},
   "source": [
    "**Types of learning**\n",
    "\n",
    "- Supervised (labelled examples)\n",
    "\n",
    "- Unsupervised (unlabelled examples)\n",
    "\n",
    "- Semi-supervised (labelled and unlabelled examples)\n",
    "\n",
    "- Reinforcement"
   ]
  },
  {
   "cell_type": "markdown",
   "metadata": {},
   "source": [
    "**The trade-off between prediction accuracy and model interpretability**\n",
    "\n",
    "- Linear models vs non-linear models (hard to interpret models often predict more accurately)."
   ]
  },
  {
   "cell_type": "markdown",
   "metadata": {},
   "source": [
    "**Supervised vs. unsupervised learning**"
   ]
  },
  {
   "cell_type": "markdown",
   "metadata": {},
   "source": [
    "**Regression vs classification problems**\n",
    "\n",
    "- Classification assigns categorical labels, regression real-valued labels to unlabelled examples."
   ]
  },
  {
   "cell_type": "markdown",
   "metadata": {},
   "source": [
    "**Hyperparameters vs parameters**\n",
    "\n",
    "- Hyperparameters determine how the algorithm works and are set by the researcher.\n",
    "\n",
    "- Parameters determine the shape of the model and are estimated. "
   ]
  },
  {
   "cell_type": "markdown",
   "metadata": {},
   "source": [
    "**Model-based vs instance-based learning**\n",
    "\n",
    "- Model-based algorithms estimate and then use parameters to make predictions (i.e. can discard training data once you have estimate), instance-based algorithms (e.g. KNN) use the entire training dataset."
   ]
  },
  {
   "cell_type": "markdown",
   "metadata": {},
   "source": [
    "**Deep vs shallow learning**\n",
    "\n",
    "- Shallow learning algorithms learn parameters directly from features, deep learning algorithms (deep neural network) learn them from the output of preceeding layers."
   ]
  },
  {
   "cell_type": "markdown",
   "metadata": {},
   "source": [
    "# Practical tips"
   ]
  },
  {
   "cell_type": "markdown",
   "metadata": {},
   "source": [
    "- One way to get a sense of how non-linear the problem is, is to compare the MSE of a simple linear model and a more complex model. If the two are very close, then assuming linearity and using a simple model is preferrable."
   ]
  },
  {
   "cell_type": "markdown",
   "metadata": {},
   "source": [
    "# Sources\n",
    "\n",
    "- [Wikipedia](https://en.wikipedia.org/wiki/Logistic_function)\n",
    "\n",
    "- [Roc](https://machinelearningmastery.com/roc-curves-and-precision-recall-curves-for-classification-in-python/)"
   ]
  },
  {
   "cell_type": "code",
   "execution_count": null,
   "metadata": {},
   "outputs": [],
   "source": []
  }
 ],
 "metadata": {
  "kernelspec": {
   "display_name": "habits",
   "language": "python",
   "name": "habits"
  },
  "language_info": {
   "codemirror_mode": {
    "name": "ipython",
    "version": 3
   },
   "file_extension": ".py",
   "mimetype": "text/x-python",
   "name": "python",
   "nbconvert_exporter": "python",
   "pygments_lexer": "ipython3",
   "version": "3.7.7"
  },
  "toc-autonumbering": true
 },
 "nbformat": 4,
 "nbformat_minor": 4
}
