{
 "cells": [
  {
   "cell_type": "markdown",
   "metadata": {},
   "source": [
    "Examples from the hands on machine learning [book](https://github.com/ageron/handson-ml2) by Aurélien Geron."
   ]
  },
  {
   "cell_type": "markdown",
   "metadata": {},
   "source": [
    "# Predicting happiness of Cypriots"
   ]
  },
  {
   "cell_type": "code",
   "execution_count": 182,
   "metadata": {},
   "outputs": [],
   "source": [
    "import pandas as pd\n",
    "import numpy as np\n",
    "import matplotlib.pyplot as plt"
   ]
  },
  {
   "cell_type": "markdown",
   "metadata": {},
   "source": [
    "Load data"
   ]
  },
  {
   "cell_type": "code",
   "execution_count": 195,
   "metadata": {},
   "outputs": [
    {
     "data": {
      "text/html": [
       "<div>\n",
       "<style scoped>\n",
       "    .dataframe tbody tr th:only-of-type {\n",
       "        vertical-align: middle;\n",
       "    }\n",
       "\n",
       "    .dataframe tbody tr th {\n",
       "        vertical-align: top;\n",
       "    }\n",
       "\n",
       "    .dataframe thead th {\n",
       "        text-align: right;\n",
       "    }\n",
       "</style>\n",
       "<table border=\"1\" class=\"dataframe\">\n",
       "  <thead>\n",
       "    <tr style=\"text-align: right;\">\n",
       "      <th></th>\n",
       "      <th>country_code</th>\n",
       "      <th>country</th>\n",
       "      <th>life_satisfaction</th>\n",
       "      <th>gdppc</th>\n",
       "    </tr>\n",
       "  </thead>\n",
       "  <tbody>\n",
       "    <tr>\n",
       "      <th>17</th>\n",
       "      <td>IRL</td>\n",
       "      <td>Ireland</td>\n",
       "      <td>7.05</td>\n",
       "      <td>90140.764256</td>\n",
       "    </tr>\n",
       "    <tr>\n",
       "      <th>4</th>\n",
       "      <td>CHE</td>\n",
       "      <td>Switzerland</td>\n",
       "      <td>7.50</td>\n",
       "      <td>70485.014502</td>\n",
       "    </tr>\n",
       "    <tr>\n",
       "      <th>28</th>\n",
       "      <td>NOR</td>\n",
       "      <td>Norway</td>\n",
       "      <td>7.62</td>\n",
       "      <td>69169.203192</td>\n",
       "    </tr>\n",
       "    <tr>\n",
       "      <th>38</th>\n",
       "      <td>USA</td>\n",
       "      <td>United States</td>\n",
       "      <td>7.00</td>\n",
       "      <td>65126.619982</td>\n",
       "    </tr>\n",
       "    <tr>\n",
       "      <th>27</th>\n",
       "      <td>NLD</td>\n",
       "      <td>Netherlands</td>\n",
       "      <td>7.50</td>\n",
       "      <td>59419.863105</td>\n",
       "    </tr>\n",
       "  </tbody>\n",
       "</table>\n",
       "</div>"
      ],
      "text/plain": [
       "   country_code        country  life_satisfaction         gdppc\n",
       "17          IRL        Ireland               7.05  90140.764256\n",
       "4           CHE    Switzerland               7.50  70485.014502\n",
       "28          NOR         Norway               7.62  69169.203192\n",
       "38          USA  United States               7.00  65126.619982\n",
       "27          NLD    Netherlands               7.50  59419.863105"
      ]
     },
     "execution_count": 195,
     "metadata": {},
     "output_type": "execute_result"
    }
   ],
   "source": [
    "def load_bli():\n",
    "    bli = pd.read_csv('./data/oecd-bli.csv', thousands=',')\n",
    "    bli = bli.iloc[:, [0, 1, 3, 14]]\n",
    "    bli = bli.rename(columns={'LOCATION': 'country_code'})\n",
    "    bli = bli.pivot_table('Value', ['country_code', 'Country'], 'Indicator')\n",
    "    bli = bli[['Life satisfaction']]\n",
    "    bli = bli.rename(columns={'Life satisfaction': 'life_satisfaction'})\n",
    "    return bli.reset_index().rename(columns=str.lower)\n",
    "\n",
    "def load_gdp():\n",
    "    gdppc = pd.read_csv('./data/oecd-gdppc.csv', thousands=',')\n",
    "    gdppc = gdppc[gdppc.TIME == 2019]\n",
    "    gdppc = gdppc.rename(columns=str.lower)\n",
    "    gdppc = gdppc.rename(columns={'location': 'country_code', 'value': 'gdppc'})\n",
    "    return gdppc[['country_code', 'gdppc']]\n",
    "\n",
    "def make_dataset(bli, gdppc):\n",
    "    bli = bli.merge(gdppc)\n",
    "    bli = bli.sort_values('gdppc', ascending=False)\n",
    "    drop_idx = [0]\n",
    "    keep_idx = list(set(bli.index) - set(drop_idx))\n",
    "    return bli.iloc[keep_idx]\n",
    "\n",
    "bli = load_bli()\n",
    "gdppc = load_gdp()\n",
    "data = make_dataset(bli, gdppc)\n",
    "\n",
    "X = data[['gdppc']]\n",
    "y = data['life_satisfaction']\n",
    "\n",
    "data.head()"
   ]
  },
  {
   "cell_type": "markdown",
   "metadata": {},
   "source": [
    "Plot relationship of interest"
   ]
  },
  {
   "cell_type": "code",
   "execution_count": 175,
   "metadata": {},
   "outputs": [
    {
     "data": {
      "image/png": "[encoded data removed]",
      "text/plain": [
       "<Figure size 432x288 with 1 Axes>"
      ]
     },
     "metadata": {},
     "output_type": "display_data"
    }
   ],
   "source": [
    "import seaborn as sns\n",
    "sns.set_style('whitegrid')\n",
    "\n",
    "data.plot(kind='scatter', x='gdppc', y='life_satisfaction', c='blue');"
   ]
  },
  {
   "cell_type": "markdown",
   "metadata": {},
   "source": [
    "Model and predict"
   ]
  },
  {
   "cell_type": "code",
   "execution_count": 222,
   "metadata": {},
   "outputs": [
    {
     "name": "stdout",
     "output_type": "stream",
     "text": [
      "Linear regression:  5.9\n",
      "KNN, k=1:           6.5\n",
      "KNN, k=3:           6.2\n"
     ]
    }
   ],
   "source": [
    "from sklearn.linear_model import LinearRegression\n",
    "from sklearn.neighbors import KNeighborsRegressor\n",
    "\n",
    "cyprus_gdp = [[22_587]]\n",
    "\n",
    "lr = LinearRegression()\n",
    "lr.fit(X, y)\n",
    "print(f'Linear regression:  {lr.predict(cyprus_gdp)[0]:.1f}')\n",
    "\n",
    "knn1 = KNeighborsRegressor(n_neighbors=1)\n",
    "knn1.fit(X, y)\n",
    "print(f'KNN, k=1:           {knn1.predict(cyprus_gdp)[0]:.1f}')\n",
    "\n",
    "knn3 = KNeighborsRegressor(n_neighbors=3)\n",
    "knn3.fit(X, y)\n",
    "print(f'KNN, k=3:           {knn3.predict(cyprus_gdp)[0]:.1f}')"
   ]
  },
  {
   "cell_type": "code",
   "execution_count": null,
   "metadata": {},
   "outputs": [],
   "source": []
  }
 ],
 "metadata": {
  "kernelspec": {
   "display_name": "habits",
   "language": "python",
   "name": "habits"
  },
  "language_info": {
   "codemirror_mode": {
    "name": "ipython",
    "version": 3
   },
   "file_extension": ".py",
   "mimetype": "text/x-python",
   "name": "python",
   "nbconvert_exporter": "python",
   "pygments_lexer": "ipython3",
   "version": "3.7.7"
  }
 },
 "nbformat": 4,
 "nbformat_minor": 4
}
