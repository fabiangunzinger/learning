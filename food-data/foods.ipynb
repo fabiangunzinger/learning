{
 "cells": [
  {
   "cell_type": "markdown",
   "metadata": {},
   "source": [
    "Create database"
   ]
  },
  {
   "cell_type": "code",
   "execution_count": 1,
   "metadata": {},
   "outputs": [
    {
     "name": "stderr",
     "output_type": "stream",
     "text": [
      "/Users/fgu/miniconda3/envs/basics/lib/python3.7/site-packages/engarde/checks.py:13: FutureWarning: pandas.util.testing is deprecated. Use the functions in the public API at pandas.testing instead.\n",
      "  import pandas.util.testing as tm\n"
     ]
    },
    {
     "name": "stdout",
     "output_type": "stream",
     "text": [
      "<class 'pandas.core.frame.DataFrame'>\n",
      "Int64Index: 991 entries, 0 to 1017\n",
      "Data columns (total 9 columns):\n",
      " #   Column     Non-Null Count  Dtype  \n",
      "---  ------     --------------  -----  \n",
      " 0   name       991 non-null    object \n",
      " 1   category   991 non-null    object \n",
      " 2   units      991 non-null    object \n",
      " 3   calories   991 non-null    int64  \n",
      " 4   fat        991 non-null    float64\n",
      " 5   carbs      991 non-null    float64\n",
      " 6   fiber      991 non-null    float64\n",
      " 7   protein    991 non-null    float64\n",
      " 8   net_carbs  991 non-null    float64\n",
      "dtypes: float64(5), int64(1), object(3)\n",
      "memory usage: 77.4+ KB\n"
     ]
    }
   ],
   "source": [
    "import pandas as pd\n",
    "import matplotlib.pyplot as plt\n",
    "\n",
    "import engarde.decorators as ed\n",
    "\n",
    "import toolbox.toolbox as tb\n",
    "\n",
    "pd.set_option('display.max_colwidth', None)\n",
    "\n",
    "\n",
    "data = 'Schweizer-Nährwertdatenbank-V6.1.xlsx'\n",
    "\n",
    "foods = tb.read(data)\n",
    "foods.info()"
   ]
  },
  {
   "cell_type": "code",
   "execution_count": 2,
   "metadata": {},
   "outputs": [
    {
     "data": {
      "text/html": [
       "<div>\n",
       "<style scoped>\n",
       "    .dataframe tbody tr th:only-of-type {\n",
       "        vertical-align: middle;\n",
       "    }\n",
       "\n",
       "    .dataframe tbody tr th {\n",
       "        vertical-align: top;\n",
       "    }\n",
       "\n",
       "    .dataframe thead th {\n",
       "        text-align: right;\n",
       "    }\n",
       "</style>\n",
       "<table border=\"1\" class=\"dataframe\">\n",
       "  <thead>\n",
       "    <tr style=\"text-align: right;\">\n",
       "      <th></th>\n",
       "      <th>name</th>\n",
       "      <th>category</th>\n",
       "      <th>units</th>\n",
       "      <th>calories</th>\n",
       "      <th>fat</th>\n",
       "      <th>carbs</th>\n",
       "      <th>fiber</th>\n",
       "      <th>protein</th>\n",
       "      <th>net_carbs</th>\n",
       "    </tr>\n",
       "  </thead>\n",
       "  <tbody>\n",
       "    <tr>\n",
       "      <th>0</th>\n",
       "      <td>agar agar</td>\n",
       "      <td>verschiedenes/gelier- und bindemittel</td>\n",
       "      <td>pro 100g essbarer Anteil</td>\n",
       "      <td>160</td>\n",
       "      <td>0.2</td>\n",
       "      <td>0.0</td>\n",
       "      <td>74.1</td>\n",
       "      <td>2.4</td>\n",
       "      <td>-74.1</td>\n",
       "    </tr>\n",
       "    <tr>\n",
       "      <th>1</th>\n",
       "      <td>agavensirup</td>\n",
       "      <td>süssigkeiten/zucker und süssstoffe</td>\n",
       "      <td>pro 100g essbarer Anteil</td>\n",
       "      <td>293</td>\n",
       "      <td>0.0</td>\n",
       "      <td>73.1</td>\n",
       "      <td>0.0</td>\n",
       "      <td>0.2</td>\n",
       "      <td>73.1</td>\n",
       "    </tr>\n",
       "    <tr>\n",
       "      <th>2</th>\n",
       "      <td>älplermagronen, zubereitet</td>\n",
       "      <td>gerichte/sonstige salzige/rezente gerichte</td>\n",
       "      <td>pro 100g essbarer Anteil</td>\n",
       "      <td>183</td>\n",
       "      <td>9.0</td>\n",
       "      <td>18.6</td>\n",
       "      <td>1.7</td>\n",
       "      <td>6.0</td>\n",
       "      <td>16.9</td>\n",
       "    </tr>\n",
       "    <tr>\n",
       "      <th>3</th>\n",
       "      <td>amaranth, samen, gekocht (ohne zugabe von fett und salz)</td>\n",
       "      <td>getreideprodukte, hülsenfrüchte und kartoffeln/sonstige getreideprodukte</td>\n",
       "      <td>pro 100g essbarer Anteil</td>\n",
       "      <td>126</td>\n",
       "      <td>2.4</td>\n",
       "      <td>19.1</td>\n",
       "      <td>3.7</td>\n",
       "      <td>5.3</td>\n",
       "      <td>15.4</td>\n",
       "    </tr>\n",
       "    <tr>\n",
       "      <th>4</th>\n",
       "      <td>amaranth, samen, roh</td>\n",
       "      <td>getreideprodukte, hülsenfrüchte und kartoffeln/sonstige getreideprodukte</td>\n",
       "      <td>pro 100g essbarer Anteil</td>\n",
       "      <td>376</td>\n",
       "      <td>7.0</td>\n",
       "      <td>56.8</td>\n",
       "      <td>11.0</td>\n",
       "      <td>15.8</td>\n",
       "      <td>45.8</td>\n",
       "    </tr>\n",
       "  </tbody>\n",
       "</table>\n",
       "</div>"
      ],
      "text/plain": [
       "                                                       name  \\\n",
       "0                                                 agar agar   \n",
       "1                                               agavensirup   \n",
       "2                                älplermagronen, zubereitet   \n",
       "3  amaranth, samen, gekocht (ohne zugabe von fett und salz)   \n",
       "4                                      amaranth, samen, roh   \n",
       "\n",
       "                                                                   category  \\\n",
       "0                                     verschiedenes/gelier- und bindemittel   \n",
       "1                                        süssigkeiten/zucker und süssstoffe   \n",
       "2                                gerichte/sonstige salzige/rezente gerichte   \n",
       "3  getreideprodukte, hülsenfrüchte und kartoffeln/sonstige getreideprodukte   \n",
       "4  getreideprodukte, hülsenfrüchte und kartoffeln/sonstige getreideprodukte   \n",
       "\n",
       "                      units  calories  fat  carbs  fiber  protein  net_carbs  \n",
       "0  pro 100g essbarer Anteil       160  0.2    0.0   74.1      2.4      -74.1  \n",
       "1  pro 100g essbarer Anteil       293  0.0   73.1    0.0      0.2       73.1  \n",
       "2  pro 100g essbarer Anteil       183  9.0   18.6    1.7      6.0       16.9  \n",
       "3  pro 100g essbarer Anteil       126  2.4   19.1    3.7      5.3       15.4  \n",
       "4  pro 100g essbarer Anteil       376  7.0   56.8   11.0     15.8       45.8  "
      ]
     },
     "execution_count": 2,
     "metadata": {},
     "output_type": "execute_result"
    }
   ],
   "source": [
    "foods.head()"
   ]
  },
  {
   "cell_type": "markdown",
   "metadata": {},
   "source": [
    "Find items"
   ]
  },
  {
   "cell_type": "code",
   "execution_count": 3,
   "metadata": {},
   "outputs": [
    {
     "data": {
      "text/html": [
       "<div>\n",
       "<style scoped>\n",
       "    .dataframe tbody tr th:only-of-type {\n",
       "        vertical-align: middle;\n",
       "    }\n",
       "\n",
       "    .dataframe tbody tr th {\n",
       "        vertical-align: top;\n",
       "    }\n",
       "\n",
       "    .dataframe thead th {\n",
       "        text-align: right;\n",
       "    }\n",
       "</style>\n",
       "<table border=\"1\" class=\"dataframe\">\n",
       "  <thead>\n",
       "    <tr style=\"text-align: right;\">\n",
       "      <th></th>\n",
       "      <th>name</th>\n",
       "      <th>category</th>\n",
       "      <th>units</th>\n",
       "      <th>calories</th>\n",
       "      <th>fat</th>\n",
       "      <th>carbs</th>\n",
       "      <th>fiber</th>\n",
       "      <th>protein</th>\n",
       "      <th>net_carbs</th>\n",
       "    </tr>\n",
       "  </thead>\n",
       "  <tbody>\n",
       "    <tr>\n",
       "      <th>315</th>\n",
       "      <td>hühnerei, ganz, festgekocht</td>\n",
       "      <td>eier</td>\n",
       "      <td>pro 100g essbarer Anteil</td>\n",
       "      <td>157</td>\n",
       "      <td>11.4</td>\n",
       "      <td>0.3</td>\n",
       "      <td>0.0</td>\n",
       "      <td>13.2</td>\n",
       "      <td>0.3</td>\n",
       "    </tr>\n",
       "    <tr>\n",
       "      <th>316</th>\n",
       "      <td>hühnerei, ganz, roh</td>\n",
       "      <td>eier</td>\n",
       "      <td>pro 100g essbarer Anteil</td>\n",
       "      <td>142</td>\n",
       "      <td>10.3</td>\n",
       "      <td>0.3</td>\n",
       "      <td>0.0</td>\n",
       "      <td>11.9</td>\n",
       "      <td>0.3</td>\n",
       "    </tr>\n",
       "    <tr>\n",
       "      <th>317</th>\n",
       "      <td>hühnereigelb, roh (eidotter)</td>\n",
       "      <td>eier</td>\n",
       "      <td>pro 100g essbarer Anteil</td>\n",
       "      <td>350</td>\n",
       "      <td>31.5</td>\n",
       "      <td>0.2</td>\n",
       "      <td>0.0</td>\n",
       "      <td>16.5</td>\n",
       "      <td>0.2</td>\n",
       "    </tr>\n",
       "    <tr>\n",
       "      <th>318</th>\n",
       "      <td>hühnereiweiss, roh (eiklar)</td>\n",
       "      <td>eier</td>\n",
       "      <td>pro 100g essbarer Anteil</td>\n",
       "      <td>44</td>\n",
       "      <td>0.1</td>\n",
       "      <td>0.3</td>\n",
       "      <td>0.0</td>\n",
       "      <td>10.5</td>\n",
       "      <td>0.3</td>\n",
       "    </tr>\n",
       "  </tbody>\n",
       "</table>\n",
       "</div>"
      ],
      "text/plain": [
       "                             name category                     units  \\\n",
       "315   hühnerei, ganz, festgekocht     eier  pro 100g essbarer Anteil   \n",
       "316           hühnerei, ganz, roh     eier  pro 100g essbarer Anteil   \n",
       "317  hühnereigelb, roh (eidotter)     eier  pro 100g essbarer Anteil   \n",
       "318   hühnereiweiss, roh (eiklar)     eier  pro 100g essbarer Anteil   \n",
       "\n",
       "     calories   fat  carbs  fiber  protein  net_carbs  \n",
       "315       157  11.4    0.3    0.0     13.2        0.3  \n",
       "316       142  10.3    0.3    0.0     11.9        0.3  \n",
       "317       350  31.5    0.2    0.0     16.5        0.2  \n",
       "318        44   0.1    0.3    0.0     10.5        0.3  "
      ]
     },
     "execution_count": 3,
     "metadata": {},
     "output_type": "execute_result"
    }
   ],
   "source": [
    "tb.find_item(foods, 'hühnere')"
   ]
  },
  {
   "cell_type": "markdown",
   "metadata": {},
   "source": [
    "Build dataset with my foods "
   ]
  },
  {
   "cell_type": "code",
   "execution_count": 4,
   "metadata": {},
   "outputs": [
    {
     "data": {
      "text/html": [
       "<div>\n",
       "<style scoped>\n",
       "    .dataframe tbody tr th:only-of-type {\n",
       "        vertical-align: middle;\n",
       "    }\n",
       "\n",
       "    .dataframe tbody tr th {\n",
       "        vertical-align: top;\n",
       "    }\n",
       "\n",
       "    .dataframe thead th {\n",
       "        text-align: right;\n",
       "    }\n",
       "</style>\n",
       "<table border=\"1\" class=\"dataframe\">\n",
       "  <thead>\n",
       "    <tr style=\"text-align: right;\">\n",
       "      <th></th>\n",
       "      <th>name</th>\n",
       "      <th>category</th>\n",
       "      <th>units</th>\n",
       "      <th>calories</th>\n",
       "      <th>fat</th>\n",
       "      <th>carbs</th>\n",
       "      <th>fiber</th>\n",
       "      <th>protein</th>\n",
       "      <th>net_carbs</th>\n",
       "    </tr>\n",
       "  </thead>\n",
       "  <tbody>\n",
       "    <tr>\n",
       "      <th>315</th>\n",
       "      <td>eggs</td>\n",
       "      <td>eier</td>\n",
       "      <td>pro 100g essbarer Anteil</td>\n",
       "      <td>157</td>\n",
       "      <td>11.4</td>\n",
       "      <td>0.3</td>\n",
       "      <td>0.0</td>\n",
       "      <td>13.2</td>\n",
       "      <td>0.3</td>\n",
       "    </tr>\n",
       "  </tbody>\n",
       "</table>\n",
       "</div>"
      ],
      "text/plain": [
       "     name category                     units  calories   fat  carbs  fiber  \\\n",
       "315  eggs     eier  pro 100g essbarer Anteil       157  11.4    0.3    0.0   \n",
       "\n",
       "     protein  net_carbs  \n",
       "315     13.2        0.3  "
      ]
     },
     "execution_count": 4,
     "metadata": {},
     "output_type": "execute_result"
    }
   ],
   "source": [
    "my_foods = {\n",
    "    'avocado, roh': 'avocado',\n",
    "    'blattsalat (durchschnitt), roh': 'lettuce',\n",
    "    'champignon, roh': 'mushrooms',    \n",
    "    'fleisch (durchschnitt exkl. innereien), roh': 'meat',\n",
    "    'gemüse (durchschnitt), roh': 'vegetables',\n",
    "    'hart- und halbhartkäse, vollfett (durchschnitt)': 'cheese',\n",
    "    'hühnerei, ganz, festgekocht': 'eggs',\n",
    "    'kakaopulver': 'cocoa powder', \n",
    "    'kochbutter': 'butter',\n",
    "    'kokosfett': 'coconut fat',\n",
    "    'kokosnuss, getrocknet (kokosrapseln, kokosflocken)': 'coconut flakes',\n",
    "    'mandel': 'almond',\n",
    "    'olivenöl': 'olive oil',\n",
    "    'peperoni, rot, roh': 'red pepper',\n",
    "    'poulet, schenkel, mit haut, gebraten (ohne zusatz von fett und salz)': 'chicken leg',\n",
    "    'poulet, brust, schnitzel oder geschnetzeltes, gebraten (ohne zusatz von fett und salz)': 'chicken breast',\n",
    "    'samen, kerne, nüsse (durchschnitt), ungesalzen': 'nuts and seed mix',\n",
    "    'schwein, hals, steak, gebraten (ohne zusatz von fett und salz)': 'pork steak',\n",
    "    'spinat, roh': 'spinach', \n",
    "    'tofu': 'tofu',\n",
    "}\n",
    "\n",
    "\n",
    "myfoods = tb.make_myfoods(foods, my_foods)\n",
    "\n",
    "tb.find_item(myfoods, 'egg')"
   ]
  },
  {
   "cell_type": "code",
   "execution_count": 5,
   "metadata": {},
   "outputs": [
    {
     "ename": "ValueError",
     "evalue": "not enough values to unpack (expected 3, got 2)",
     "output_type": "error",
     "traceback": [
      "\u001b[0;31m---------------------------------------------------------------------------\u001b[0m",
      "\u001b[0;31mValueError\u001b[0m                                Traceback (most recent call last)",
      "\u001b[0;32m<ipython-input-5-f9fe911fc8cb>\u001b[0m in \u001b[0;36m<module>\u001b[0;34m\u001b[0m\n\u001b[1;32m     62\u001b[0m \u001b[0;34m\u001b[0m\u001b[0m\n\u001b[1;32m     63\u001b[0m \u001b[0mfig\u001b[0m\u001b[0;34m,\u001b[0m \u001b[0max\u001b[0m \u001b[0;34m=\u001b[0m \u001b[0mplt\u001b[0m\u001b[0;34m.\u001b[0m\u001b[0msubplots\u001b[0m\u001b[0;34m(\u001b[0m\u001b[0;36m1\u001b[0m\u001b[0;34m,\u001b[0m \u001b[0;36m3\u001b[0m\u001b[0;34m,\u001b[0m \u001b[0mfigsize\u001b[0m\u001b[0;34m=\u001b[0m\u001b[0;34m(\u001b[0m\u001b[0;36m12\u001b[0m\u001b[0;34m,\u001b[0m \u001b[0;36m8\u001b[0m\u001b[0;34m)\u001b[0m\u001b[0;34m)\u001b[0m\u001b[0;34m\u001b[0m\u001b[0;34m\u001b[0m\u001b[0m\n\u001b[0;32m---> 64\u001b[0;31m \u001b[0mmake_doughnut\u001b[0m\u001b[0;34m(\u001b[0m\u001b[0mtotal_nuts\u001b[0m\u001b[0;34m,\u001b[0m \u001b[0;34m'total'\u001b[0m\u001b[0;34m,\u001b[0m \u001b[0;36m0\u001b[0m\u001b[0;34m)\u001b[0m\u001b[0;34m\u001b[0m\u001b[0;34m\u001b[0m\u001b[0m\n\u001b[0m\u001b[1;32m     65\u001b[0m \u001b[0mmake_doughnut\u001b[0m\u001b[0;34m(\u001b[0m\u001b[0mlunch_nuts\u001b[0m\u001b[0;34m,\u001b[0m \u001b[0;34m'lunch'\u001b[0m\u001b[0;34m,\u001b[0m \u001b[0;36m1\u001b[0m\u001b[0;34m)\u001b[0m\u001b[0;34m\u001b[0m\u001b[0;34m\u001b[0m\u001b[0m\n\u001b[1;32m     66\u001b[0m \u001b[0mmake_doughnut\u001b[0m\u001b[0;34m(\u001b[0m\u001b[0msupper_nuts\u001b[0m\u001b[0;34m,\u001b[0m \u001b[0;34m'supper'\u001b[0m\u001b[0;34m,\u001b[0m \u001b[0;36m2\u001b[0m\u001b[0;34m)\u001b[0m\u001b[0;34m\u001b[0m\u001b[0;34m\u001b[0m\u001b[0m\n",
      "\u001b[0;32m<ipython-input-5-f9fe911fc8cb>\u001b[0m in \u001b[0;36mmake_doughnut\u001b[0;34m(data, title, axis)\u001b[0m\n\u001b[1;32m     16\u001b[0m     wedges, _, _ = ax[axis].pie(macros, wedgeprops=dict(width=0.7),\n\u001b[1;32m     17\u001b[0m                           \u001b[0mtextprops\u001b[0m\u001b[0;34m=\u001b[0m\u001b[0mdict\u001b[0m\u001b[0;34m(\u001b[0m\u001b[0mcolor\u001b[0m\u001b[0;34m=\u001b[0m\u001b[0;34m'white'\u001b[0m\u001b[0;34m,\u001b[0m \u001b[0msize\u001b[0m\u001b[0;34m=\u001b[0m\u001b[0;36m15\u001b[0m\u001b[0;34m)\u001b[0m\u001b[0;34m,\u001b[0m\u001b[0;34m\u001b[0m\u001b[0;34m\u001b[0m\u001b[0m\n\u001b[0;32m---> 18\u001b[0;31m                           labels=['fa', 'pro', 'car'])\n\u001b[0m\u001b[1;32m     19\u001b[0m     ax[axis].legend(wedges, macros.index,\n\u001b[1;32m     20\u001b[0m               \u001b[0mbbox_to_anchor\u001b[0m\u001b[0;34m=\u001b[0m\u001b[0;34m(\u001b[0m\u001b[0;36m.3\u001b[0m\u001b[0;34m,\u001b[0m \u001b[0;34m-\u001b[0m\u001b[0;36m1\u001b[0m\u001b[0;34m,\u001b[0m \u001b[0;36m.5\u001b[0m\u001b[0;34m,\u001b[0m \u001b[0;36m1\u001b[0m\u001b[0;34m)\u001b[0m\u001b[0;34m,\u001b[0m\u001b[0;34m\u001b[0m\u001b[0;34m\u001b[0m\u001b[0m\n",
      "\u001b[0;31mValueError\u001b[0m: not enough values to unpack (expected 3, got 2)"
     ]
    },
    {
     "data": {
      "image/png": "[encoded data removed]",
      "text/plain": [
       "<Figure size 864x576 with 3 Axes>"
      ]
     },
     "metadata": {
      "needs_background": "light"
     },
     "output_type": "display_data"
    }
   ],
   "source": [
    "def make_doughnut(data, title, axis):\n",
    "    \"\"\"\n",
    "    Create a piechart based on nutrition data.\n",
    "    \"\"\"\n",
    "    calories = data[0]\n",
    "    macros = data[1:]\n",
    "    \n",
    "    def func(pct, allvals):\n",
    "        absolute = int(pct / 100 * sum(allvals))\n",
    "#         return f\"{pct:.1f}%\\n({absolute:.1f} g)\"\n",
    "        return f\"{pct:.1f}%\"\n",
    "\n",
    "#     wedges, _, _ = ax[axis].pie(macros, wedgeprops=dict(width=0.7),\n",
    "#                           textprops=dict(color='white', size=15),\n",
    "#                           autopct=lambda pct: func(pct, macros))\n",
    "    wedges, _, _ = ax[axis].pie(macros, wedgeprops=dict(width=0.7),\n",
    "                          textprops=dict(color='white', size=15),\n",
    "                          labels=['fa', 'pro', 'car'])\n",
    "    ax[axis].legend(wedges, macros.index,\n",
    "              bbox_to_anchor=(.3, -1, .5, 1),\n",
    "              fontsize=15)\n",
    "    ax[axis].set_title(f'{title}\\n (calories: {calories})',\n",
    "                 fontdict=dict(size=18));\n",
    "    \n",
    "\n",
    "# creatine_bomb = {\n",
    "#     'cocoa powder': 0.1,\n",
    "#     'coconut fat': 0.5,\n",
    "#     'coconut flakes': 0.1,\n",
    "#     'almond': 0.2,\n",
    "# }\n",
    "\n",
    "# snack = {\n",
    "#     'egg': 1.3,\n",
    "#     'olive oil': 0.2,\n",
    "#     'spinach': 0.4,\n",
    "#     'mushrooms': 0.5,\n",
    "# }\n",
    "\n",
    "lunch = {\n",
    "    'lettuce': 2,\n",
    "    'avocado': 1.5,\n",
    "    'olive oil': .2,\n",
    "    'red pepper': 1,\n",
    "    'eggs': 2, \n",
    "    'nuts and seed mix': .5,\n",
    "    'cheese': 0,\n",
    "}\n",
    "\n",
    "supper = {\n",
    "    'vegetables': 0,\n",
    "    'avocado': 1.5,\n",
    "    'butter': .2,\n",
    "    'pork steak': 0,\n",
    "    'cheese': 0\n",
    "}\n",
    "\n",
    "meals = [lunch, supper]\n",
    "total_nuts = pd.concat([tb.calc_nutrients(myfoods, meal) for meal in meals], axis=1).sum(axis=1)\n",
    "lunch_nuts = pd.DataFrame(tb.calc_nutrients(myfoods, lunch)).sum(axis=1)\n",
    "supper_nuts = pd.DataFrame(tb.calc_nutrients(myfoods, supper)).sum(axis=1)\n",
    "\n",
    "fig, ax = plt.subplots(1, 3, figsize=(12, 8))\n",
    "make_doughnut(total_nuts, 'total', 0)\n",
    "make_doughnut(lunch_nuts, 'lunch', 1)\n",
    "make_doughnut(supper_nuts, 'supper', 2)"
   ]
  },
  {
   "cell_type": "code",
   "execution_count": null,
   "metadata": {},
   "outputs": [],
   "source": [
    "pd.Series.it"
   ]
  },
  {
   "cell_type": "markdown",
   "metadata": {},
   "source": [
    "# New"
   ]
  },
  {
   "cell_type": "markdown",
   "metadata": {},
   "source": [
    "Define meals"
   ]
  },
  {
   "cell_type": "code",
   "execution_count": 6,
   "metadata": {},
   "outputs": [],
   "source": [
    "lunch = {\n",
    "    'lettuce': 2,\n",
    "    'avocado': 1.5,\n",
    "    'olive oil': .2,\n",
    "    'red pepper': 1,\n",
    "    'eggs': 2, \n",
    "    'nuts and seed mix': .5,\n",
    "    'cheese': 0,\n",
    "}\n",
    "\n",
    "supper = {\n",
    "    'vegetables': 0,\n",
    "    'avocado': 1.5,\n",
    "    'butter': .2,\n",
    "    'pork steak': 0,\n",
    "    'cheese': 0\n",
    "}\n",
    "\n",
    "meals = [lunch, supper]"
   ]
  },
  {
   "cell_type": "markdown",
   "metadata": {},
   "source": [
    "Calc nuts for each meal and for day"
   ]
  },
  {
   "cell_type": "code",
   "execution_count": 7,
   "metadata": {},
   "outputs": [],
   "source": [
    "def calc_nutrients(data, meal):\n",
    "    \n",
    "    nutrients = ['calories', 'fat', 'protein', 'net_carbs']\n",
    "    \n",
    "    data = data.loc[data.name.isin(meal), nutrients].sum()\n",
    "    \n",
    "    grams = data[1:].copy()\n",
    "    grams['total'] = grams.sum()\n",
    "    \n",
    "    cals = data[1:].copy()\n",
    "    cals['fat'] = grams.fat * 9\n",
    "    cals['protein'] = grams.protein * 4\n",
    "    cals['net_carbs'] = grams.net_carbs * 4\n",
    "    cals['total'] = data['calories']\n",
    "    \n",
    "    nuts = pd.concat([grams, cals], axis=1)\n",
    "    nuts = nuts.reindex(['total', 'fat', 'protein', 'net_carbs'])\n",
    "    nuts[nuts < 0] = 0\n",
    "    nuts.columns = ['grams', 'cals']\n",
    "    \n",
    "    return nuts\n",
    "\n",
    "    \n",
    "meal_nuts = [calc_nutrients(myfoods, meal) for meal in meals]    \n",
    "meal_nuts.append(sum(meal_nuts))"
   ]
  },
  {
   "cell_type": "code",
   "execution_count": 45,
   "metadata": {},
   "outputs": [
    {
     "data": {
      "image/png": "[encoded data removed]",
      "text/plain": [
       "<Figure size 1152x576 with 3 Axes>"
      ]
     },
     "metadata": {},
     "output_type": "display_data"
    }
   ],
   "source": [
    "def make_doughnut(data, axis):\n",
    "    nuts = data[1:]\n",
    "    ax[axis].pie(nuts.cals, autopct='%2.1f%%')\n",
    "\n",
    "    \n",
    "fig, ax = plt.subplots(1, 3, figsize=(16, 8))\n",
    "\n",
    "make_doughnut(meal_nuts[0], 0)\n",
    "make_doughnut(meal_nuts[1], 1)\n",
    "make_doughnut(meal_nuts[2], 2)\n",
    "\n",
    "fig.legend(meal_nuts[0].index[1:], loc='lower center', borderaxespad=5, ncol=3);"
   ]
  },
  {
   "cell_type": "code",
   "execution_count": null,
   "metadata": {},
   "outputs": [],
   "source": []
  }
 ],
 "metadata": {
  "kernelspec": {
   "display_name": "basics",
   "language": "python",
   "name": "basics"
  },
  "language_info": {
   "codemirror_mode": {
    "name": "ipython",
    "version": 3
   },
   "file_extension": ".py",
   "mimetype": "text/x-python",
   "name": "python",
   "nbconvert_exporter": "python",
   "pygments_lexer": "ipython3",
   "version": "3.7.6"
  }
 },
 "nbformat": 4,
 "nbformat_minor": 4
}
