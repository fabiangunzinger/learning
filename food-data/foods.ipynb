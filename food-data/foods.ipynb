{
 "cells": [
  {
   "cell_type": "code",
   "execution_count": 158,
   "metadata": {},
   "outputs": [],
   "source": [
    "import pandas as pd\n",
    "\n",
    "cols = ['Name', 'Kategorie', 'Bezugseinheit', 'Energie, Kalorien', \n",
    "        'Fett, total (g)', 'Kohlenhydrate, verfügbar (g)', 'Nahrungsfasern (g)',\n",
    "        'Protein (g)']\n",
    "\n",
    "names = ['name', 'category', 'units', 'calories', 'fatt',\n",
    "         'carbs', 'fiber', 'protein']\n",
    "\n",
    "foods = ((pd.read_excel('Schweizer-Nährwertdatenbank-V6.1.xlsx',\n",
    "                       skiprows=2, usecols=cols))\n",
    "        )\n",
    "\n",
    "foods.columns = names\n",
    "\n",
    "def to_lower(df, col):\n",
    "    df = df.copy()\n",
    "    df[col] = df[col].str.lower()\n",
    "    return df\n",
    "    \n",
    "foods = to_lower(foods, 'name')\n",
    "\n"
   ]
  },
  {
   "cell_type": "code",
   "execution_count": 172,
   "metadata": {},
   "outputs": [
    {
     "data": {
      "text/html": [
       "<div>\n",
       "<style scoped>\n",
       "    .dataframe tbody tr th:only-of-type {\n",
       "        vertical-align: middle;\n",
       "    }\n",
       "\n",
       "    .dataframe tbody tr th {\n",
       "        vertical-align: top;\n",
       "    }\n",
       "\n",
       "    .dataframe thead th {\n",
       "        text-align: right;\n",
       "    }\n",
       "</style>\n",
       "<table border=\"1\" class=\"dataframe\">\n",
       "  <thead>\n",
       "    <tr style=\"text-align: right;\">\n",
       "      <th></th>\n",
       "      <th>name</th>\n",
       "      <th>category</th>\n",
       "      <th>units</th>\n",
       "      <th>calories</th>\n",
       "      <th>fatt</th>\n",
       "      <th>carbs</th>\n",
       "      <th>fiber</th>\n",
       "      <th>protein</th>\n",
       "    </tr>\n",
       "  </thead>\n",
       "  <tbody>\n",
       "    <tr>\n",
       "      <th>482</th>\n",
       "      <td>linse, ganz, gekocht (ohne zugabe von fett und...</td>\n",
       "      <td>Getreideprodukte, Hülsenfrüchte und Kartoffeln...</td>\n",
       "      <td>pro 100g essbarer Anteil</td>\n",
       "      <td>119</td>\n",
       "      <td>0.5</td>\n",
       "      <td>16.4</td>\n",
       "      <td>6.2</td>\n",
       "      <td>8.9</td>\n",
       "    </tr>\n",
       "    <tr>\n",
       "      <th>483</th>\n",
       "      <td>linse, ganz, getrocknet</td>\n",
       "      <td>Getreideprodukte, Hülsenfrüchte und Kartoffeln...</td>\n",
       "      <td>pro 100g essbarer Anteil</td>\n",
       "      <td>324</td>\n",
       "      <td>1.5</td>\n",
       "      <td>44.8</td>\n",
       "      <td>17</td>\n",
       "      <td>24.4</td>\n",
       "    </tr>\n",
       "    <tr>\n",
       "      <th>484</th>\n",
       "      <td>linse, geschält, gekocht (ohne zugabe von fett...</td>\n",
       "      <td>Getreideprodukte, Hülsenfrüchte und Kartoffeln...</td>\n",
       "      <td>pro 100g essbarer Anteil</td>\n",
       "      <td>139</td>\n",
       "      <td>0.6</td>\n",
       "      <td>20</td>\n",
       "      <td>4.3</td>\n",
       "      <td>11.3</td>\n",
       "    </tr>\n",
       "    <tr>\n",
       "      <th>485</th>\n",
       "      <td>linse, geschält, getrocknet</td>\n",
       "      <td>Getreideprodukte, Hülsenfrüchte und Kartoffeln...</td>\n",
       "      <td>pro 100g essbarer Anteil</td>\n",
       "      <td>334</td>\n",
       "      <td>1.5</td>\n",
       "      <td>48</td>\n",
       "      <td>10.4</td>\n",
       "      <td>27</td>\n",
       "    </tr>\n",
       "  </tbody>\n",
       "</table>\n",
       "</div>"
      ],
      "text/plain": [
       "                                                  name  \\\n",
       "482  linse, ganz, gekocht (ohne zugabe von fett und...   \n",
       "483                            linse, ganz, getrocknet   \n",
       "484  linse, geschält, gekocht (ohne zugabe von fett...   \n",
       "485                        linse, geschält, getrocknet   \n",
       "\n",
       "                                              category  \\\n",
       "482  Getreideprodukte, Hülsenfrüchte und Kartoffeln...   \n",
       "483  Getreideprodukte, Hülsenfrüchte und Kartoffeln...   \n",
       "484  Getreideprodukte, Hülsenfrüchte und Kartoffeln...   \n",
       "485  Getreideprodukte, Hülsenfrüchte und Kartoffeln...   \n",
       "\n",
       "                        units  calories fatt carbs fiber protein  \n",
       "482  pro 100g essbarer Anteil       119  0.5  16.4   6.2     8.9  \n",
       "483  pro 100g essbarer Anteil       324  1.5  44.8    17    24.4  \n",
       "484  pro 100g essbarer Anteil       139  0.6    20   4.3    11.3  \n",
       "485  pro 100g essbarer Anteil       334  1.5    48  10.4      27  "
      ]
     },
     "execution_count": 172,
     "metadata": {},
     "output_type": "execute_result"
    }
   ],
   "source": [
    "food = 'lins'\n",
    "foods.loc[foods.name.str.contains(food)]"
   ]
  },
  {
   "cell_type": "code",
   "execution_count": null,
   "metadata": {},
   "outputs": [],
   "source": [
    "meal = ['dattel, getrocknet']"
   ]
  }
 ],
 "metadata": {
  "kernelspec": {
   "display_name": "basics",
   "language": "python",
   "name": "basics"
  },
  "language_info": {
   "codemirror_mode": {
    "name": "ipython",
    "version": 3
   },
   "file_extension": ".py",
   "mimetype": "text/x-python",
   "name": "python",
   "nbconvert_exporter": "python",
   "pygments_lexer": "ipython3",
   "version": "3.7.6"
  }
 },
 "nbformat": 4,
 "nbformat_minor": 4
}
