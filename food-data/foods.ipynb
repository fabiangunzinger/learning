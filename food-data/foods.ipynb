{
 "cells": [
  {
   "cell_type": "markdown",
   "metadata": {},
   "source": [
    "Create database"
   ]
  },
  {
   "cell_type": "code",
   "execution_count": 1,
   "metadata": {},
   "outputs": [
    {
     "name": "stderr",
     "output_type": "stream",
     "text": [
      "/Users/fgu/miniconda3/envs/basics/lib/python3.7/site-packages/engarde/checks.py:13: FutureWarning: pandas.util.testing is deprecated. Use the functions in the public API at pandas.testing instead.\n",
      "  import pandas.util.testing as tm\n"
     ]
    }
   ],
   "source": [
    "import pandas as pd\n",
    "import matplotlib.pyplot as plt\n",
    "\n",
    "import engarde.decorators as ed\n",
    "\n",
    "import toolbox.toolbox as tb\n",
    "\n",
    "pd.set_option('display.max_colwidth', None)\n",
    "\n",
    "\n",
    "data = 'Schweizer-Nährwertdatenbank-V6.1.xlsx'\n",
    "foods = tb.read(data)\n",
    "\n",
    "\n",
    "my_foods = {\n",
    "    'avocado, roh': 'avocado',\n",
    "    'blattsalat (durchschnitt), roh': 'lettuce',\n",
    "    'blumenkohl, gedämpft (ohne zugabe von salz)': 'cauliflower',\n",
    "    'champignon, roh': 'mushrooms',    \n",
    "    'fleisch (durchschnitt exkl. innereien), roh': 'meat',\n",
    "    'forelle, ganz, gekocht (ohne zusatz von fett und salz)': 'trout',\n",
    "    'gemüse (durchschnitt), roh': 'vegetables',\n",
    "    'hart- und halbhartkäse, vollfett (durchschnitt)': 'cheese',\n",
    "    'hühnerei, ganz, festgekocht': 'eggs',\n",
    "    'kakaopulver': 'cocoa powder', \n",
    "    'kochbutter': 'butter',\n",
    "    'kokosfett': 'coconut fat',\n",
    "    'kokosnuss, getrocknet (kokosrapseln, kokosflocken)': 'coconut flakes',\n",
    "    'mandel': 'almond',\n",
    "    'olivenöl': 'olive oil',\n",
    "    'peperoni, rot, roh': 'red pepper',\n",
    "    'poulet, schenkel, mit haut, gebraten (ohne zusatz von fett und salz)': 'chicken leg',\n",
    "    'poulet, brust, schnitzel oder geschnetzeltes, gebraten (ohne zusatz von fett und salz)': 'chicken breast',\n",
    "    'samen, kerne, nüsse (durchschnitt), ungesalzen': 'nuts and seed mix',\n",
    "    'schwein, hals, steak, gebraten (ohne zusatz von fett und salz)': 'pork steak',\n",
    "    'spinat, roh': 'spinach', \n",
    "    'tofu': 'tofu',\n",
    "    'vollrahm, uht': 'cream'\n",
    "}\n",
    "\n",
    "myfoods = tb.make_myfoods(foods, my_foods).set_index('name')"
   ]
  },
  {
   "cell_type": "markdown",
   "metadata": {},
   "source": [
    "Find items"
   ]
  },
  {
   "cell_type": "code",
   "execution_count": 2,
   "metadata": {},
   "outputs": [
    {
     "data": {
      "text/html": [
       "<div>\n",
       "<style scoped>\n",
       "    .dataframe tbody tr th:only-of-type {\n",
       "        vertical-align: middle;\n",
       "    }\n",
       "\n",
       "    .dataframe tbody tr th {\n",
       "        vertical-align: top;\n",
       "    }\n",
       "\n",
       "    .dataframe thead th {\n",
       "        text-align: right;\n",
       "    }\n",
       "</style>\n",
       "<table border=\"1\" class=\"dataframe\">\n",
       "  <thead>\n",
       "    <tr style=\"text-align: right;\">\n",
       "      <th></th>\n",
       "      <th>name</th>\n",
       "      <th>category</th>\n",
       "      <th>units</th>\n",
       "      <th>calories</th>\n",
       "      <th>fat</th>\n",
       "      <th>carbs</th>\n",
       "      <th>fiber</th>\n",
       "      <th>protein</th>\n",
       "      <th>net_carbs</th>\n",
       "    </tr>\n",
       "  </thead>\n",
       "  <tbody>\n",
       "    <tr>\n",
       "      <th>230</th>\n",
       "      <td>forelle, ganz, gekocht (ohne zusatz von fett und salz)</td>\n",
       "      <td>fisch/süsswasserfische</td>\n",
       "      <td>pro 100g essbarer Anteil</td>\n",
       "      <td>159</td>\n",
       "      <td>8.8</td>\n",
       "      <td>0.0</td>\n",
       "      <td>0.0</td>\n",
       "      <td>20.1</td>\n",
       "      <td>0.0</td>\n",
       "    </tr>\n",
       "    <tr>\n",
       "      <th>231</th>\n",
       "      <td>forelle, roh</td>\n",
       "      <td>fisch/süsswasserfische</td>\n",
       "      <td>pro 100g essbarer Anteil</td>\n",
       "      <td>127</td>\n",
       "      <td>7.0</td>\n",
       "      <td>0.0</td>\n",
       "      <td>0.0</td>\n",
       "      <td>16.0</td>\n",
       "      <td>0.0</td>\n",
       "    </tr>\n",
       "  </tbody>\n",
       "</table>\n",
       "</div>"
      ],
      "text/plain": [
       "                                                       name  \\\n",
       "230  forelle, ganz, gekocht (ohne zusatz von fett und salz)   \n",
       "231                                            forelle, roh   \n",
       "\n",
       "                   category                     units  calories  fat  carbs  \\\n",
       "230  fisch/süsswasserfische  pro 100g essbarer Anteil       159  8.8    0.0   \n",
       "231  fisch/süsswasserfische  pro 100g essbarer Anteil       127  7.0    0.0   \n",
       "\n",
       "     fiber  protein  net_carbs  \n",
       "230    0.0     20.1        0.0  \n",
       "231    0.0     16.0        0.0  "
      ]
     },
     "execution_count": 2,
     "metadata": {},
     "output_type": "execute_result"
    }
   ],
   "source": [
    "tb.find_item(foods, 'fore')"
   ]
  },
  {
   "cell_type": "markdown",
   "metadata": {},
   "source": [
    "Define meals"
   ]
  },
  {
   "cell_type": "code",
   "execution_count": 5,
   "metadata": {},
   "outputs": [
    {
     "data": {
      "image/png": "[encoded data removed]",
      "text/plain": [
       "<Figure size 1152x576 with 4 Axes>"
      ]
     },
     "metadata": {},
     "output_type": "display_data"
    }
   ],
   "source": [
    "def calc_nutrients(data, meal):\n",
    "    \n",
    "    nutrients = ['calories', 'fat', 'protein', 'net_carbs']\n",
    "    macros = ['fat', 'protein', 'net_carbs']\n",
    "    portions = list(meal.values())\n",
    "    \n",
    "    data = (data.loc[data.index.isin(meal), nutrients]\n",
    "            .reindex(meal)\n",
    "            .multiply(portions, axis=0))\n",
    "    \n",
    "    grams = data[macros].copy().T.sum(1)\n",
    "    grams[grams < 0] = 0\n",
    "    \n",
    "    cals = pd.Series(dtype='float')\n",
    "    cals['fat'] = grams.fat * 9\n",
    "    cals['protein'] = grams.protein * 4\n",
    "    cals['net_carbs'] = grams.net_carbs * 4\n",
    "    cals['total'] = data['calories'].sum()\n",
    "    cals[cals < 0] = 0\n",
    "    \n",
    "    nuts = pd.concat([grams, cals], axis=1)\n",
    "    nuts = nuts.reindex(['total', 'fat', 'protein', 'net_carbs'])\n",
    "    nuts[nuts < 0] = 0\n",
    "    nuts.columns = ['grams', 'cals']\n",
    "    \n",
    "    return nuts\n",
    "\n",
    "\n",
    "def make_nuts_dict(meals):\n",
    "    meal_nuts = {meal: calc_nutrients(myfoods, meals[meal]) for meal in meals}\n",
    "    meal_nuts['total'] = sum([meal_nuts[meal] for meal in meal_nuts])\n",
    "    return meal_nuts\n",
    "\n",
    "\n",
    "def make_dashboard(meals):\n",
    "\n",
    "    def make_doughnut(meal_data, axis, meal_name):\n",
    "        total_cals = meal_data.loc['total', 'cals']\n",
    "        nuts = meal_data[1:]\n",
    "        \n",
    "        ax[axis].pie(nuts.cals,\n",
    "                     autopct='%.1f%%',\n",
    "                     wedgeprops=dict(width=0.7))\n",
    "        ax[axis].set_title(f\"{meal_name.capitalize()} ({total_cals:.0f} cals)\")\n",
    "        \n",
    "    fig, ax = plt.subplots(1, len(meals), figsize=(16, 8))\n",
    "\n",
    "    for meal_num, meal_name in enumerate(meals):\n",
    "        make_doughnut(meals[meal_name], meal_num, meal_name)\n",
    "\n",
    "    fig.legend(['Fat', 'Protein', 'Net carbs'], \n",
    "               loc='lower center', \n",
    "               borderaxespad=6, ncol=3);\n",
    "    \n",
    "meals = {\n",
    "    \n",
    "    'breakfast': {\n",
    "        'cauliflower': 1,\n",
    "        'cheese': 1.5,\n",
    "        'eggs': 2,\n",
    "        'spinach': 0.5,\n",
    "    },\n",
    "    \n",
    "    'lunch': {\n",
    "        'avocado': 0.8,\n",
    "        'cauliflower': 1,        \n",
    "        'cheese': .5,\n",
    "        'lettuce': 1.5,\n",
    "        'nuts and seed mix': .5,        \n",
    "        'olive oil': .3,\n",
    "        'tofu': 2,\n",
    "    },\n",
    "\n",
    "    'supper': {\n",
    "        'avocado': 0,\n",
    "        'butter': ,\n",
    "        'trout': 2,\n",
    "        'vegetables': 2,\n",
    "    }\n",
    "}\n",
    "\n",
    "meal_nuts = make_nuts_dict(meals)\n",
    "\n",
    "make_dashboard(meal_nuts)"
   ]
  },
  {
   "cell_type": "code",
   "execution_count": null,
   "metadata": {},
   "outputs": [],
   "source": []
  }
 ],
 "metadata": {
  "kernelspec": {
   "display_name": "basics",
   "language": "python",
   "name": "basics"
  },
  "language_info": {
   "codemirror_mode": {
    "name": "ipython",
    "version": 3
   },
   "file_extension": ".py",
   "mimetype": "text/x-python",
   "name": "python",
   "nbconvert_exporter": "python",
   "pygments_lexer": "ipython3",
   "version": "3.7.6"
  }
 },
 "nbformat": 4,
 "nbformat_minor": 4
}
