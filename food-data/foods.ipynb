{
 "cells": [
  {
   "cell_type": "markdown",
   "metadata": {},
   "source": [
    "Create database"
   ]
  },
  {
   "cell_type": "code",
   "execution_count": 1,
   "metadata": {},
   "outputs": [
    {
     "name": "stderr",
     "output_type": "stream",
     "text": [
      "/Users/fgu/miniconda3/envs/basics/lib/python3.7/site-packages/engarde/checks.py:13: FutureWarning: pandas.util.testing is deprecated. Use the functions in the public API at pandas.testing instead.\n",
      "  import pandas.util.testing as tm\n"
     ]
    },
    {
     "name": "stdout",
     "output_type": "stream",
     "text": [
      "<class 'pandas.core.frame.DataFrame'>\n",
      "Int64Index: 20 entries, 33 to 907\n",
      "Data columns (total 9 columns):\n",
      " #   Column     Non-Null Count  Dtype  \n",
      "---  ------     --------------  -----  \n",
      " 0   name       20 non-null     object \n",
      " 1   category   20 non-null     object \n",
      " 2   units      20 non-null     object \n",
      " 3   calories   20 non-null     int64  \n",
      " 4   fat        20 non-null     float64\n",
      " 5   carbs      20 non-null     float64\n",
      " 6   fiber      20 non-null     float64\n",
      " 7   protein    20 non-null     float64\n",
      " 8   net_carbs  20 non-null     float64\n",
      "dtypes: float64(5), int64(1), object(3)\n",
      "memory usage: 1.6+ KB\n"
     ]
    }
   ],
   "source": [
    "import pandas as pd\n",
    "import matplotlib.pyplot as plt\n",
    "\n",
    "import engarde.decorators as ed\n",
    "\n",
    "import toolbox.toolbox as tb\n",
    "\n",
    "pd.set_option('display.max_colwidth', None)\n",
    "\n",
    "\n",
    "data = 'Schweizer-Nährwertdatenbank-V6.1.xlsx'\n",
    "foods = tb.read(data)\n",
    "\n",
    "\n",
    "my_foods = {\n",
    "    'avocado, roh': 'avocado',\n",
    "    'blattsalat (durchschnitt), roh': 'lettuce',\n",
    "    'champignon, roh': 'mushrooms',    \n",
    "    'fleisch (durchschnitt exkl. innereien), roh': 'meat',\n",
    "    'gemüse (durchschnitt), roh': 'vegetables',\n",
    "    'hart- und halbhartkäse, vollfett (durchschnitt)': 'cheese',\n",
    "    'hühnerei, ganz, festgekocht': 'eggs',\n",
    "    'kakaopulver': 'cocoa powder', \n",
    "    'kochbutter': 'butter',\n",
    "    'kokosfett': 'coconut fat',\n",
    "    'kokosnuss, getrocknet (kokosrapseln, kokosflocken)': 'coconut flakes',\n",
    "    'mandel': 'almond',\n",
    "    'olivenöl': 'olive oil',\n",
    "    'peperoni, rot, roh': 'red pepper',\n",
    "    'poulet, schenkel, mit haut, gebraten (ohne zusatz von fett und salz)': 'chicken leg',\n",
    "    'poulet, brust, schnitzel oder geschnetzeltes, gebraten (ohne zusatz von fett und salz)': 'chicken breast',\n",
    "    'samen, kerne, nüsse (durchschnitt), ungesalzen': 'nuts and seed mix',\n",
    "    'schwein, hals, steak, gebraten (ohne zusatz von fett und salz)': 'pork steak',\n",
    "    'spinat, roh': 'spinach', \n",
    "    'tofu': 'tofu',\n",
    "}\n",
    "\n",
    "myfoods = tb.make_myfoods(foods, my_foods)\n",
    "myfoods.info()\n",
    "\n"
   ]
  },
  {
   "cell_type": "markdown",
   "metadata": {},
   "source": [
    "Find items"
   ]
  },
  {
   "cell_type": "code",
   "execution_count": 2,
   "metadata": {},
   "outputs": [
    {
     "data": {
      "text/html": [
       "<div>\n",
       "<style scoped>\n",
       "    .dataframe tbody tr th:only-of-type {\n",
       "        vertical-align: middle;\n",
       "    }\n",
       "\n",
       "    .dataframe tbody tr th {\n",
       "        vertical-align: top;\n",
       "    }\n",
       "\n",
       "    .dataframe thead th {\n",
       "        text-align: right;\n",
       "    }\n",
       "</style>\n",
       "<table border=\"1\" class=\"dataframe\">\n",
       "  <thead>\n",
       "    <tr style=\"text-align: right;\">\n",
       "      <th></th>\n",
       "      <th>name</th>\n",
       "      <th>category</th>\n",
       "      <th>units</th>\n",
       "      <th>calories</th>\n",
       "      <th>fat</th>\n",
       "      <th>carbs</th>\n",
       "      <th>fiber</th>\n",
       "      <th>protein</th>\n",
       "      <th>net_carbs</th>\n",
       "    </tr>\n",
       "  </thead>\n",
       "  <tbody>\n",
       "    <tr>\n",
       "      <th>315</th>\n",
       "      <td>hühnerei, ganz, festgekocht</td>\n",
       "      <td>eier</td>\n",
       "      <td>pro 100g essbarer Anteil</td>\n",
       "      <td>157</td>\n",
       "      <td>11.4</td>\n",
       "      <td>0.3</td>\n",
       "      <td>0.0</td>\n",
       "      <td>13.2</td>\n",
       "      <td>0.3</td>\n",
       "    </tr>\n",
       "    <tr>\n",
       "      <th>316</th>\n",
       "      <td>hühnerei, ganz, roh</td>\n",
       "      <td>eier</td>\n",
       "      <td>pro 100g essbarer Anteil</td>\n",
       "      <td>142</td>\n",
       "      <td>10.3</td>\n",
       "      <td>0.3</td>\n",
       "      <td>0.0</td>\n",
       "      <td>11.9</td>\n",
       "      <td>0.3</td>\n",
       "    </tr>\n",
       "    <tr>\n",
       "      <th>317</th>\n",
       "      <td>hühnereigelb, roh (eidotter)</td>\n",
       "      <td>eier</td>\n",
       "      <td>pro 100g essbarer Anteil</td>\n",
       "      <td>350</td>\n",
       "      <td>31.5</td>\n",
       "      <td>0.2</td>\n",
       "      <td>0.0</td>\n",
       "      <td>16.5</td>\n",
       "      <td>0.2</td>\n",
       "    </tr>\n",
       "    <tr>\n",
       "      <th>318</th>\n",
       "      <td>hühnereiweiss, roh (eiklar)</td>\n",
       "      <td>eier</td>\n",
       "      <td>pro 100g essbarer Anteil</td>\n",
       "      <td>44</td>\n",
       "      <td>0.1</td>\n",
       "      <td>0.3</td>\n",
       "      <td>0.0</td>\n",
       "      <td>10.5</td>\n",
       "      <td>0.3</td>\n",
       "    </tr>\n",
       "  </tbody>\n",
       "</table>\n",
       "</div>"
      ],
      "text/plain": [
       "                             name category                     units  \\\n",
       "315   hühnerei, ganz, festgekocht     eier  pro 100g essbarer Anteil   \n",
       "316           hühnerei, ganz, roh     eier  pro 100g essbarer Anteil   \n",
       "317  hühnereigelb, roh (eidotter)     eier  pro 100g essbarer Anteil   \n",
       "318   hühnereiweiss, roh (eiklar)     eier  pro 100g essbarer Anteil   \n",
       "\n",
       "     calories   fat  carbs  fiber  protein  net_carbs  \n",
       "315       157  11.4    0.3    0.0     13.2        0.3  \n",
       "316       142  10.3    0.3    0.0     11.9        0.3  \n",
       "317       350  31.5    0.2    0.0     16.5        0.2  \n",
       "318        44   0.1    0.3    0.0     10.5        0.3  "
      ]
     },
     "execution_count": 2,
     "metadata": {},
     "output_type": "execute_result"
    }
   ],
   "source": [
    "tb.find_item(foods, 'hühnere')"
   ]
  },
  {
   "cell_type": "markdown",
   "metadata": {},
   "source": [
    "Define meals"
   ]
  },
  {
   "cell_type": "code",
   "execution_count": 18,
   "metadata": {},
   "outputs": [],
   "source": [
    "meals = {\n",
    "    \n",
    "    'breakfast': {\n",
    "        'eggs': 2,\n",
    "    },\n",
    "    \n",
    "    'lunch': {\n",
    "        'lettuce': 2,\n",
    "        'avocado': 1.5,\n",
    "        'olive oil': .2,\n",
    "        'red pepper': 1,\n",
    "        'eggs': 2, \n",
    "        'nuts and seed mix': .5,\n",
    "        'cheese': 0,\n",
    "    },\n",
    "\n",
    "    'supper': {\n",
    "        'vegetables': 0,\n",
    "        'avocado': 1.5,\n",
    "        'butter': .2,\n",
    "        'pork steak': 0,\n",
    "        'cheese': 0\n",
    "    }\n",
    "}"
   ]
  },
  {
   "cell_type": "markdown",
   "metadata": {},
   "source": [
    "Calc nuts for each meal and for day"
   ]
  },
  {
   "cell_type": "code",
   "execution_count": 56,
   "metadata": {},
   "outputs": [],
   "source": [
    "def calc_nutrients(data, meal):\n",
    "    \n",
    "    nutrients = ['calories', 'fat', 'protein', 'net_carbs']\n",
    "    \n",
    "    data = data.loc[data.name.isin(meal), nutrients].sum()\n",
    "        \n",
    "    grams = data[1:].copy()\n",
    "    grams['total'] = grams.sum()\n",
    "    \n",
    "    cals = data[1:].copy()\n",
    "    cals['fat'] = grams.fat * 9\n",
    "    cals['protein'] = grams.protein * 4\n",
    "    cals['net_carbs'] = grams.net_carbs * 4\n",
    "    cals['total'] = data['calories']\n",
    "    \n",
    "    nuts = pd.concat([grams, cals], axis=1)\n",
    "    nuts = nuts.reindex(['total', 'fat', 'protein', 'net_carbs'])\n",
    "    nuts[nuts < 0] = 0\n",
    "    nuts.columns = ['grams', 'cals']\n",
    "    \n",
    "    return nuts\n",
    "\n",
    "    \n",
    "meal_nuts = [calc_nutrients(myfoods, meals[meal]) for meal in meals]    \n",
    "meal_nuts.append(sum(meal_nuts))"
   ]
  },
  {
   "cell_type": "code",
   "execution_count": null,
   "metadata": {},
   "outputs": [],
   "source": []
  },
  {
   "cell_type": "code",
   "execution_count": 58,
   "metadata": {},
   "outputs": [
    {
     "data": {
      "image/png": "[encoded data removed]",
      "text/plain": [
       "<Figure size 1152x576 with 4 Axes>"
      ]
     },
     "metadata": {},
     "output_type": "display_data"
    }
   ],
   "source": [
    "def make_dashboard(meals):\n",
    "\n",
    "    def make_doughnut(data, axis, title):\n",
    "        total_cals = data.loc['total', 'cals']\n",
    "        nuts = data[1:]\n",
    "        ax[axis].pie(nuts.cals, autopct='%2.1f%%')\n",
    "        ax[axis].set_title(f\"Calories: {total_cals}\")\n",
    "        \n",
    "    fig, ax = plt.subplots(1, len(meals), figsize=(16, 8))\n",
    "\n",
    "    for meal_num, meal in enumerate(meals):\n",
    "        make_doughnut(meal, meal_num, 'title comes here')\n",
    "\n",
    "    fig.legend(meals[0].index[1:], loc='lower center', borderaxespad=6, ncol=3);\n",
    "    \n",
    "make_dashboard(meal_nuts)"
   ]
  },
  {
   "cell_type": "code",
   "execution_count": null,
   "metadata": {},
   "outputs": [],
   "source": []
  }
 ],
 "metadata": {
  "kernelspec": {
   "display_name": "basics",
   "language": "python",
   "name": "basics"
  },
  "language_info": {
   "codemirror_mode": {
    "name": "ipython",
    "version": 3
   },
   "file_extension": ".py",
   "mimetype": "text/x-python",
   "name": "python",
   "nbconvert_exporter": "python",
   "pygments_lexer": "ipython3",
   "version": "3.7.6"
  }
 },
 "nbformat": 4,
 "nbformat_minor": 4
}
