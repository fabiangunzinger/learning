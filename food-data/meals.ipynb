{
 "cells": [
  {
   "cell_type": "code",
   "execution_count": 4,
   "metadata": {},
   "outputs": [
    {
     "name": "stdout",
     "output_type": "stream",
     "text": [
      "Stored 'pa_meals' (dict)\n",
      "Stored 'fa_meals' (dict)\n"
     ]
    }
   ],
   "source": [
    "fa_meals = {\n",
    "    \n",
    "    'Breakfast': {\n",
    "        'cauliflower': 1,\n",
    "        'cheese': 1.5,\n",
    "        'eggs': 2,\n",
    "        'spinach': 0.5,\n",
    "    },\n",
    "\n",
    "    'Lunch': {\n",
    "        'oats': 0.5,\n",
    "        'milk': 1.5,        \n",
    "        'yoghurt': 0.8,\n",
    "        'lettuce': 1.5,\n",
    "        'nuts and seed mix': .5,        \n",
    "        'olive oil': .3,\n",
    "        'tofu': 2,\n",
    "    },\n",
    "\n",
    "    'Supper': {\n",
    "        'avocado': 2,\n",
    "        'butter': 0,\n",
    "        'trout': 2,\n",
    "        'vegetables': 2,\n",
    "    }\n",
    "}\n",
    "\n",
    "pa_meals = {\n",
    "\n",
    "    'Zmittag': {\n",
    "        'oats': 0.5,\n",
    "        'milk': 1.5,        \n",
    "        'nature yoghurt': 0.8,\n",
    "        'mocca yoghurt': 1.5,\n",
    "        'nuts': 0.4,\n",
    "        'fig': 0.2\n",
    "    },\n",
    "    \n",
    "    'Znacht': {\n",
    "        'rice': 1.5,\n",
    "        'dark chocolate': .15,\n",
    "        'cheese': 0.6,\n",
    "        'eggs': 0.6,\n",
    "        'beer': 5\n",
    "    }, \n",
    "\n",
    "}\n",
    "\n",
    "%store pa_meals\n",
    "%store fa_meals"
   ]
  },
  {
   "cell_type": "code",
   "execution_count": null,
   "metadata": {},
   "outputs": [],
   "source": []
  }
 ],
 "metadata": {
  "kernelspec": {
   "display_name": "basics",
   "language": "python",
   "name": "basics"
  },
  "language_info": {
   "codemirror_mode": {
    "name": "ipython",
    "version": 3
   },
   "file_extension": ".py",
   "mimetype": "text/x-python",
   "name": "python",
   "nbconvert_exporter": "python",
   "pygments_lexer": "ipython3",
   "version": "3.7.6"
  }
 },
 "nbformat": 4,
 "nbformat_minor": 4
}
