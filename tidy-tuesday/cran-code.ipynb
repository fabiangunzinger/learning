{
 "cells": [
  {
   "cell_type": "markdown",
   "metadata": {},
   "source": [
    "# Analysing CRAN code"
   ]
  },
  {
   "cell_type": "markdown",
   "metadata": {},
   "source": [
    "- [Tidy Tuesday site](https://github.com/rfordatascience/tidytuesday/tree/master/data/2019/2019-11-12)\n",
    "- [David Robinson's approach](https://www.youtube.com/watch?v=dr4qw8o0nYU)"
   ]
  },
  {
   "cell_type": "markdown",
   "metadata": {},
   "source": [
    "## My code (after 1 hour)"
   ]
  },
  {
   "cell_type": "code",
   "execution_count": 116,
   "metadata": {},
   "outputs": [],
   "source": [
    "import pandas as pd\n",
    "import numpy as np\n",
    "import matplotlib.pyplot as plt\n",
    "\n",
    "plt.style.use(\"seaborn\")\n",
    "\n",
    "%load_ext lab_black"
   ]
  },
  {
   "cell_type": "code",
   "execution_count": 117,
   "metadata": {},
   "outputs": [],
   "source": [
    "df = pd.read_csv(\n",
    "    \"https://raw.githubusercontent.com/rfordatascience/tidytuesday/master/data/2019/2019-11-12/loc_cran_packages.csv\"\n",
    ")"
   ]
  },
  {
   "cell_type": "code",
   "execution_count": 119,
   "metadata": {},
   "outputs": [
    {
     "name": "stdout",
     "output_type": "stream",
     "text": [
      "(34477, 7)\n"
     ]
    },
    {
     "data": {
      "text/html": [
       "<div>\n",
       "<style scoped>\n",
       "    .dataframe tbody tr th:only-of-type {\n",
       "        vertical-align: middle;\n",
       "    }\n",
       "\n",
       "    .dataframe tbody tr th {\n",
       "        vertical-align: top;\n",
       "    }\n",
       "\n",
       "    .dataframe thead th {\n",
       "        text-align: right;\n",
       "    }\n",
       "</style>\n",
       "<table border=\"1\" class=\"dataframe\">\n",
       "  <thead>\n",
       "    <tr style=\"text-align: right;\">\n",
       "      <th></th>\n",
       "      <th>file</th>\n",
       "      <th>language</th>\n",
       "      <th>blank</th>\n",
       "      <th>comment</th>\n",
       "      <th>code</th>\n",
       "      <th>pkg_name</th>\n",
       "      <th>version</th>\n",
       "    </tr>\n",
       "  </thead>\n",
       "  <tbody>\n",
       "    <tr>\n",
       "      <th>0</th>\n",
       "      <td>2</td>\n",
       "      <td>R</td>\n",
       "      <td>96</td>\n",
       "      <td>353</td>\n",
       "      <td>365</td>\n",
       "      <td>A3</td>\n",
       "      <td>1.0.0</td>\n",
       "    </tr>\n",
       "    <tr>\n",
       "      <th>1</th>\n",
       "      <td>1</td>\n",
       "      <td>HTML</td>\n",
       "      <td>347</td>\n",
       "      <td>5</td>\n",
       "      <td>2661</td>\n",
       "      <td>aaSEA</td>\n",
       "      <td>1.0.0</td>\n",
       "    </tr>\n",
       "    <tr>\n",
       "      <th>2</th>\n",
       "      <td>23</td>\n",
       "      <td>R</td>\n",
       "      <td>63</td>\n",
       "      <td>325</td>\n",
       "      <td>676</td>\n",
       "      <td>aaSEA</td>\n",
       "      <td>1.0.0</td>\n",
       "    </tr>\n",
       "    <tr>\n",
       "      <th>3</th>\n",
       "      <td>3</td>\n",
       "      <td>HTML</td>\n",
       "      <td>307</td>\n",
       "      <td>9</td>\n",
       "      <td>1275</td>\n",
       "      <td>abbyyR</td>\n",
       "      <td>0.5.5</td>\n",
       "    </tr>\n",
       "    <tr>\n",
       "      <th>4</th>\n",
       "      <td>30</td>\n",
       "      <td>R</td>\n",
       "      <td>224</td>\n",
       "      <td>636</td>\n",
       "      <td>587</td>\n",
       "      <td>abbyyR</td>\n",
       "      <td>0.5.5</td>\n",
       "    </tr>\n",
       "  </tbody>\n",
       "</table>\n",
       "</div>"
      ],
      "text/plain": [
       "   file language  blank  comment  code pkg_name version\n",
       "0     2        R     96      353   365       A3   1.0.0\n",
       "1     1     HTML    347        5  2661    aaSEA   1.0.0\n",
       "2    23        R     63      325   676    aaSEA   1.0.0\n",
       "3     3     HTML    307        9  1275   abbyyR   0.5.5\n",
       "4    30        R    224      636   587   abbyyR   0.5.5"
      ]
     },
     "execution_count": 119,
     "metadata": {},
     "output_type": "execute_result"
    }
   ],
   "source": [
    "print(df.shape)\n",
    "df.head()"
   ]
  },
  {
   "cell_type": "code",
   "execution_count": 120,
   "metadata": {},
   "outputs": [
    {
     "data": {
      "text/html": [
       "<div>\n",
       "<style scoped>\n",
       "    .dataframe tbody tr th:only-of-type {\n",
       "        vertical-align: middle;\n",
       "    }\n",
       "\n",
       "    .dataframe tbody tr th {\n",
       "        vertical-align: top;\n",
       "    }\n",
       "\n",
       "    .dataframe thead th {\n",
       "        text-align: right;\n",
       "    }\n",
       "</style>\n",
       "<table border=\"1\" class=\"dataframe\">\n",
       "  <thead>\n",
       "    <tr style=\"text-align: right;\">\n",
       "      <th></th>\n",
       "      <th>file</th>\n",
       "      <th>blank</th>\n",
       "      <th>comment</th>\n",
       "      <th>code</th>\n",
       "    </tr>\n",
       "  </thead>\n",
       "  <tbody>\n",
       "    <tr>\n",
       "      <th>count</th>\n",
       "      <td>34477.000000</td>\n",
       "      <td>34477.000000</td>\n",
       "      <td>34477.000000</td>\n",
       "      <td>3.447700e+04</td>\n",
       "    </tr>\n",
       "    <tr>\n",
       "      <th>mean</th>\n",
       "      <td>11.165821</td>\n",
       "      <td>257.097775</td>\n",
       "      <td>432.708820</td>\n",
       "      <td>1.506400e+03</td>\n",
       "    </tr>\n",
       "    <tr>\n",
       "      <th>std</th>\n",
       "      <td>66.075754</td>\n",
       "      <td>2011.333988</td>\n",
       "      <td>2814.100058</td>\n",
       "      <td>1.255484e+04</td>\n",
       "    </tr>\n",
       "    <tr>\n",
       "      <th>min</th>\n",
       "      <td>1.000000</td>\n",
       "      <td>0.000000</td>\n",
       "      <td>0.000000</td>\n",
       "      <td>0.000000e+00</td>\n",
       "    </tr>\n",
       "    <tr>\n",
       "      <th>25%</th>\n",
       "      <td>1.000000</td>\n",
       "      <td>17.000000</td>\n",
       "      <td>1.000000</td>\n",
       "      <td>8.300000e+01</td>\n",
       "    </tr>\n",
       "    <tr>\n",
       "      <th>50%</th>\n",
       "      <td>3.000000</td>\n",
       "      <td>53.000000</td>\n",
       "      <td>33.000000</td>\n",
       "      <td>3.360000e+02</td>\n",
       "    </tr>\n",
       "    <tr>\n",
       "      <th>75%</th>\n",
       "      <td>10.000000</td>\n",
       "      <td>174.000000</td>\n",
       "      <td>284.000000</td>\n",
       "      <td>1.043000e+03</td>\n",
       "    </tr>\n",
       "    <tr>\n",
       "      <th>max</th>\n",
       "      <td>10737.000000</td>\n",
       "      <td>310945.000000</td>\n",
       "      <td>304465.000000</td>\n",
       "      <td>1.580460e+06</td>\n",
       "    </tr>\n",
       "  </tbody>\n",
       "</table>\n",
       "</div>"
      ],
      "text/plain": [
       "               file          blank        comment          code\n",
       "count  34477.000000   34477.000000   34477.000000  3.447700e+04\n",
       "mean      11.165821     257.097775     432.708820  1.506400e+03\n",
       "std       66.075754    2011.333988    2814.100058  1.255484e+04\n",
       "min        1.000000       0.000000       0.000000  0.000000e+00\n",
       "25%        1.000000      17.000000       1.000000  8.300000e+01\n",
       "50%        3.000000      53.000000      33.000000  3.360000e+02\n",
       "75%       10.000000     174.000000     284.000000  1.043000e+03\n",
       "max    10737.000000  310945.000000  304465.000000  1.580460e+06"
      ]
     },
     "execution_count": 120,
     "metadata": {},
     "output_type": "execute_result"
    }
   ],
   "source": [
    "df.describe()"
   ]
  },
  {
   "cell_type": "code",
   "execution_count": 121,
   "metadata": {},
   "outputs": [
    {
     "data": {
      "image/png": "[encoded data removed]",
      "text/plain": [
       "<Figure size 1080x360 with 3 Axes>"
      ]
     },
     "metadata": {},
     "output_type": "display_data"
    }
   ],
   "source": [
    "# Distribution of lines of code, comment, and empty lines\n",
    "\n",
    "fig, [ax0, ax1, ax2] = plt.subplots(1, 3, figsize=(15, 5), sharey=True)\n",
    "\n",
    "df[\"code\"].hist(bins=np.arange(0, 5000, 50), ax=ax0)\n",
    "ax0.set_xlabel(\"Lines of code\")\n",
    "ax0.set_ylabel(\"Count\")\n",
    "\n",
    "df[\"comment\"].hist(bins=np.arange(0, 2000, 20), ax=ax1)\n",
    "ax1.set_xlabel(\"Lines of comment\")\n",
    "\n",
    "df[\"blank\"].hist(bins=np.arange(0, 2000, 20), ax=ax2)\n",
    "ax2.set_xlabel(\"Number of blank lines\")"
   ]
  },
  {
   "cell_type": "code",
   "execution_count": 124,
   "metadata": {},
   "outputs": [
    {
     "data": {
      "text/plain": [
       "Text(0.5, 0, 'Number of packages')"
      ]
     },
     "execution_count": 124,
     "metadata": {},
     "output_type": "execute_result"
    },
    {
     "data": {
      "image/png": "[encoded data removed]",
      "text/plain": [
       "<Figure size 576x396 with 1 Axes>"
      ]
     },
     "metadata": {},
     "output_type": "display_data"
    }
   ],
   "source": [
    "# Number of packages by language\n",
    "\n",
    "counts = df[\"language\"].value_counts().head(20)\n",
    "counts.sort_values(ascending=True).plot(kind=\"barh\")\n",
    "plt.xlabel(\"Number of packages\")"
   ]
  },
  {
   "cell_type": "code",
   "execution_count": 125,
   "metadata": {},
   "outputs": [
    {
     "data": {
      "text/plain": [
       "<matplotlib.legend.Legend at 0x1248a0650>"
      ]
     },
     "execution_count": 125,
     "metadata": {},
     "output_type": "execute_result"
    },
    {
     "data": {
      "image/png": "[encoded data removed]",
      "text/plain": [
       "<Figure size 576x396 with 1 Axes>"
      ]
     },
     "metadata": {},
     "output_type": "display_data"
    }
   ],
   "source": [
    "# Distributions of code length by language\n",
    "\n",
    "top = counts.head(4)\n",
    "colors = [\"blue\", \"red\", \"green\", \"yellow\"]\n",
    "\n",
    "for idx, lang in enumerate(top.index):\n",
    "    data = df[df[\"language\"] == lang]\n",
    "    data[\"code\"].hist(\n",
    "        bins=np.arange(0, 2000, 20), alpha=0.3, label=lang, color=colors[idx]\n",
    "    )\n",
    "plt.legend()"
   ]
  },
  {
   "cell_type": "markdown",
   "metadata": {},
   "source": [
    "## David Robinson's approach"
   ]
  },
  {
   "cell_type": "code",
   "execution_count": 126,
   "metadata": {},
   "outputs": [
    {
     "name": "stdout",
     "output_type": "stream",
     "text": [
      "(34477, 7)\n"
     ]
    },
    {
     "data": {
      "text/html": [
       "<div>\n",
       "<style scoped>\n",
       "    .dataframe tbody tr th:only-of-type {\n",
       "        vertical-align: middle;\n",
       "    }\n",
       "\n",
       "    .dataframe tbody tr th {\n",
       "        vertical-align: top;\n",
       "    }\n",
       "\n",
       "    .dataframe thead th {\n",
       "        text-align: right;\n",
       "    }\n",
       "</style>\n",
       "<table border=\"1\" class=\"dataframe\">\n",
       "  <thead>\n",
       "    <tr style=\"text-align: right;\">\n",
       "      <th></th>\n",
       "      <th>file</th>\n",
       "      <th>language</th>\n",
       "      <th>blank</th>\n",
       "      <th>comment</th>\n",
       "      <th>code</th>\n",
       "      <th>pkg_name</th>\n",
       "      <th>version</th>\n",
       "    </tr>\n",
       "  </thead>\n",
       "  <tbody>\n",
       "    <tr>\n",
       "      <th>0</th>\n",
       "      <td>2</td>\n",
       "      <td>R</td>\n",
       "      <td>96</td>\n",
       "      <td>353</td>\n",
       "      <td>365</td>\n",
       "      <td>A3</td>\n",
       "      <td>1.0.0</td>\n",
       "    </tr>\n",
       "    <tr>\n",
       "      <th>1</th>\n",
       "      <td>1</td>\n",
       "      <td>HTML</td>\n",
       "      <td>347</td>\n",
       "      <td>5</td>\n",
       "      <td>2661</td>\n",
       "      <td>aaSEA</td>\n",
       "      <td>1.0.0</td>\n",
       "    </tr>\n",
       "    <tr>\n",
       "      <th>2</th>\n",
       "      <td>23</td>\n",
       "      <td>R</td>\n",
       "      <td>63</td>\n",
       "      <td>325</td>\n",
       "      <td>676</td>\n",
       "      <td>aaSEA</td>\n",
       "      <td>1.0.0</td>\n",
       "    </tr>\n",
       "    <tr>\n",
       "      <th>3</th>\n",
       "      <td>3</td>\n",
       "      <td>HTML</td>\n",
       "      <td>307</td>\n",
       "      <td>9</td>\n",
       "      <td>1275</td>\n",
       "      <td>abbyyR</td>\n",
       "      <td>0.5.5</td>\n",
       "    </tr>\n",
       "    <tr>\n",
       "      <th>4</th>\n",
       "      <td>30</td>\n",
       "      <td>R</td>\n",
       "      <td>224</td>\n",
       "      <td>636</td>\n",
       "      <td>587</td>\n",
       "      <td>abbyyR</td>\n",
       "      <td>0.5.5</td>\n",
       "    </tr>\n",
       "  </tbody>\n",
       "</table>\n",
       "</div>"
      ],
      "text/plain": [
       "   file language  blank  comment  code pkg_name version\n",
       "0     2        R     96      353   365       A3   1.0.0\n",
       "1     1     HTML    347        5  2661    aaSEA   1.0.0\n",
       "2    23        R     63      325   676    aaSEA   1.0.0\n",
       "3     3     HTML    307        9  1275   abbyyR   0.5.5\n",
       "4    30        R    224      636   587   abbyyR   0.5.5"
      ]
     },
     "execution_count": 126,
     "metadata": {},
     "output_type": "execute_result"
    }
   ],
   "source": [
    "print(df.shape)\n",
    "df.head()"
   ]
  },
  {
   "cell_type": "code",
   "execution_count": 140,
   "metadata": {},
   "outputs": [
    {
     "data": {
      "text/html": [
       "<div>\n",
       "<style scoped>\n",
       "    .dataframe tbody tr th:only-of-type {\n",
       "        vertical-align: middle;\n",
       "    }\n",
       "\n",
       "    .dataframe tbody tr th {\n",
       "        vertical-align: top;\n",
       "    }\n",
       "\n",
       "    .dataframe thead th {\n",
       "        text-align: right;\n",
       "    }\n",
       "</style>\n",
       "<table border=\"1\" class=\"dataframe\">\n",
       "  <thead>\n",
       "    <tr style=\"text-align: right;\">\n",
       "      <th></th>\n",
       "      <th>packages</th>\n",
       "      <th>code</th>\n",
       "      <th>comment</th>\n",
       "      <th>files</th>\n",
       "      <th>lines_per_package</th>\n",
       "      <th>files_per_package</th>\n",
       "      <th>code_code_ratio</th>\n",
       "    </tr>\n",
       "    <tr>\n",
       "      <th>language</th>\n",
       "      <th></th>\n",
       "      <th></th>\n",
       "      <th></th>\n",
       "      <th></th>\n",
       "      <th></th>\n",
       "      <th></th>\n",
       "      <th></th>\n",
       "    </tr>\n",
       "  </thead>\n",
       "  <tbody>\n",
       "    <tr>\n",
       "      <th>R</th>\n",
       "      <td>14689</td>\n",
       "      <td>22822548</td>\n",
       "      <td>9414210</td>\n",
       "      <td>267967</td>\n",
       "      <td>1553.716931</td>\n",
       "      <td>18.242699</td>\n",
       "      <td>2.424266</td>\n",
       "    </tr>\n",
       "    <tr>\n",
       "      <th>Markdown</th>\n",
       "      <td>5710</td>\n",
       "      <td>636948</td>\n",
       "      <td>1</td>\n",
       "      <td>9036</td>\n",
       "      <td>111.549562</td>\n",
       "      <td>1.582487</td>\n",
       "      <td>636948.000000</td>\n",
       "    </tr>\n",
       "    <tr>\n",
       "      <th>HTML</th>\n",
       "      <td>3680</td>\n",
       "      <td>4293856</td>\n",
       "      <td>32783</td>\n",
       "      <td>7893</td>\n",
       "      <td>1166.808696</td>\n",
       "      <td>2.144837</td>\n",
       "      <td>130.978129</td>\n",
       "    </tr>\n",
       "    <tr>\n",
       "      <th>C</th>\n",
       "      <td>2162</td>\n",
       "      <td>4764598</td>\n",
       "      <td>1171456</td>\n",
       "      <td>13540</td>\n",
       "      <td>2203.791859</td>\n",
       "      <td>6.262720</td>\n",
       "      <td>4.067245</td>\n",
       "    </tr>\n",
       "    <tr>\n",
       "      <th>C++</th>\n",
       "      <td>2041</td>\n",
       "      <td>3957771</td>\n",
       "      <td>817848</td>\n",
       "      <td>16442</td>\n",
       "      <td>1939.133268</td>\n",
       "      <td>8.055855</td>\n",
       "      <td>4.839250</td>\n",
       "    </tr>\n",
       "    <tr>\n",
       "      <th>C/C++ Header</th>\n",
       "      <td>1867</td>\n",
       "      <td>5898801</td>\n",
       "      <td>1960911</td>\n",
       "      <td>42153</td>\n",
       "      <td>3159.507766</td>\n",
       "      <td>22.577933</td>\n",
       "      <td>3.008194</td>\n",
       "    </tr>\n",
       "    <tr>\n",
       "      <th>Bourne Shell</th>\n",
       "      <td>500</td>\n",
       "      <td>875560</td>\n",
       "      <td>132514</td>\n",
       "      <td>1056</td>\n",
       "      <td>1751.120000</td>\n",
       "      <td>2.112000</td>\n",
       "      <td>6.607302</td>\n",
       "    </tr>\n",
       "    <tr>\n",
       "      <th>CSS</th>\n",
       "      <td>459</td>\n",
       "      <td>536705</td>\n",
       "      <td>12581</td>\n",
       "      <td>1555</td>\n",
       "      <td>1169.291939</td>\n",
       "      <td>3.387800</td>\n",
       "      <td>42.659963</td>\n",
       "    </tr>\n",
       "    <tr>\n",
       "      <th>TeX</th>\n",
       "      <td>401</td>\n",
       "      <td>357252</td>\n",
       "      <td>55114</td>\n",
       "      <td>1435</td>\n",
       "      <td>890.902743</td>\n",
       "      <td>3.578554</td>\n",
       "      <td>6.482055</td>\n",
       "    </tr>\n",
       "    <tr>\n",
       "      <th>JavaScript</th>\n",
       "      <td>370</td>\n",
       "      <td>1057922</td>\n",
       "      <td>185314</td>\n",
       "      <td>3424</td>\n",
       "      <td>2859.248649</td>\n",
       "      <td>9.254054</td>\n",
       "      <td>5.708808</td>\n",
       "    </tr>\n",
       "  </tbody>\n",
       "</table>\n",
       "</div>"
      ],
      "text/plain": [
       "              packages      code  comment   files  lines_per_package  \\\n",
       "language                                                               \n",
       "R                14689  22822548  9414210  267967        1553.716931   \n",
       "Markdown          5710    636948        1    9036         111.549562   \n",
       "HTML              3680   4293856    32783    7893        1166.808696   \n",
       "C                 2162   4764598  1171456   13540        2203.791859   \n",
       "C++               2041   3957771   817848   16442        1939.133268   \n",
       "C/C++ Header      1867   5898801  1960911   42153        3159.507766   \n",
       "Bourne Shell       500    875560   132514    1056        1751.120000   \n",
       "CSS                459    536705    12581    1555        1169.291939   \n",
       "TeX                401    357252    55114    1435         890.902743   \n",
       "JavaScript         370   1057922   185314    3424        2859.248649   \n",
       "\n",
       "              files_per_package  code_code_ratio  \n",
       "language                                          \n",
       "R                     18.242699         2.424266  \n",
       "Markdown               1.582487    636948.000000  \n",
       "HTML                   2.144837       130.978129  \n",
       "C                      6.262720         4.067245  \n",
       "C++                    8.055855         4.839250  \n",
       "C/C++ Header          22.577933         3.008194  \n",
       "Bourne Shell           2.112000         6.607302  \n",
       "CSS                    3.387800        42.659963  \n",
       "TeX                    3.578554         6.482055  \n",
       "JavaScript             9.254054         5.708808  "
      ]
     },
     "execution_count": 140,
     "metadata": {},
     "output_type": "execute_result"
    }
   ],
   "source": [
    "# Summary stats\n",
    "\n",
    "by_language = (\n",
    "    df.groupby(\"language\")\n",
    "    .agg(\n",
    "        packages=(\"code\", \"count\"),\n",
    "        code=(\"code\", \"sum\"),\n",
    "        comment=(\"comment\", \"sum\"),\n",
    "        files=(\"file\", \"sum\"),\n",
    "    )\n",
    "    .assign(\n",
    "        lines_per_package=lambda df: df.code / df.packages,\n",
    "        files_per_package=lambda df: df.files / df.packages,\n",
    "        code_code_ratio=lambda df: df.code / df.comment,\n",
    "    )\n",
    "    .sort_values(\"packages\", ascending=False)\n",
    "    .head(10)\n",
    ")\n",
    "by_language"
   ]
  },
  {
   "cell_type": "code",
   "execution_count": 139,
   "metadata": {},
   "outputs": [
    {
     "data": {
      "text/plain": [
       "Text(0.5, 0, 'Number of packages written in langauge')"
      ]
     },
     "execution_count": 139,
     "metadata": {},
     "output_type": "execute_result"
    },
    {
     "data": {
      "image/png": "[encoded data removed]",
      "text/plain": [
       "<Figure size 576x396 with 1 Axes>"
      ]
     },
     "metadata": {},
     "output_type": "display_data"
    }
   ],
   "source": [
    "# Plot number of packages by language\n",
    "\n",
    "by_language[\"packages\"].sort_values(ascending=True).plot(kind=\"barh\")\n",
    "plt.xlabel(\"Number of packages written in langauge\")"
   ]
  },
  {
   "cell_type": "code",
   "execution_count": null,
   "metadata": {},
   "outputs": [],
   "source": []
  }
 ],
 "metadata": {
  "kernelspec": {
   "display_name": "basics",
   "language": "python",
   "name": "basics"
  },
  "language_info": {
   "codemirror_mode": {
    "name": "ipython",
    "version": 3
   },
   "file_extension": ".py",
   "mimetype": "text/x-python",
   "name": "python",
   "nbconvert_exporter": "python",
   "pygments_lexer": "ipython3",
   "version": "3.7.6"
  }
 },
 "nbformat": 4,
 "nbformat_minor": 4
}
